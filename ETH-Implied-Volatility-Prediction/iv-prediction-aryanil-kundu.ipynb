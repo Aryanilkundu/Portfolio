{
 "cells": [
  {
   "cell_type": "markdown",
   "metadata": {},
   "source": [
    "# Importing and Installing Libraries"
   ]
  },
  {
   "cell_type": "code",
   "execution_count": 39,
   "metadata": {
    "execution": {
     "iopub.execute_input": "2025-08-16T09:07:54.945152Z",
     "iopub.status.busy": "2025-08-16T09:07:54.944868Z",
     "iopub.status.idle": "2025-08-16T09:08:01.346365Z",
     "shell.execute_reply": "2025-08-16T09:08:01.345517Z",
     "shell.execute_reply.started": "2025-08-16T09:07:54.945131Z"
    }
   },
   "outputs": [
    {
     "name": "stdout",
     "output_type": "stream",
     "text": [
      "Requirement already satisfied: arch in /usr/local/lib/python3.11/dist-packages (7.2.0)\n",
      "Requirement already satisfied: numpy>=1.22.3 in /usr/local/lib/python3.11/dist-packages (from arch) (1.26.4)\n",
      "Requirement already satisfied: scipy>=1.8 in /usr/local/lib/python3.11/dist-packages (from arch) (1.15.3)\n",
      "Requirement already satisfied: pandas>=1.4 in /usr/local/lib/python3.11/dist-packages (from arch) (2.2.3)\n",
      "Requirement already satisfied: statsmodels>=0.12 in /usr/local/lib/python3.11/dist-packages (from arch) (0.14.4)\n",
      "Requirement already satisfied: mkl_fft in /usr/local/lib/python3.11/dist-packages (from numpy>=1.22.3->arch) (1.3.8)\n",
      "Requirement already satisfied: mkl_random in /usr/local/lib/python3.11/dist-packages (from numpy>=1.22.3->arch) (1.2.4)\n",
      "Requirement already satisfied: mkl_umath in /usr/local/lib/python3.11/dist-packages (from numpy>=1.22.3->arch) (0.1.1)\n",
      "Requirement already satisfied: mkl in /usr/local/lib/python3.11/dist-packages (from numpy>=1.22.3->arch) (2025.2.0)\n",
      "Requirement already satisfied: tbb4py in /usr/local/lib/python3.11/dist-packages (from numpy>=1.22.3->arch) (2022.2.0)\n",
      "Requirement already satisfied: mkl-service in /usr/local/lib/python3.11/dist-packages (from numpy>=1.22.3->arch) (2.4.1)\n",
      "Requirement already satisfied: python-dateutil>=2.8.2 in /usr/local/lib/python3.11/dist-packages (from pandas>=1.4->arch) (2.9.0.post0)\n",
      "Requirement already satisfied: pytz>=2020.1 in /usr/local/lib/python3.11/dist-packages (from pandas>=1.4->arch) (2025.2)\n",
      "Requirement already satisfied: tzdata>=2022.7 in /usr/local/lib/python3.11/dist-packages (from pandas>=1.4->arch) (2025.2)\n",
      "Requirement already satisfied: patsy>=0.5.6 in /usr/local/lib/python3.11/dist-packages (from statsmodels>=0.12->arch) (1.0.1)\n",
      "Requirement already satisfied: packaging>=21.3 in /usr/local/lib/python3.11/dist-packages (from statsmodels>=0.12->arch) (25.0)\n",
      "Requirement already satisfied: six>=1.5 in /usr/local/lib/python3.11/dist-packages (from python-dateutil>=2.8.2->pandas>=1.4->arch) (1.17.0)\n",
      "Requirement already satisfied: intel-openmp<2026,>=2024 in /usr/local/lib/python3.11/dist-packages (from mkl->numpy>=1.22.3->arch) (2024.2.0)\n",
      "Requirement already satisfied: tbb==2022.* in /usr/local/lib/python3.11/dist-packages (from mkl->numpy>=1.22.3->arch) (2022.2.0)\n",
      "Requirement already satisfied: tcmlib==1.* in /usr/local/lib/python3.11/dist-packages (from tbb==2022.*->mkl->numpy>=1.22.3->arch) (1.4.0)\n",
      "Requirement already satisfied: intel-cmplr-lib-rt in /usr/local/lib/python3.11/dist-packages (from mkl_umath->numpy>=1.22.3->arch) (2024.2.0)\n",
      "Requirement already satisfied: intel-cmplr-lib-ur==2024.2.0 in /usr/local/lib/python3.11/dist-packages (from intel-openmp<2026,>=2024->mkl->numpy>=1.22.3->arch) (2024.2.0)\n",
      "Requirement already satisfied: pykalman in /usr/local/lib/python3.11/dist-packages (0.10.1)\n",
      "Requirement already satisfied: numpy<3 in /usr/local/lib/python3.11/dist-packages (from pykalman) (1.26.4)\n",
      "Requirement already satisfied: packaging in /usr/local/lib/python3.11/dist-packages (from pykalman) (25.0)\n",
      "Requirement already satisfied: scikit-base<0.13.0 in /usr/local/lib/python3.11/dist-packages (from pykalman) (0.12.4)\n",
      "Requirement already satisfied: scipy<2.0.0 in /usr/local/lib/python3.11/dist-packages (from pykalman) (1.15.3)\n",
      "Requirement already satisfied: mkl_fft in /usr/local/lib/python3.11/dist-packages (from numpy<3->pykalman) (1.3.8)\n",
      "Requirement already satisfied: mkl_random in /usr/local/lib/python3.11/dist-packages (from numpy<3->pykalman) (1.2.4)\n",
      "Requirement already satisfied: mkl_umath in /usr/local/lib/python3.11/dist-packages (from numpy<3->pykalman) (0.1.1)\n",
      "Requirement already satisfied: mkl in /usr/local/lib/python3.11/dist-packages (from numpy<3->pykalman) (2025.2.0)\n",
      "Requirement already satisfied: tbb4py in /usr/local/lib/python3.11/dist-packages (from numpy<3->pykalman) (2022.2.0)\n",
      "Requirement already satisfied: mkl-service in /usr/local/lib/python3.11/dist-packages (from numpy<3->pykalman) (2.4.1)\n",
      "Requirement already satisfied: intel-openmp<2026,>=2024 in /usr/local/lib/python3.11/dist-packages (from mkl->numpy<3->pykalman) (2024.2.0)\n",
      "Requirement already satisfied: tbb==2022.* in /usr/local/lib/python3.11/dist-packages (from mkl->numpy<3->pykalman) (2022.2.0)\n",
      "Requirement already satisfied: tcmlib==1.* in /usr/local/lib/python3.11/dist-packages (from tbb==2022.*->mkl->numpy<3->pykalman) (1.4.0)\n",
      "Requirement already satisfied: intel-cmplr-lib-rt in /usr/local/lib/python3.11/dist-packages (from mkl_umath->numpy<3->pykalman) (2024.2.0)\n",
      "Requirement already satisfied: intel-cmplr-lib-ur==2024.2.0 in /usr/local/lib/python3.11/dist-packages (from intel-openmp<2026,>=2024->mkl->numpy<3->pykalman) (2024.2.0)\n"
     ]
    }
   ],
   "source": [
    "import pandas as pd \n",
    "import numpy as np\n",
    "import matplotlib.pyplot as plt\n",
    "import seaborn as sns\n",
    "!pip install arch\n",
    "from arch import arch_model\n",
    "\n",
    "!pip install pykalman\n",
    "\n",
    "from pykalman import KalmanFilter\n",
    "import warnings\n",
    "warnings.filterwarnings(\"ignore\")\n"
   ]
  },
  {
   "cell_type": "markdown",
   "metadata": {},
   "source": [
    "# Processing Data and Creating Basic Features\n",
    "\n",
    "This Python script provides a function to process high-frequency order book data. It automates the workflow from a raw CSV file to a feature-rich DataFrame ready for modeling.\n",
    "* Timestamp Correction : It loads the raw data and corrects timestamps, handling cases with multiple entries per minute by creating a sequential, second-level index.\n",
    "\n",
    "1. Gap-Filling: The data is resampled to a 1-second frequency, and any missing data points are filled using a forward-fill (ffill) method to create a continuous time series.\n",
    "\n",
    "2. Feature Engineering: It then calculates a set of fundamental features from the order book, including log returns, rolling volatility, Weighted Average Price (WAP), and Order Book Imbalance (OBI).\n",
    "\n",
    "> *process_asset_data* function creates dataframes like ETH_train_filled, ETH_test_filled, BTC_train_filled etc."
   ]
  },
  {
   "cell_type": "code",
   "execution_count": 3,
   "metadata": {
    "_cell_guid": "b1076dfc-b9ad-4769-8c92-a6c4dae69d19",
    "_uuid": "8f2839f25d086af736a60e9eeb907d3b93b6e0e5",
    "execution": {
     "iopub.execute_input": "2025-08-16T06:55:34.327371Z",
     "iopub.status.busy": "2025-08-16T06:55:34.326781Z",
     "iopub.status.idle": "2025-08-16T06:55:34.337105Z",
     "shell.execute_reply": "2025-08-16T06:55:34.336589Z",
     "shell.execute_reply.started": "2025-08-16T06:55:34.327348Z"
    }
   },
   "outputs": [],
   "source": [
    "def calculate_wap_robust(df, level=1):\n",
    "    bid_p, ask_p = f'bid_price{level}', f'ask_price{level}'\n",
    "    bid_v, ask_v = f'bid_volume{level}', f'ask_volume{level}'\n",
    "    numerator = (df[bid_p] * df[ask_v]) + (df[ask_p] * df[bid_v])\n",
    "    denominator = df[bid_v] + df[ask_v]\n",
    "    return np.where(denominator > 0, numerator / denominator, df['mid_price'])\n",
    "\n",
    "def process_asset_data(asset_name, directory = 'train'):\n",
    "    \"\"\"creates dataframes with index as proper timestamp and forward filled data \n",
    "    \"\"\"\n",
    "    \n",
    "    print(f\"\\n--- Processing data for {asset_name} ---\")\n",
    "    \n",
    "    file_path = f\"/kaggle/input/gq-dataset/{directory}/{asset_name}.csv\"\n",
    "    df = pd.read_csv(file_path)\n",
    "\n",
    "    try:\n",
    "        df['timestamp'] = pd.to_datetime(df['timestamp'], format='%d-%m-%Y %H:%M')\n",
    "    except ValueError:\n",
    "        df['timestamp'] = pd.to_datetime(df['timestamp'])\n",
    "        \n",
    "    if df['timestamp'].dt.second.sum() == 0:\n",
    "        df['seconds_to_add'] = df.groupby('timestamp').cumcount()\n",
    "        df['new_timestamp'] = df['timestamp'] + pd.to_timedelta(df['seconds_to_add'], unit='s')\n",
    "        df.drop(columns=['timestamp', 'seconds_to_add'], inplace=True)\n",
    "        df.rename(columns={'new_timestamp': 'timestamp'}, inplace=True)\n",
    "\n",
    "    df = df.set_index('timestamp').sort_index()\n",
    "\n",
    "    full_range = pd.date_range(start=df.index.min(), end=df.index.max(), freq='S')\n",
    "    df_filled = df.reindex(full_range).ffill().bfill()\n",
    "    print(f\"Loaded and resampled to {len(df_filled)} rows.\")\n",
    "    \n",
    "    df_filled['log_return'] = np.log(df_filled['mid_price']).diff()\n",
    "    df_filled[f'rolling_vol_{asset_name}'] = df_filled['log_return'].rolling(window=600).std()\n",
    "    \n",
    "    for i in range(1, 6):\n",
    "        df_filled[f'wap{i}_{asset_name}'] = calculate_wap_robust(df_filled, level=i)\n",
    "        \n",
    "    bid_vols = df_filled[[f'bid_volume{i}' for i in range(1, 6)]].sum(axis=1)\n",
    "    ask_vols = df_filled[[f'ask_volume{i}' for i in range(1, 6)]].sum(axis=1)\n",
    "    df_filled[f'obi_{asset_name}'] = bid_vols / (bid_vols + ask_vols)\n",
    "    \n",
    "    df_filled.replace([np.inf, -np.inf], np.nan, inplace=True)\n",
    "    df_filled.ffill(inplace=True)\n",
    "    df_filled.bfill(inplace=True)\n",
    "    print(\"Basic feature engineering complete.\")\n",
    "\n",
    "    \n",
    "    return {f\"{asset_name}_{directory}_filled\": df_filled}"
   ]
  },
  {
   "cell_type": "markdown",
   "metadata": {},
   "source": [
    "# Feature Creation\n"
   ]
  },
  {
   "cell_type": "markdown",
   "metadata": {},
   "source": [
    "## Volatility Features\n",
    "\n",
    "Our main focus would be trying to predict volatility under different assumptions. One such attempt is rolling historical volatility, but it is based on only historical data and not robust. So we use the following features as substitutes of Implied Volatility:\n",
    "> create_advanced_volatility_features\n",
    "* OHLC Resampling: The function first transforms the 1-second mid_price data into lower-frequency OHLC bars (e.g., over 15-minute intervals).\n",
    "* Estimator Calculation: It then uses these bars to calculate three distinct volatility measures:\n",
    "  1. **Parkinson Volatility**: Uses the high-low price range. The variance is calculated as: $$\\sigma^2 = \\frac{1}{4 ln 2} (ln(\\frac{High}{Low}))^2.$$\n",
    "  2. **Garman-Klass Volatility**: Extends the Parkinson model by also incorporating the open and close prices. The variance is calculated as: $$\\sigma^2=0.5 (ln(\\frac{High}{Low}))^2 - (2ln2-1)(ln(\\frac{Close}{Open}))^2 $$\n",
    "  3. **Yang-Zhang Volatility**: A highly robust estimator that combines the intraday price range with the overnight price jump. The variance is calculated as: $$\\sigma_{t}^2 =  k (\\ln(\\frac{Open_{t}}{Close_{t-1}}))^2+ (1-k) \\sigma^2_{Garman-Klass}$$ where $k= \\frac{0.34}{1.34+\\frac{n+1}{n-1}}$, $n$ is the number of seconds/mins to look behind (15 here).\n",
    "\n",
    "\n",
    "> add_advanced_vol_features\n",
    "\n",
    "This function generates volatility forecasts using two distinct time-series models. To ensure the features are valid for predictive modeling and free from data leakage, it follows a strict \"fit on train, predict on test\" methodology. \n",
    "1. **GARCH Model**: It fits a GARCH(1,1) model on the training set's price returns to capture volatility clustering. The formula for the conditional variance is $$\\sigma_{t}^2 = \\omega + \\alpha \\epsilon_{t-1}^2+\\beta \\sigma_{t-1}^2$$\n",
    "2.  **Kalman Filter**: It uses a Kalman filter to estimate the hidden volatility state from the observed squared returns. The filter is trained on the training set, and its final state is used to initialize an online, one-step-at-a-time forecast for the test set.\n",
    "\n",
    "\n",
    ">add_bollinger_bandwidth\n",
    "\n",
    "This function calculates the Bollinger Bandwidth, a classic technical indicator that measures volatility relative to the current price level. It calculates a central moving average and upper/lower bands set at a specified number of standard deviations away, then computes the normalized width between the bands. This is particularly useful for identifying periods of volatility contraction (a \"squeeze\").\n",
    "$$Bandwidth = \\frac{UpperBand - LowerBand}{Middle Band}$$"
   ]
  },
  {
   "cell_type": "code",
   "execution_count": 4,
   "metadata": {
    "_cell_guid": "b1076dfc-b9ad-4769-8c92-a6c4dae69d19",
    "_uuid": "8f2839f25d086af736a60e9eeb907d3b93b6e0e5",
    "execution": {
     "iopub.execute_input": "2025-08-16T06:55:44.499279Z",
     "iopub.status.busy": "2025-08-16T06:55:44.498976Z",
     "iopub.status.idle": "2025-08-16T06:55:44.512603Z",
     "shell.execute_reply": "2025-08-16T06:55:44.511973Z",
     "shell.execute_reply.started": "2025-08-16T06:55:44.499255Z"
    }
   },
   "outputs": [],
   "source": [
    "def add_advanced_vol_features(train_df, test_df, asset_name):\n",
    "    \"\"\"\n",
    "    Fits GARCH and Kalman models on the training data and generates features\n",
    "    for both the training and testing sets.\n",
    "    \"\"\"\n",
    "    print(f\"Adding GARCH & Kalman features for {asset_name}...\")\n",
    "    \n",
    "    # --- GARCH Feature ---\n",
    "    # Fit on training data\n",
    "    train_returns = 100 * np.log(train_df['mid_price']).diff().dropna()\n",
    "    garch_model = arch_model(train_returns, p=1, q=1, vol='Garch')\n",
    "    garch_fit = garch_model.fit(disp='off')\n",
    "    \n",
    "    # Add in-sample feature to the training set\n",
    "    train_df[f'garch_vol_{asset_name}'] = np.sqrt(garch_fit.conditional_volatility) / 100\n",
    "    \n",
    "    # Generate out-of-sample forecast for the test set\n",
    "    forecasts = garch_fit.forecast(horizon=len(test_df), reindex=False)\n",
    "    predicted_variance = forecasts.variance.iloc[0].values\n",
    "    aligned_forecasts = pd.Series(predicted_variance, index=test_df.index)\n",
    "    test_df[f'garch_vol_{asset_name}'] = np.sqrt(aligned_forecasts)\n",
    "\n",
    "    # --- Kalman Filter Feature ---\n",
    "    # Prepare observed variable (squared returns)\n",
    "    train_obs = np.log(train_df['mid_price']).diff().dropna()**2\n",
    "    test_obs = np.log(test_df['mid_price']).diff().dropna()**2\n",
    "    \n",
    "    # Initialize and fit on training data\n",
    "    kf = KalmanFilter(initial_state_mean=0, n_dim_obs=1, transition_covariance=0.01, \n",
    "                      observation_covariance=1, transition_matrices=[1], \n",
    "                      observation_matrices=[1], initial_state_covariance=1)\n",
    "    state_means_train, state_covs_train = kf.filter(train_obs.values)\n",
    "    \n",
    "    #  Add in-sample feature to the training set\n",
    "    train_df[f'kalman_vol_{asset_name}'] = pd.Series(np.sqrt(np.maximum(0, state_means_train.flatten())), index=train_obs.index)\n",
    "\n",
    "    #  Generate out-of-sample forecast for the test set (online)\n",
    "    last_state_mean = state_means_train[-1]\n",
    "    last_state_cov = state_covs_train[-1]\n",
    "    state_means_test = []\n",
    "    for obs in test_obs.values:\n",
    "        last_state_mean, last_state_cov = kf.filter_update(\n",
    "            filtered_state_mean=last_state_mean,\n",
    "            filtered_state_covariance=last_state_cov,\n",
    "            observation=obs\n",
    "        )\n",
    "        state_means_test.append(last_state_mean[0])\n",
    "    \n",
    "    test_df[f'kalman_vol_{asset_name}'] = pd.Series(np.sqrt(np.maximum(0, state_means_test)), index=test_obs.index)\n",
    "\n",
    "    \n",
    "    \n",
    "    # --- Final Cleanup ---\n",
    "    train_df.ffill(inplace=True)\n",
    "    train_df.bfill(inplace=True)\n",
    "    test_df.ffill(inplace=True)\n",
    "    test_df.bfill(inplace=True)\n",
    "    \n",
    "    print(\"GARCH & Kalman features added.\")\n",
    "    \n",
    "    return train_df, test_df\n",
    "\n",
    "\n",
    "def create_advanced_volatility_features(df, asset_name = 'eth', window_minutes=15):\n",
    "    \"\"\"\n",
    "    Creates OHLC bars and calculates advanced volatility estimators.\n",
    "    \"\"\"\n",
    "    print(f\"Calculating advanced volatility for {asset_name}...\")\n",
    "    \n",
    "    #  Create OHLC Bars \n",
    "    # Resample the 1-second mid_price data into N-minute bars\n",
    "    resample_period = f'{window_minutes}min'\n",
    "    ohlc = df['mid_price'].resample(resample_period).ohlc()\n",
    "    \n",
    "    # Calculate log returns for the estimators\n",
    "    log_ho = np.log(ohlc['high'] / ohlc['open'])\n",
    "    log_lo = np.log(ohlc['low'] / ohlc['open'])\n",
    "    log_co = np.log(ohlc['close'] / ohlc['open'])\n",
    "    log_oc = np.log(ohlc['open'] / ohlc['close'].shift(1)) # Overnight jump\n",
    "\n",
    "    # Calculate Volatility Estimators \n",
    "    # Parkinson Volatility\n",
    "    parkinson_vol = np.sqrt((1 / (4 * np.log(2))) * ((log_ho - log_lo) ** 2))\n",
    "    \n",
    "    # Garman-Klass Volatility\n",
    "    garman_klass_vol = np.sqrt(0.5 * (log_ho - log_lo)**2 - (2*np.log(2) - 1) * log_co**2)\n",
    "    \n",
    "    # Yang-Zhang Volatility\n",
    "    k = 0.34 / (1.34 + (window_minutes + 1) / (window_minutes - 1))\n",
    "    yang_zhang_vol = np.sqrt(k*log_oc**2 + (1-k)*(0.5 * (log_ho - log_lo)**2 - (2*np.log(2) - 1) * log_co**2))\n",
    "\n",
    "    #  Add Features to OHLC DataFrame \n",
    "    ohlc[f'parkinson_vol_{asset_name}'] = parkinson_vol\n",
    "    ohlc[f'garman_klass_vol_{asset_name}'] = garman_klass_vol\n",
    "    ohlc[f'yang_zhang_vol_{asset_name}'] = yang_zhang_vol\n",
    "    \n",
    "    # Merge Features Back into Original DataFrame \n",
    "    # Select only the new volatility features\n",
    "    vol_features = ohlc[[f'parkinson_vol_{asset_name}', f'garman_klass_vol_{asset_name}', f'yang_zhang_vol_{asset_name}']]\n",
    "    \n",
    "    # Merge them back to the original high-frequency DataFrame\n",
    "    merged_df = df.merge(vol_features, left_index=True, right_index=True, how='left')\n",
    "    \n",
    "    # Forward-fill the values, as the volatility is constant for each 15-minute block\n",
    "    merged_df.ffill(inplace=True)\n",
    "    merged_df.bfill(inplace=True)\n",
    "    \n",
    "    print(\"Advanced volatility features created.\")\n",
    "    return merged_df\n",
    "\n",
    "\n",
    "def add_bollinger_bandwidth(df, window=600, k=2):\n",
    "    \"\"\"\n",
    "    Calculates and adds Bollinger Bandwidth as a new feature.\n",
    "    \n",
    "    Args:\n",
    "        df (pd.DataFrame): The input DataFrame with a 'mid_price' column.\n",
    "        window (int): The moving average window size (e.g., 600 for 10 minutes).\n",
    "        k (int): The number of standard deviations for the bands.\n",
    "    \"\"\"\n",
    "    df['bb_middle'] = df['mid_price'].rolling(window=window).mean()\n",
    "    df['bb_std'] = df['mid_price'].rolling(window=window).std()\n",
    "    df['bb_upper'] = df['bb_middle'] + (df['bb_std'] * k)\n",
    "    df['bb_lower'] = df['bb_middle'] - (df['bb_std'] * k)\n",
    "    df['bollinger_bandwidth'] = (df['bb_upper'] - df['bb_lower']) / df['bb_middle']\n",
    "    df.drop(columns=['bb_middle', 'bb_std', 'bb_upper', 'bb_lower'], inplace=True)\n",
    "    \n",
    "    return df\n"
   ]
  },
  {
   "cell_type": "markdown",
   "metadata": {},
   "source": [
    "## Spline Feature \n",
    "\n",
    "A **spline** is a smooth, piecewise polynomial function used to model non-linear relationships between a predictor and a target.  Here , we use **B-splines** (`bs()` in Patsy) on a `time_numeric` variable to capture complex time-dependent patterns but only for ETH data.\n",
    "\n",
    "- **Why use splines?**  \n",
    "  They allow flexibility without overfitting by breaking the predictor into sections and fitting low-degree polynomials.\n",
    "\n",
    "- **Key parameters:**  \n",
    "  - `df=30`: Number of spline basis functions (controls flexibility).  \n",
    "  - `degree=3`: Cubic spline (smooth curves).  \n",
    "  - `include_intercept=False`: Avoids redundant intercept terms.\n"
   ]
  },
  {
   "cell_type": "code",
   "execution_count": 17,
   "metadata": {
    "execution": {
     "iopub.execute_input": "2025-08-16T07:28:16.563984Z",
     "iopub.status.busy": "2025-08-16T07:28:16.563719Z",
     "iopub.status.idle": "2025-08-16T07:28:25.822605Z",
     "shell.execute_reply": "2025-08-16T07:28:25.821903Z",
     "shell.execute_reply.started": "2025-08-16T07:28:16.563968Z"
    }
   },
   "outputs": [
    {
     "name": "stdout",
     "output_type": "stream",
     "text": [
      "Spline model fitted on the training data.\n",
      "Generated spline feature for the test set.\n"
     ]
    }
   ],
   "source": [
    "import statsmodels.api as sm\n",
    "from patsy import dmatrices, dmatrix\n",
    "\n",
    "ETH_train_filled['time_numeric'] = (ETH_train_filled.index - ETH_train_filled.index.min()).total_seconds()\n",
    "ETH_test_filled['time_numeric'] = (ETH_test_filled.index - ETH_test_filled.index.min()).total_seconds()\n",
    "\n",
    "formula = \"label ~ bs(time_numeric, df=30, degree=3, include_intercept=False)\"\n",
    "y_train_spline, X_train_spline = dmatrices(formula, data=ETH_train_filled, return_type='dataframe')\n",
    "spline_model = sm.GLM(y_train_spline, X_train_spline)\n",
    "spline_results = spline_model.fit()\n",
    "print(\"Spline model fitted on the training data.\")\n",
    "\n",
    "# Add the feature to the training set\n",
    "ETH_train_filled['spline_feature'] = spline_results.predict(X_train_spline)\n",
    "\n",
    "#  Generate the spline feature for the TEST set \n",
    "X_test_spline = dmatrix(\"bs(time_numeric, df=30, degree=3, include_intercept=False)\",\n",
    "                        data=ETH_test_filled,\n",
    "                        return_type='dataframe')\n",
    "\n",
    "# Use the fitted spline_results to predict on the new X_test_spline\n",
    "ETH_test_filled['spline_feature'] = spline_results.predict(X_test_spline)\n",
    "print(\"Generated spline feature for the test set.\")"
   ]
  },
  {
   "cell_type": "code",
   "execution_count": 6,
   "metadata": {
    "execution": {
     "iopub.execute_input": "2025-08-16T06:56:10.509010Z",
     "iopub.status.busy": "2025-08-16T06:56:10.508784Z",
     "iopub.status.idle": "2025-08-16T06:56:52.094235Z",
     "shell.execute_reply": "2025-08-16T06:56:52.093569Z",
     "shell.execute_reply.started": "2025-08-16T06:56:10.508993Z"
    }
   },
   "outputs": [
    {
     "name": "stdout",
     "output_type": "stream",
     "text": [
      "\n",
      "--- Processing data for ETH ---\n"
     ]
    },
    {
     "name": "stderr",
     "output_type": "stream",
     "text": [
      "/tmp/ipykernel_36/3932633479.py:30: FutureWarning: 'S' is deprecated and will be removed in a future version, please use 's' instead.\n",
      "  full_range = pd.date_range(start=df.index.min(), end=df.index.max(), freq='S')\n"
     ]
    },
    {
     "name": "stdout",
     "output_type": "stream",
     "text": [
      "Loaded and resampled to 631292 rows.\n",
      "Basic feature engineering complete.\n",
      "\n",
      "--- Processing data for ETH ---\n"
     ]
    },
    {
     "name": "stderr",
     "output_type": "stream",
     "text": [
      "/tmp/ipykernel_36/3932633479.py:30: FutureWarning: 'S' is deprecated and will be removed in a future version, please use 's' instead.\n",
      "  full_range = pd.date_range(start=df.index.min(), end=df.index.max(), freq='S')\n"
     ]
    },
    {
     "name": "stdout",
     "output_type": "stream",
     "text": [
      "Loaded and resampled to 270558 rows.\n",
      "Basic feature engineering complete.\n",
      "Calculating advanced volatility for eth...\n"
     ]
    },
    {
     "name": "stderr",
     "output_type": "stream",
     "text": [
      "/usr/local/lib/python3.11/dist-packages/pandas/core/arraylike.py:399: RuntimeWarning: invalid value encountered in log\n",
      "  result = getattr(ufunc, method)(*inputs, **kwargs)\n"
     ]
    },
    {
     "name": "stdout",
     "output_type": "stream",
     "text": [
      "Advanced volatility features created.\n",
      "Calculating advanced volatility for eth...\n",
      "Advanced volatility features created.\n"
     ]
    },
    {
     "name": "stderr",
     "output_type": "stream",
     "text": [
      "/usr/local/lib/python3.11/dist-packages/pandas/core/arraylike.py:399: RuntimeWarning: invalid value encountered in log\n",
      "  result = getattr(ufunc, method)(*inputs, **kwargs)\n"
     ]
    },
    {
     "name": "stdout",
     "output_type": "stream",
     "text": [
      "--> Successfully created  DataFrames for ETH\n",
      "\n",
      "--- Processing data for BTC ---\n"
     ]
    },
    {
     "name": "stderr",
     "output_type": "stream",
     "text": [
      "/tmp/ipykernel_36/3932633479.py:30: FutureWarning: 'S' is deprecated and will be removed in a future version, please use 's' instead.\n",
      "  full_range = pd.date_range(start=df.index.min(), end=df.index.max(), freq='S')\n"
     ]
    },
    {
     "name": "stdout",
     "output_type": "stream",
     "text": [
      "Loaded and resampled to 631320 rows.\n",
      "Basic feature engineering complete.\n",
      "\n",
      "--- Processing data for BTC ---\n"
     ]
    },
    {
     "name": "stderr",
     "output_type": "stream",
     "text": [
      "/tmp/ipykernel_36/3932633479.py:30: FutureWarning: 'S' is deprecated and will be removed in a future version, please use 's' instead.\n",
      "  full_range = pd.date_range(start=df.index.min(), end=df.index.max(), freq='S')\n"
     ]
    },
    {
     "name": "stdout",
     "output_type": "stream",
     "text": [
      "Loaded and resampled to 270558 rows.\n",
      "Basic feature engineering complete.\n",
      "Calculating advanced volatility for btc...\n"
     ]
    },
    {
     "name": "stderr",
     "output_type": "stream",
     "text": [
      "/usr/local/lib/python3.11/dist-packages/pandas/core/arraylike.py:399: RuntimeWarning: invalid value encountered in log\n",
      "  result = getattr(ufunc, method)(*inputs, **kwargs)\n"
     ]
    },
    {
     "name": "stdout",
     "output_type": "stream",
     "text": [
      "Advanced volatility features created.\n",
      "Calculating advanced volatility for btc...\n",
      "Advanced volatility features created.\n"
     ]
    },
    {
     "name": "stderr",
     "output_type": "stream",
     "text": [
      "/usr/local/lib/python3.11/dist-packages/pandas/core/arraylike.py:399: RuntimeWarning: invalid value encountered in log\n",
      "  result = getattr(ufunc, method)(*inputs, **kwargs)\n"
     ]
    },
    {
     "name": "stdout",
     "output_type": "stream",
     "text": [
      "--> Successfully created  DataFrames for BTC\n",
      "\n",
      "--- Processing data for DOGE ---\n"
     ]
    },
    {
     "name": "stderr",
     "output_type": "stream",
     "text": [
      "/tmp/ipykernel_36/3932633479.py:30: FutureWarning: 'S' is deprecated and will be removed in a future version, please use 's' instead.\n",
      "  full_range = pd.date_range(start=df.index.min(), end=df.index.max(), freq='S')\n"
     ]
    },
    {
     "name": "stdout",
     "output_type": "stream",
     "text": [
      "Loaded and resampled to 631320 rows.\n",
      "Basic feature engineering complete.\n",
      "\n",
      "--- Processing data for DOGE ---\n"
     ]
    },
    {
     "name": "stderr",
     "output_type": "stream",
     "text": [
      "/tmp/ipykernel_36/3932633479.py:30: FutureWarning: 'S' is deprecated and will be removed in a future version, please use 's' instead.\n",
      "  full_range = pd.date_range(start=df.index.min(), end=df.index.max(), freq='S')\n"
     ]
    },
    {
     "name": "stdout",
     "output_type": "stream",
     "text": [
      "Loaded and resampled to 270558 rows.\n",
      "Basic feature engineering complete.\n",
      "Calculating advanced volatility for doge...\n"
     ]
    },
    {
     "name": "stderr",
     "output_type": "stream",
     "text": [
      "/usr/local/lib/python3.11/dist-packages/pandas/core/arraylike.py:399: RuntimeWarning: invalid value encountered in log\n",
      "  result = getattr(ufunc, method)(*inputs, **kwargs)\n"
     ]
    },
    {
     "name": "stdout",
     "output_type": "stream",
     "text": [
      "Advanced volatility features created.\n",
      "Calculating advanced volatility for doge...\n",
      "Advanced volatility features created.\n"
     ]
    },
    {
     "name": "stderr",
     "output_type": "stream",
     "text": [
      "/usr/local/lib/python3.11/dist-packages/pandas/core/arraylike.py:399: RuntimeWarning: invalid value encountered in log\n",
      "  result = getattr(ufunc, method)(*inputs, **kwargs)\n"
     ]
    },
    {
     "name": "stdout",
     "output_type": "stream",
     "text": [
      "--> Successfully created  DataFrames for DOGE\n",
      "\n",
      "--- Processing data for DOT ---\n"
     ]
    },
    {
     "name": "stderr",
     "output_type": "stream",
     "text": [
      "/tmp/ipykernel_36/3932633479.py:30: FutureWarning: 'S' is deprecated and will be removed in a future version, please use 's' instead.\n",
      "  full_range = pd.date_range(start=df.index.min(), end=df.index.max(), freq='S')\n"
     ]
    },
    {
     "name": "stdout",
     "output_type": "stream",
     "text": [
      "Loaded and resampled to 631320 rows.\n",
      "Basic feature engineering complete.\n",
      "\n",
      "--- Processing data for DOT ---\n"
     ]
    },
    {
     "name": "stderr",
     "output_type": "stream",
     "text": [
      "/tmp/ipykernel_36/3932633479.py:30: FutureWarning: 'S' is deprecated and will be removed in a future version, please use 's' instead.\n",
      "  full_range = pd.date_range(start=df.index.min(), end=df.index.max(), freq='S')\n"
     ]
    },
    {
     "name": "stdout",
     "output_type": "stream",
     "text": [
      "Loaded and resampled to 270558 rows.\n",
      "Basic feature engineering complete.\n",
      "Calculating advanced volatility for dot...\n"
     ]
    },
    {
     "name": "stderr",
     "output_type": "stream",
     "text": [
      "/usr/local/lib/python3.11/dist-packages/pandas/core/arraylike.py:399: RuntimeWarning: invalid value encountered in log\n",
      "  result = getattr(ufunc, method)(*inputs, **kwargs)\n"
     ]
    },
    {
     "name": "stdout",
     "output_type": "stream",
     "text": [
      "Advanced volatility features created.\n",
      "Calculating advanced volatility for dot...\n",
      "Advanced volatility features created.\n"
     ]
    },
    {
     "name": "stderr",
     "output_type": "stream",
     "text": [
      "/usr/local/lib/python3.11/dist-packages/pandas/core/arraylike.py:399: RuntimeWarning: invalid value encountered in log\n",
      "  result = getattr(ufunc, method)(*inputs, **kwargs)\n"
     ]
    },
    {
     "name": "stdout",
     "output_type": "stream",
     "text": [
      "--> Successfully created  DataFrames for DOT\n",
      "\n",
      "--- Processing data for LINK ---\n"
     ]
    },
    {
     "name": "stderr",
     "output_type": "stream",
     "text": [
      "/tmp/ipykernel_36/3932633479.py:30: FutureWarning: 'S' is deprecated and will be removed in a future version, please use 's' instead.\n",
      "  full_range = pd.date_range(start=df.index.min(), end=df.index.max(), freq='S')\n"
     ]
    },
    {
     "name": "stdout",
     "output_type": "stream",
     "text": [
      "Loaded and resampled to 631320 rows.\n",
      "Basic feature engineering complete.\n",
      "\n",
      "--- Processing data for LINK ---\n"
     ]
    },
    {
     "name": "stderr",
     "output_type": "stream",
     "text": [
      "/tmp/ipykernel_36/3932633479.py:30: FutureWarning: 'S' is deprecated and will be removed in a future version, please use 's' instead.\n",
      "  full_range = pd.date_range(start=df.index.min(), end=df.index.max(), freq='S')\n"
     ]
    },
    {
     "name": "stdout",
     "output_type": "stream",
     "text": [
      "Loaded and resampled to 270558 rows.\n",
      "Basic feature engineering complete.\n",
      "Calculating advanced volatility for link...\n"
     ]
    },
    {
     "name": "stderr",
     "output_type": "stream",
     "text": [
      "/usr/local/lib/python3.11/dist-packages/pandas/core/arraylike.py:399: RuntimeWarning: invalid value encountered in log\n",
      "  result = getattr(ufunc, method)(*inputs, **kwargs)\n"
     ]
    },
    {
     "name": "stdout",
     "output_type": "stream",
     "text": [
      "Advanced volatility features created.\n",
      "Calculating advanced volatility for link...\n",
      "Advanced volatility features created.\n"
     ]
    },
    {
     "name": "stderr",
     "output_type": "stream",
     "text": [
      "/usr/local/lib/python3.11/dist-packages/pandas/core/arraylike.py:399: RuntimeWarning: invalid value encountered in log\n",
      "  result = getattr(ufunc, method)(*inputs, **kwargs)\n"
     ]
    },
    {
     "name": "stdout",
     "output_type": "stream",
     "text": [
      "--> Successfully created  DataFrames for LINK\n",
      "\n",
      "--- Processing data for SHIB ---\n"
     ]
    },
    {
     "name": "stderr",
     "output_type": "stream",
     "text": [
      "/tmp/ipykernel_36/3932633479.py:30: FutureWarning: 'S' is deprecated and will be removed in a future version, please use 's' instead.\n",
      "  full_range = pd.date_range(start=df.index.min(), end=df.index.max(), freq='S')\n"
     ]
    },
    {
     "name": "stdout",
     "output_type": "stream",
     "text": [
      "Loaded and resampled to 631320 rows.\n",
      "Basic feature engineering complete.\n",
      "\n",
      "--- Processing data for SHIB ---\n"
     ]
    },
    {
     "name": "stderr",
     "output_type": "stream",
     "text": [
      "/tmp/ipykernel_36/3932633479.py:30: FutureWarning: 'S' is deprecated and will be removed in a future version, please use 's' instead.\n",
      "  full_range = pd.date_range(start=df.index.min(), end=df.index.max(), freq='S')\n"
     ]
    },
    {
     "name": "stdout",
     "output_type": "stream",
     "text": [
      "Loaded and resampled to 270558 rows.\n",
      "Basic feature engineering complete.\n",
      "Calculating advanced volatility for shib...\n"
     ]
    },
    {
     "name": "stderr",
     "output_type": "stream",
     "text": [
      "/usr/local/lib/python3.11/dist-packages/pandas/core/arraylike.py:399: RuntimeWarning: invalid value encountered in log\n",
      "  result = getattr(ufunc, method)(*inputs, **kwargs)\n"
     ]
    },
    {
     "name": "stdout",
     "output_type": "stream",
     "text": [
      "Advanced volatility features created.\n",
      "Calculating advanced volatility for shib...\n",
      "Advanced volatility features created.\n"
     ]
    },
    {
     "name": "stderr",
     "output_type": "stream",
     "text": [
      "/usr/local/lib/python3.11/dist-packages/pandas/core/arraylike.py:399: RuntimeWarning: invalid value encountered in log\n",
      "  result = getattr(ufunc, method)(*inputs, **kwargs)\n"
     ]
    },
    {
     "name": "stdout",
     "output_type": "stream",
     "text": [
      "--> Successfully created  DataFrames for SHIB\n",
      "\n",
      "--- Processing data for SOL ---\n"
     ]
    },
    {
     "name": "stderr",
     "output_type": "stream",
     "text": [
      "/tmp/ipykernel_36/3932633479.py:30: FutureWarning: 'S' is deprecated and will be removed in a future version, please use 's' instead.\n",
      "  full_range = pd.date_range(start=df.index.min(), end=df.index.max(), freq='S')\n"
     ]
    },
    {
     "name": "stdout",
     "output_type": "stream",
     "text": [
      "Loaded and resampled to 631320 rows.\n",
      "Basic feature engineering complete.\n",
      "\n",
      "--- Processing data for SOL ---\n"
     ]
    },
    {
     "name": "stderr",
     "output_type": "stream",
     "text": [
      "/tmp/ipykernel_36/3932633479.py:30: FutureWarning: 'S' is deprecated and will be removed in a future version, please use 's' instead.\n",
      "  full_range = pd.date_range(start=df.index.min(), end=df.index.max(), freq='S')\n"
     ]
    },
    {
     "name": "stdout",
     "output_type": "stream",
     "text": [
      "Loaded and resampled to 270558 rows.\n",
      "Basic feature engineering complete.\n",
      "Calculating advanced volatility for sol...\n"
     ]
    },
    {
     "name": "stderr",
     "output_type": "stream",
     "text": [
      "/usr/local/lib/python3.11/dist-packages/pandas/core/arraylike.py:399: RuntimeWarning: invalid value encountered in log\n",
      "  result = getattr(ufunc, method)(*inputs, **kwargs)\n"
     ]
    },
    {
     "name": "stdout",
     "output_type": "stream",
     "text": [
      "Advanced volatility features created.\n",
      "Calculating advanced volatility for sol...\n",
      "Advanced volatility features created.\n"
     ]
    },
    {
     "name": "stderr",
     "output_type": "stream",
     "text": [
      "/usr/local/lib/python3.11/dist-packages/pandas/core/arraylike.py:399: RuntimeWarning: invalid value encountered in log\n",
      "  result = getattr(ufunc, method)(*inputs, **kwargs)\n"
     ]
    },
    {
     "name": "stdout",
     "output_type": "stream",
     "text": [
      "--> Successfully created  DataFrames for SOL\n",
      "\n",
      "--- All asset DataFrames have been created and enriched. ---\n"
     ]
    }
   ],
   "source": [
    "assets = ['ETH','BTC','DOGE','DOT','LINK','SHIB','SOL']\n",
    "\n",
    "for asset in assets:\n",
    "    #  Process  the data using the first function \n",
    "    asset_data_dict = process_asset_data(asset, 'train')\n",
    "    train_df = asset_data_dict[f'{asset}_train_filled']\n",
    "    asset_data_dict = process_asset_data(asset, 'test')\n",
    "    test_df  = asset_data_dict[f'{asset}_test_filled']\n",
    "\n",
    "    # add diff vol measures \n",
    "    train_df_advanced = create_advanced_volatility_features(train_df, asset.lower())\n",
    "    test_df_advanced = create_advanced_volatility_features(test_df, asset.lower())\n",
    "\n",
    "    # train_df_advanced, test_df_advanced = add_advanced_vol_features(train_df_advanced, test_df_advanced, asset.lower())\n",
    "\n",
    "    train_df_advanced = add_bollinger_bandwidth(train_df_advanced)\n",
    "    test_df_advanced = add_bollinger_bandwidth(test_df_advanced)\n",
    "    \n",
    "    #final DataFrames as separate variables ---\n",
    "    globals()[f\"{asset}_train_filled\"] = train_df_advanced\n",
    "    globals()[f\"{asset}_test_filled\"] = test_df_advanced\n",
    "    print(f\"--> Successfully created  DataFrames for {asset}\")\n",
    "\n",
    "print(\"\\n--- All asset DataFrames have been created and enriched. ---\")"
   ]
  },
  {
   "cell_type": "code",
   "execution_count": 7,
   "metadata": {
    "execution": {
     "iopub.execute_input": "2025-08-16T06:57:40.195122Z",
     "iopub.status.busy": "2025-08-16T06:57:40.194823Z",
     "iopub.status.idle": "2025-08-16T07:14:51.015120Z",
     "shell.execute_reply": "2025-08-16T07:14:51.014339Z",
     "shell.execute_reply.started": "2025-08-16T06:57:40.195098Z"
    }
   },
   "outputs": [
    {
     "name": "stdout",
     "output_type": "stream",
     "text": [
      "Adding GARCH & Kalman features for btc...\n"
     ]
    },
    {
     "name": "stderr",
     "output_type": "stream",
     "text": [
      "/usr/local/lib/python3.11/dist-packages/arch/univariate/base.py:309: DataScaleWarning: y is poorly scaled, which may affect convergence of the optimizer when\n",
      "estimating the model parameters. The scale of y is 3.003e-05. Parameter\n",
      "estimation work better when this value is between 1 and 1000. The recommended\n",
      "rescaling is 100 * y.\n",
      "\n",
      "This warning can be disabled by either rescaling y before initializing the\n",
      "model or by setting rescale=False.\n",
      "\n",
      "  warnings.warn(\n",
      "/usr/local/lib/python3.11/dist-packages/arch/univariate/base.py:768: ConvergenceWarning: The optimizer returned code 4. The message is:\n",
      "Inequality constraints incompatible\n",
      "See scipy.optimize.fmin_slsqp for code meaning.\n",
      "\n",
      "  warnings.warn(\n",
      "/tmp/ipykernel_36/1379962.py:15: SettingWithCopyWarning: \n",
      "A value is trying to be set on a copy of a slice from a DataFrame.\n",
      "Try using .loc[row_indexer,col_indexer] = value instead\n",
      "\n",
      "See the caveats in the documentation: https://pandas.pydata.org/pandas-docs/stable/user_guide/indexing.html#returning-a-view-versus-a-copy\n",
      "  train_df[f'garch_vol_{asset_name}'] = np.sqrt(garch_fit.conditional_volatility) / 100\n",
      "/tmp/ipykernel_36/1379962.py:21: SettingWithCopyWarning: \n",
      "A value is trying to be set on a copy of a slice from a DataFrame.\n",
      "Try using .loc[row_indexer,col_indexer] = value instead\n",
      "\n",
      "See the caveats in the documentation: https://pandas.pydata.org/pandas-docs/stable/user_guide/indexing.html#returning-a-view-versus-a-copy\n",
      "  test_df[f'garch_vol_{asset_name}'] = np.sqrt(aligned_forecasts)\n",
      "/tmp/ipykernel_36/1379962.py:35: SettingWithCopyWarning: \n",
      "A value is trying to be set on a copy of a slice from a DataFrame.\n",
      "Try using .loc[row_indexer,col_indexer] = value instead\n",
      "\n",
      "See the caveats in the documentation: https://pandas.pydata.org/pandas-docs/stable/user_guide/indexing.html#returning-a-view-versus-a-copy\n",
      "  train_df[f'kalman_vol_{asset_name}'] = pd.Series(np.sqrt(np.maximum(0, state_means_train.flatten())), index=train_obs.index)\n",
      "/tmp/ipykernel_36/1379962.py:49: SettingWithCopyWarning: \n",
      "A value is trying to be set on a copy of a slice from a DataFrame.\n",
      "Try using .loc[row_indexer,col_indexer] = value instead\n",
      "\n",
      "See the caveats in the documentation: https://pandas.pydata.org/pandas-docs/stable/user_guide/indexing.html#returning-a-view-versus-a-copy\n",
      "  test_df[f'kalman_vol_{asset_name}'] = pd.Series(np.sqrt(np.maximum(0, state_means_test)), index=test_obs.index)\n",
      "/tmp/ipykernel_36/1379962.py:54: SettingWithCopyWarning: \n",
      "A value is trying to be set on a copy of a slice from a DataFrame\n",
      "\n",
      "See the caveats in the documentation: https://pandas.pydata.org/pandas-docs/stable/user_guide/indexing.html#returning-a-view-versus-a-copy\n",
      "  train_df.ffill(inplace=True)\n",
      "/tmp/ipykernel_36/1379962.py:55: SettingWithCopyWarning: \n",
      "A value is trying to be set on a copy of a slice from a DataFrame\n",
      "\n",
      "See the caveats in the documentation: https://pandas.pydata.org/pandas-docs/stable/user_guide/indexing.html#returning-a-view-versus-a-copy\n",
      "  train_df.bfill(inplace=True)\n",
      "/tmp/ipykernel_36/1379962.py:56: SettingWithCopyWarning: \n",
      "A value is trying to be set on a copy of a slice from a DataFrame\n",
      "\n",
      "See the caveats in the documentation: https://pandas.pydata.org/pandas-docs/stable/user_guide/indexing.html#returning-a-view-versus-a-copy\n",
      "  test_df.ffill(inplace=True)\n",
      "/tmp/ipykernel_36/1379962.py:57: SettingWithCopyWarning: \n",
      "A value is trying to be set on a copy of a slice from a DataFrame\n",
      "\n",
      "See the caveats in the documentation: https://pandas.pydata.org/pandas-docs/stable/user_guide/indexing.html#returning-a-view-versus-a-copy\n",
      "  test_df.bfill(inplace=True)\n",
      "/usr/local/lib/python3.11/dist-packages/arch/univariate/base.py:309: DataScaleWarning: y is poorly scaled, which may affect convergence of the optimizer when\n",
      "estimating the model parameters. The scale of y is 0.0002032. Parameter\n",
      "estimation work better when this value is between 1 and 1000. The recommended\n",
      "rescaling is 100 * y.\n",
      "\n",
      "This warning can be disabled by either rescaling y before initializing the\n",
      "model or by setting rescale=False.\n",
      "\n",
      "  warnings.warn(\n"
     ]
    },
    {
     "name": "stdout",
     "output_type": "stream",
     "text": [
      "GARCH & Kalman features added.\n",
      "BTC\n",
      "Adding GARCH & Kalman features for doge...\n"
     ]
    },
    {
     "name": "stderr",
     "output_type": "stream",
     "text": [
      "/usr/local/lib/python3.11/dist-packages/arch/univariate/base.py:768: ConvergenceWarning: The optimizer returned code 4. The message is:\n",
      "Inequality constraints incompatible\n",
      "See scipy.optimize.fmin_slsqp for code meaning.\n",
      "\n",
      "  warnings.warn(\n",
      "/tmp/ipykernel_36/1379962.py:15: SettingWithCopyWarning: \n",
      "A value is trying to be set on a copy of a slice from a DataFrame.\n",
      "Try using .loc[row_indexer,col_indexer] = value instead\n",
      "\n",
      "See the caveats in the documentation: https://pandas.pydata.org/pandas-docs/stable/user_guide/indexing.html#returning-a-view-versus-a-copy\n",
      "  train_df[f'garch_vol_{asset_name}'] = np.sqrt(garch_fit.conditional_volatility) / 100\n",
      "/tmp/ipykernel_36/1379962.py:21: SettingWithCopyWarning: \n",
      "A value is trying to be set on a copy of a slice from a DataFrame.\n",
      "Try using .loc[row_indexer,col_indexer] = value instead\n",
      "\n",
      "See the caveats in the documentation: https://pandas.pydata.org/pandas-docs/stable/user_guide/indexing.html#returning-a-view-versus-a-copy\n",
      "  test_df[f'garch_vol_{asset_name}'] = np.sqrt(aligned_forecasts)\n",
      "/tmp/ipykernel_36/1379962.py:35: SettingWithCopyWarning: \n",
      "A value is trying to be set on a copy of a slice from a DataFrame.\n",
      "Try using .loc[row_indexer,col_indexer] = value instead\n",
      "\n",
      "See the caveats in the documentation: https://pandas.pydata.org/pandas-docs/stable/user_guide/indexing.html#returning-a-view-versus-a-copy\n",
      "  train_df[f'kalman_vol_{asset_name}'] = pd.Series(np.sqrt(np.maximum(0, state_means_train.flatten())), index=train_obs.index)\n",
      "/tmp/ipykernel_36/1379962.py:49: SettingWithCopyWarning: \n",
      "A value is trying to be set on a copy of a slice from a DataFrame.\n",
      "Try using .loc[row_indexer,col_indexer] = value instead\n",
      "\n",
      "See the caveats in the documentation: https://pandas.pydata.org/pandas-docs/stable/user_guide/indexing.html#returning-a-view-versus-a-copy\n",
      "  test_df[f'kalman_vol_{asset_name}'] = pd.Series(np.sqrt(np.maximum(0, state_means_test)), index=test_obs.index)\n",
      "/tmp/ipykernel_36/1379962.py:54: SettingWithCopyWarning: \n",
      "A value is trying to be set on a copy of a slice from a DataFrame\n",
      "\n",
      "See the caveats in the documentation: https://pandas.pydata.org/pandas-docs/stable/user_guide/indexing.html#returning-a-view-versus-a-copy\n",
      "  train_df.ffill(inplace=True)\n",
      "/tmp/ipykernel_36/1379962.py:55: SettingWithCopyWarning: \n",
      "A value is trying to be set on a copy of a slice from a DataFrame\n",
      "\n",
      "See the caveats in the documentation: https://pandas.pydata.org/pandas-docs/stable/user_guide/indexing.html#returning-a-view-versus-a-copy\n",
      "  train_df.bfill(inplace=True)\n",
      "/tmp/ipykernel_36/1379962.py:56: SettingWithCopyWarning: \n",
      "A value is trying to be set on a copy of a slice from a DataFrame\n",
      "\n",
      "See the caveats in the documentation: https://pandas.pydata.org/pandas-docs/stable/user_guide/indexing.html#returning-a-view-versus-a-copy\n",
      "  test_df.ffill(inplace=True)\n",
      "/tmp/ipykernel_36/1379962.py:57: SettingWithCopyWarning: \n",
      "A value is trying to be set on a copy of a slice from a DataFrame\n",
      "\n",
      "See the caveats in the documentation: https://pandas.pydata.org/pandas-docs/stable/user_guide/indexing.html#returning-a-view-versus-a-copy\n",
      "  test_df.bfill(inplace=True)\n",
      "/usr/local/lib/python3.11/dist-packages/arch/univariate/base.py:309: DataScaleWarning: y is poorly scaled, which may affect convergence of the optimizer when\n",
      "estimating the model parameters. The scale of y is 0.000107. Parameter\n",
      "estimation work better when this value is between 1 and 1000. The recommended\n",
      "rescaling is 100 * y.\n",
      "\n",
      "This warning can be disabled by either rescaling y before initializing the\n",
      "model or by setting rescale=False.\n",
      "\n",
      "  warnings.warn(\n"
     ]
    },
    {
     "name": "stdout",
     "output_type": "stream",
     "text": [
      "GARCH & Kalman features added.\n",
      "DOGE\n",
      "Adding GARCH & Kalman features for dot...\n"
     ]
    },
    {
     "name": "stderr",
     "output_type": "stream",
     "text": [
      "/usr/local/lib/python3.11/dist-packages/arch/univariate/base.py:768: ConvergenceWarning: The optimizer returned code 4. The message is:\n",
      "Inequality constraints incompatible\n",
      "See scipy.optimize.fmin_slsqp for code meaning.\n",
      "\n",
      "  warnings.warn(\n",
      "/tmp/ipykernel_36/1379962.py:15: SettingWithCopyWarning: \n",
      "A value is trying to be set on a copy of a slice from a DataFrame.\n",
      "Try using .loc[row_indexer,col_indexer] = value instead\n",
      "\n",
      "See the caveats in the documentation: https://pandas.pydata.org/pandas-docs/stable/user_guide/indexing.html#returning-a-view-versus-a-copy\n",
      "  train_df[f'garch_vol_{asset_name}'] = np.sqrt(garch_fit.conditional_volatility) / 100\n",
      "/tmp/ipykernel_36/1379962.py:21: SettingWithCopyWarning: \n",
      "A value is trying to be set on a copy of a slice from a DataFrame.\n",
      "Try using .loc[row_indexer,col_indexer] = value instead\n",
      "\n",
      "See the caveats in the documentation: https://pandas.pydata.org/pandas-docs/stable/user_guide/indexing.html#returning-a-view-versus-a-copy\n",
      "  test_df[f'garch_vol_{asset_name}'] = np.sqrt(aligned_forecasts)\n",
      "/tmp/ipykernel_36/1379962.py:35: SettingWithCopyWarning: \n",
      "A value is trying to be set on a copy of a slice from a DataFrame.\n",
      "Try using .loc[row_indexer,col_indexer] = value instead\n",
      "\n",
      "See the caveats in the documentation: https://pandas.pydata.org/pandas-docs/stable/user_guide/indexing.html#returning-a-view-versus-a-copy\n",
      "  train_df[f'kalman_vol_{asset_name}'] = pd.Series(np.sqrt(np.maximum(0, state_means_train.flatten())), index=train_obs.index)\n",
      "/tmp/ipykernel_36/1379962.py:49: SettingWithCopyWarning: \n",
      "A value is trying to be set on a copy of a slice from a DataFrame.\n",
      "Try using .loc[row_indexer,col_indexer] = value instead\n",
      "\n",
      "See the caveats in the documentation: https://pandas.pydata.org/pandas-docs/stable/user_guide/indexing.html#returning-a-view-versus-a-copy\n",
      "  test_df[f'kalman_vol_{asset_name}'] = pd.Series(np.sqrt(np.maximum(0, state_means_test)), index=test_obs.index)\n",
      "/tmp/ipykernel_36/1379962.py:54: SettingWithCopyWarning: \n",
      "A value is trying to be set on a copy of a slice from a DataFrame\n",
      "\n",
      "See the caveats in the documentation: https://pandas.pydata.org/pandas-docs/stable/user_guide/indexing.html#returning-a-view-versus-a-copy\n",
      "  train_df.ffill(inplace=True)\n",
      "/tmp/ipykernel_36/1379962.py:55: SettingWithCopyWarning: \n",
      "A value is trying to be set on a copy of a slice from a DataFrame\n",
      "\n",
      "See the caveats in the documentation: https://pandas.pydata.org/pandas-docs/stable/user_guide/indexing.html#returning-a-view-versus-a-copy\n",
      "  train_df.bfill(inplace=True)\n",
      "/tmp/ipykernel_36/1379962.py:56: SettingWithCopyWarning: \n",
      "A value is trying to be set on a copy of a slice from a DataFrame\n",
      "\n",
      "See the caveats in the documentation: https://pandas.pydata.org/pandas-docs/stable/user_guide/indexing.html#returning-a-view-versus-a-copy\n",
      "  test_df.ffill(inplace=True)\n",
      "/tmp/ipykernel_36/1379962.py:57: SettingWithCopyWarning: \n",
      "A value is trying to be set on a copy of a slice from a DataFrame\n",
      "\n",
      "See the caveats in the documentation: https://pandas.pydata.org/pandas-docs/stable/user_guide/indexing.html#returning-a-view-versus-a-copy\n",
      "  test_df.bfill(inplace=True)\n",
      "/usr/local/lib/python3.11/dist-packages/arch/univariate/base.py:309: DataScaleWarning: y is poorly scaled, which may affect convergence of the optimizer when\n",
      "estimating the model parameters. The scale of y is 0.000103. Parameter\n",
      "estimation work better when this value is between 1 and 1000. The recommended\n",
      "rescaling is 100 * y.\n",
      "\n",
      "This warning can be disabled by either rescaling y before initializing the\n",
      "model or by setting rescale=False.\n",
      "\n",
      "  warnings.warn(\n"
     ]
    },
    {
     "name": "stdout",
     "output_type": "stream",
     "text": [
      "GARCH & Kalman features added.\n",
      "DOT\n",
      "Adding GARCH & Kalman features for link...\n"
     ]
    },
    {
     "name": "stderr",
     "output_type": "stream",
     "text": [
      "/usr/local/lib/python3.11/dist-packages/arch/univariate/base.py:768: ConvergenceWarning: The optimizer returned code 4. The message is:\n",
      "Inequality constraints incompatible\n",
      "See scipy.optimize.fmin_slsqp for code meaning.\n",
      "\n",
      "  warnings.warn(\n",
      "/tmp/ipykernel_36/1379962.py:15: SettingWithCopyWarning: \n",
      "A value is trying to be set on a copy of a slice from a DataFrame.\n",
      "Try using .loc[row_indexer,col_indexer] = value instead\n",
      "\n",
      "See the caveats in the documentation: https://pandas.pydata.org/pandas-docs/stable/user_guide/indexing.html#returning-a-view-versus-a-copy\n",
      "  train_df[f'garch_vol_{asset_name}'] = np.sqrt(garch_fit.conditional_volatility) / 100\n",
      "/tmp/ipykernel_36/1379962.py:21: SettingWithCopyWarning: \n",
      "A value is trying to be set on a copy of a slice from a DataFrame.\n",
      "Try using .loc[row_indexer,col_indexer] = value instead\n",
      "\n",
      "See the caveats in the documentation: https://pandas.pydata.org/pandas-docs/stable/user_guide/indexing.html#returning-a-view-versus-a-copy\n",
      "  test_df[f'garch_vol_{asset_name}'] = np.sqrt(aligned_forecasts)\n",
      "/tmp/ipykernel_36/1379962.py:35: SettingWithCopyWarning: \n",
      "A value is trying to be set on a copy of a slice from a DataFrame.\n",
      "Try using .loc[row_indexer,col_indexer] = value instead\n",
      "\n",
      "See the caveats in the documentation: https://pandas.pydata.org/pandas-docs/stable/user_guide/indexing.html#returning-a-view-versus-a-copy\n",
      "  train_df[f'kalman_vol_{asset_name}'] = pd.Series(np.sqrt(np.maximum(0, state_means_train.flatten())), index=train_obs.index)\n",
      "/tmp/ipykernel_36/1379962.py:49: SettingWithCopyWarning: \n",
      "A value is trying to be set on a copy of a slice from a DataFrame.\n",
      "Try using .loc[row_indexer,col_indexer] = value instead\n",
      "\n",
      "See the caveats in the documentation: https://pandas.pydata.org/pandas-docs/stable/user_guide/indexing.html#returning-a-view-versus-a-copy\n",
      "  test_df[f'kalman_vol_{asset_name}'] = pd.Series(np.sqrt(np.maximum(0, state_means_test)), index=test_obs.index)\n",
      "/tmp/ipykernel_36/1379962.py:54: SettingWithCopyWarning: \n",
      "A value is trying to be set on a copy of a slice from a DataFrame\n",
      "\n",
      "See the caveats in the documentation: https://pandas.pydata.org/pandas-docs/stable/user_guide/indexing.html#returning-a-view-versus-a-copy\n",
      "  train_df.ffill(inplace=True)\n",
      "/tmp/ipykernel_36/1379962.py:55: SettingWithCopyWarning: \n",
      "A value is trying to be set on a copy of a slice from a DataFrame\n",
      "\n",
      "See the caveats in the documentation: https://pandas.pydata.org/pandas-docs/stable/user_guide/indexing.html#returning-a-view-versus-a-copy\n",
      "  train_df.bfill(inplace=True)\n",
      "/tmp/ipykernel_36/1379962.py:56: SettingWithCopyWarning: \n",
      "A value is trying to be set on a copy of a slice from a DataFrame\n",
      "\n",
      "See the caveats in the documentation: https://pandas.pydata.org/pandas-docs/stable/user_guide/indexing.html#returning-a-view-versus-a-copy\n",
      "  test_df.ffill(inplace=True)\n",
      "/tmp/ipykernel_36/1379962.py:57: SettingWithCopyWarning: \n",
      "A value is trying to be set on a copy of a slice from a DataFrame\n",
      "\n",
      "See the caveats in the documentation: https://pandas.pydata.org/pandas-docs/stable/user_guide/indexing.html#returning-a-view-versus-a-copy\n",
      "  test_df.bfill(inplace=True)\n",
      "/usr/local/lib/python3.11/dist-packages/arch/univariate/base.py:309: DataScaleWarning: y is poorly scaled, which may affect convergence of the optimizer when\n",
      "estimating the model parameters. The scale of y is 0.0004931. Parameter\n",
      "estimation work better when this value is between 1 and 1000. The recommended\n",
      "rescaling is 100 * y.\n",
      "\n",
      "This warning can be disabled by either rescaling y before initializing the\n",
      "model or by setting rescale=False.\n",
      "\n",
      "  warnings.warn(\n"
     ]
    },
    {
     "name": "stdout",
     "output_type": "stream",
     "text": [
      "GARCH & Kalman features added.\n",
      "LINK\n",
      "Adding GARCH & Kalman features for shib...\n"
     ]
    },
    {
     "name": "stderr",
     "output_type": "stream",
     "text": [
      "/usr/local/lib/python3.11/dist-packages/arch/univariate/base.py:768: ConvergenceWarning: The optimizer returned code 4. The message is:\n",
      "Inequality constraints incompatible\n",
      "See scipy.optimize.fmin_slsqp for code meaning.\n",
      "\n",
      "  warnings.warn(\n",
      "/tmp/ipykernel_36/1379962.py:15: SettingWithCopyWarning: \n",
      "A value is trying to be set on a copy of a slice from a DataFrame.\n",
      "Try using .loc[row_indexer,col_indexer] = value instead\n",
      "\n",
      "See the caveats in the documentation: https://pandas.pydata.org/pandas-docs/stable/user_guide/indexing.html#returning-a-view-versus-a-copy\n",
      "  train_df[f'garch_vol_{asset_name}'] = np.sqrt(garch_fit.conditional_volatility) / 100\n",
      "/tmp/ipykernel_36/1379962.py:21: SettingWithCopyWarning: \n",
      "A value is trying to be set on a copy of a slice from a DataFrame.\n",
      "Try using .loc[row_indexer,col_indexer] = value instead\n",
      "\n",
      "See the caveats in the documentation: https://pandas.pydata.org/pandas-docs/stable/user_guide/indexing.html#returning-a-view-versus-a-copy\n",
      "  test_df[f'garch_vol_{asset_name}'] = np.sqrt(aligned_forecasts)\n",
      "/tmp/ipykernel_36/1379962.py:35: SettingWithCopyWarning: \n",
      "A value is trying to be set on a copy of a slice from a DataFrame.\n",
      "Try using .loc[row_indexer,col_indexer] = value instead\n",
      "\n",
      "See the caveats in the documentation: https://pandas.pydata.org/pandas-docs/stable/user_guide/indexing.html#returning-a-view-versus-a-copy\n",
      "  train_df[f'kalman_vol_{asset_name}'] = pd.Series(np.sqrt(np.maximum(0, state_means_train.flatten())), index=train_obs.index)\n",
      "/tmp/ipykernel_36/1379962.py:49: SettingWithCopyWarning: \n",
      "A value is trying to be set on a copy of a slice from a DataFrame.\n",
      "Try using .loc[row_indexer,col_indexer] = value instead\n",
      "\n",
      "See the caveats in the documentation: https://pandas.pydata.org/pandas-docs/stable/user_guide/indexing.html#returning-a-view-versus-a-copy\n",
      "  test_df[f'kalman_vol_{asset_name}'] = pd.Series(np.sqrt(np.maximum(0, state_means_test)), index=test_obs.index)\n",
      "/tmp/ipykernel_36/1379962.py:54: SettingWithCopyWarning: \n",
      "A value is trying to be set on a copy of a slice from a DataFrame\n",
      "\n",
      "See the caveats in the documentation: https://pandas.pydata.org/pandas-docs/stable/user_guide/indexing.html#returning-a-view-versus-a-copy\n",
      "  train_df.ffill(inplace=True)\n",
      "/tmp/ipykernel_36/1379962.py:55: SettingWithCopyWarning: \n",
      "A value is trying to be set on a copy of a slice from a DataFrame\n",
      "\n",
      "See the caveats in the documentation: https://pandas.pydata.org/pandas-docs/stable/user_guide/indexing.html#returning-a-view-versus-a-copy\n",
      "  train_df.bfill(inplace=True)\n",
      "/tmp/ipykernel_36/1379962.py:56: SettingWithCopyWarning: \n",
      "A value is trying to be set on a copy of a slice from a DataFrame\n",
      "\n",
      "See the caveats in the documentation: https://pandas.pydata.org/pandas-docs/stable/user_guide/indexing.html#returning-a-view-versus-a-copy\n",
      "  test_df.ffill(inplace=True)\n",
      "/tmp/ipykernel_36/1379962.py:57: SettingWithCopyWarning: \n",
      "A value is trying to be set on a copy of a slice from a DataFrame\n",
      "\n",
      "See the caveats in the documentation: https://pandas.pydata.org/pandas-docs/stable/user_guide/indexing.html#returning-a-view-versus-a-copy\n",
      "  test_df.bfill(inplace=True)\n",
      "/usr/local/lib/python3.11/dist-packages/arch/univariate/base.py:309: DataScaleWarning: y is poorly scaled, which may affect convergence of the optimizer when\n",
      "estimating the model parameters. The scale of y is 8.474e-05. Parameter\n",
      "estimation work better when this value is between 1 and 1000. The recommended\n",
      "rescaling is 100 * y.\n",
      "\n",
      "This warning can be disabled by either rescaling y before initializing the\n",
      "model or by setting rescale=False.\n",
      "\n",
      "  warnings.warn(\n"
     ]
    },
    {
     "name": "stdout",
     "output_type": "stream",
     "text": [
      "GARCH & Kalman features added.\n",
      "SHIB\n",
      "Adding GARCH & Kalman features for sol...\n"
     ]
    },
    {
     "name": "stderr",
     "output_type": "stream",
     "text": [
      "/usr/local/lib/python3.11/dist-packages/arch/univariate/base.py:768: ConvergenceWarning: The optimizer returned code 4. The message is:\n",
      "Inequality constraints incompatible\n",
      "See scipy.optimize.fmin_slsqp for code meaning.\n",
      "\n",
      "  warnings.warn(\n",
      "/tmp/ipykernel_36/1379962.py:15: SettingWithCopyWarning: \n",
      "A value is trying to be set on a copy of a slice from a DataFrame.\n",
      "Try using .loc[row_indexer,col_indexer] = value instead\n",
      "\n",
      "See the caveats in the documentation: https://pandas.pydata.org/pandas-docs/stable/user_guide/indexing.html#returning-a-view-versus-a-copy\n",
      "  train_df[f'garch_vol_{asset_name}'] = np.sqrt(garch_fit.conditional_volatility) / 100\n",
      "/tmp/ipykernel_36/1379962.py:21: SettingWithCopyWarning: \n",
      "A value is trying to be set on a copy of a slice from a DataFrame.\n",
      "Try using .loc[row_indexer,col_indexer] = value instead\n",
      "\n",
      "See the caveats in the documentation: https://pandas.pydata.org/pandas-docs/stable/user_guide/indexing.html#returning-a-view-versus-a-copy\n",
      "  test_df[f'garch_vol_{asset_name}'] = np.sqrt(aligned_forecasts)\n",
      "/tmp/ipykernel_36/1379962.py:35: SettingWithCopyWarning: \n",
      "A value is trying to be set on a copy of a slice from a DataFrame.\n",
      "Try using .loc[row_indexer,col_indexer] = value instead\n",
      "\n",
      "See the caveats in the documentation: https://pandas.pydata.org/pandas-docs/stable/user_guide/indexing.html#returning-a-view-versus-a-copy\n",
      "  train_df[f'kalman_vol_{asset_name}'] = pd.Series(np.sqrt(np.maximum(0, state_means_train.flatten())), index=train_obs.index)\n",
      "/tmp/ipykernel_36/1379962.py:49: SettingWithCopyWarning: \n",
      "A value is trying to be set on a copy of a slice from a DataFrame.\n",
      "Try using .loc[row_indexer,col_indexer] = value instead\n",
      "\n",
      "See the caveats in the documentation: https://pandas.pydata.org/pandas-docs/stable/user_guide/indexing.html#returning-a-view-versus-a-copy\n",
      "  test_df[f'kalman_vol_{asset_name}'] = pd.Series(np.sqrt(np.maximum(0, state_means_test)), index=test_obs.index)\n",
      "/tmp/ipykernel_36/1379962.py:54: SettingWithCopyWarning: \n",
      "A value is trying to be set on a copy of a slice from a DataFrame\n",
      "\n",
      "See the caveats in the documentation: https://pandas.pydata.org/pandas-docs/stable/user_guide/indexing.html#returning-a-view-versus-a-copy\n",
      "  train_df.ffill(inplace=True)\n",
      "/tmp/ipykernel_36/1379962.py:55: SettingWithCopyWarning: \n",
      "A value is trying to be set on a copy of a slice from a DataFrame\n",
      "\n",
      "See the caveats in the documentation: https://pandas.pydata.org/pandas-docs/stable/user_guide/indexing.html#returning-a-view-versus-a-copy\n",
      "  train_df.bfill(inplace=True)\n"
     ]
    },
    {
     "name": "stdout",
     "output_type": "stream",
     "text": [
      "GARCH & Kalman features added.\n",
      "SOL\n"
     ]
    },
    {
     "name": "stderr",
     "output_type": "stream",
     "text": [
      "/tmp/ipykernel_36/1379962.py:56: SettingWithCopyWarning: \n",
      "A value is trying to be set on a copy of a slice from a DataFrame\n",
      "\n",
      "See the caveats in the documentation: https://pandas.pydata.org/pandas-docs/stable/user_guide/indexing.html#returning-a-view-versus-a-copy\n",
      "  test_df.ffill(inplace=True)\n",
      "/tmp/ipykernel_36/1379962.py:57: SettingWithCopyWarning: \n",
      "A value is trying to be set on a copy of a slice from a DataFrame\n",
      "\n",
      "See the caveats in the documentation: https://pandas.pydata.org/pandas-docs/stable/user_guide/indexing.html#returning-a-view-versus-a-copy\n",
      "  test_df.bfill(inplace=True)\n"
     ]
    }
   ],
   "source": [
    "## Splitting all the assets train set into train and test data and for each asset finding garch and kalaman filter predictions\n",
    "\n",
    "split_percentage = 0.8\n",
    "split_index = int(len(ETH_train_filled) * split_percentage)\n",
    "cross_assets = ['BTC','DOGE','DOT','LINK','SHIB','SOL']\n",
    "train_set = ETH_train_filled.iloc[:split_index]\n",
    "test_set = ETH_train_filled.iloc[split_index:]\n",
    "split_timestamp = test_set.index[0]\n",
    "for asset in cross_assets : \n",
    "    df_filled = globals()[f\"{asset}_train_filled\"]\n",
    "    df_train =  df_filled.loc[df_filled.index < split_timestamp]\n",
    "    df_test  =  df_filled.loc[df_filled.index >= split_timestamp] \n",
    "    df_train_ad, df_test_ad = add_advanced_vol_features(df_train, df_test, asset.lower())\n",
    "    globals()[f\"{asset}_train_set\"] = df_train_ad\n",
    "    globals()[f\"{asset}_test_set\"] = df_test_ad\n",
    "    print(asset)\n",
    "    \n",
    "    "
   ]
  },
  {
   "cell_type": "code",
   "execution_count": 18,
   "metadata": {
    "execution": {
     "iopub.execute_input": "2025-08-16T07:28:50.836028Z",
     "iopub.status.busy": "2025-08-16T07:28:50.835374Z",
     "iopub.status.idle": "2025-08-16T07:31:45.695860Z",
     "shell.execute_reply": "2025-08-16T07:31:45.695018Z",
     "shell.execute_reply.started": "2025-08-16T07:28:50.836004Z"
    }
   },
   "outputs": [
    {
     "name": "stdout",
     "output_type": "stream",
     "text": [
      "Adding GARCH & Kalman features for eth...\n"
     ]
    },
    {
     "name": "stderr",
     "output_type": "stream",
     "text": [
      "/usr/local/lib/python3.11/dist-packages/arch/univariate/base.py:309: DataScaleWarning: y is poorly scaled, which may affect convergence of the optimizer when\n",
      "estimating the model parameters. The scale of y is 4.858e-05. Parameter\n",
      "estimation work better when this value is between 1 and 1000. The recommended\n",
      "rescaling is 100 * y.\n",
      "\n",
      "This warning can be disabled by either rescaling y before initializing the\n",
      "model or by setting rescale=False.\n",
      "\n",
      "  warnings.warn(\n",
      "/usr/local/lib/python3.11/dist-packages/arch/univariate/base.py:768: ConvergenceWarning: The optimizer returned code 4. The message is:\n",
      "Inequality constraints incompatible\n",
      "See scipy.optimize.fmin_slsqp for code meaning.\n",
      "\n",
      "  warnings.warn(\n",
      "/tmp/ipykernel_36/1379962.py:15: SettingWithCopyWarning: \n",
      "A value is trying to be set on a copy of a slice from a DataFrame.\n",
      "Try using .loc[row_indexer,col_indexer] = value instead\n",
      "\n",
      "See the caveats in the documentation: https://pandas.pydata.org/pandas-docs/stable/user_guide/indexing.html#returning-a-view-versus-a-copy\n",
      "  train_df[f'garch_vol_{asset_name}'] = np.sqrt(garch_fit.conditional_volatility) / 100\n",
      "/tmp/ipykernel_36/1379962.py:21: SettingWithCopyWarning: \n",
      "A value is trying to be set on a copy of a slice from a DataFrame.\n",
      "Try using .loc[row_indexer,col_indexer] = value instead\n",
      "\n",
      "See the caveats in the documentation: https://pandas.pydata.org/pandas-docs/stable/user_guide/indexing.html#returning-a-view-versus-a-copy\n",
      "  test_df[f'garch_vol_{asset_name}'] = np.sqrt(aligned_forecasts)\n",
      "/tmp/ipykernel_36/1379962.py:35: SettingWithCopyWarning: \n",
      "A value is trying to be set on a copy of a slice from a DataFrame.\n",
      "Try using .loc[row_indexer,col_indexer] = value instead\n",
      "\n",
      "See the caveats in the documentation: https://pandas.pydata.org/pandas-docs/stable/user_guide/indexing.html#returning-a-view-versus-a-copy\n",
      "  train_df[f'kalman_vol_{asset_name}'] = pd.Series(np.sqrt(np.maximum(0, state_means_train.flatten())), index=train_obs.index)\n",
      "/tmp/ipykernel_36/1379962.py:49: SettingWithCopyWarning: \n",
      "A value is trying to be set on a copy of a slice from a DataFrame.\n",
      "Try using .loc[row_indexer,col_indexer] = value instead\n",
      "\n",
      "See the caveats in the documentation: https://pandas.pydata.org/pandas-docs/stable/user_guide/indexing.html#returning-a-view-versus-a-copy\n",
      "  test_df[f'kalman_vol_{asset_name}'] = pd.Series(np.sqrt(np.maximum(0, state_means_test)), index=test_obs.index)\n",
      "/tmp/ipykernel_36/1379962.py:54: SettingWithCopyWarning: \n",
      "A value is trying to be set on a copy of a slice from a DataFrame\n",
      "\n",
      "See the caveats in the documentation: https://pandas.pydata.org/pandas-docs/stable/user_guide/indexing.html#returning-a-view-versus-a-copy\n",
      "  train_df.ffill(inplace=True)\n"
     ]
    },
    {
     "name": "stdout",
     "output_type": "stream",
     "text": [
      "GARCH & Kalman features added.\n"
     ]
    },
    {
     "name": "stderr",
     "output_type": "stream",
     "text": [
      "/tmp/ipykernel_36/1379962.py:55: SettingWithCopyWarning: \n",
      "A value is trying to be set on a copy of a slice from a DataFrame\n",
      "\n",
      "See the caveats in the documentation: https://pandas.pydata.org/pandas-docs/stable/user_guide/indexing.html#returning-a-view-versus-a-copy\n",
      "  train_df.bfill(inplace=True)\n",
      "/tmp/ipykernel_36/1379962.py:56: SettingWithCopyWarning: \n",
      "A value is trying to be set on a copy of a slice from a DataFrame\n",
      "\n",
      "See the caveats in the documentation: https://pandas.pydata.org/pandas-docs/stable/user_guide/indexing.html#returning-a-view-versus-a-copy\n",
      "  test_df.ffill(inplace=True)\n",
      "/tmp/ipykernel_36/1379962.py:57: SettingWithCopyWarning: \n",
      "A value is trying to be set on a copy of a slice from a DataFrame\n",
      "\n",
      "See the caveats in the documentation: https://pandas.pydata.org/pandas-docs/stable/user_guide/indexing.html#returning-a-view-versus-a-copy\n",
      "  test_df.bfill(inplace=True)\n"
     ]
    }
   ],
   "source": [
    "split_percentage = 0.8\n",
    "split_index = int(len(ETH_train_filled) * split_percentage)\n",
    "train_set = ETH_train_filled.iloc[:split_index]\n",
    "test_set = ETH_train_filled.iloc[split_index:]\n",
    "train_set, test_set = add_advanced_vol_features(train_set, test_set, 'eth')"
   ]
  },
  {
   "cell_type": "code",
   "execution_count": 19,
   "metadata": {
    "execution": {
     "iopub.execute_input": "2025-08-16T07:31:49.775752Z",
     "iopub.status.busy": "2025-08-16T07:31:49.775496Z",
     "iopub.status.idle": "2025-08-16T07:31:49.781603Z",
     "shell.execute_reply": "2025-08-16T07:31:49.780878Z",
     "shell.execute_reply.started": "2025-08-16T07:31:49.775733Z"
    }
   },
   "outputs": [
    {
     "data": {
      "text/plain": [
       "Index(['mid_price', 'bid_price1', 'bid_volume1', 'bid_price2', 'bid_volume2',\n",
       "       'bid_price3', 'bid_volume3', 'bid_price4', 'bid_volume4', 'bid_price5',\n",
       "       'bid_volume5', 'ask_price1', 'ask_volume1', 'ask_price2', 'ask_volume2',\n",
       "       'ask_price3', 'ask_volume3', 'ask_price4', 'ask_volume4', 'ask_price5',\n",
       "       'ask_volume5', 'label', 'log_return', 'rolling_vol_ETH', 'wap1_ETH',\n",
       "       'wap2_ETH', 'wap3_ETH', 'wap4_ETH', 'wap5_ETH', 'obi_ETH',\n",
       "       'parkinson_vol_eth', 'garman_klass_vol_eth', 'yang_zhang_vol_eth',\n",
       "       'bollinger_bandwidth', 'time_numeric', 'spline_feature',\n",
       "       'garch_vol_eth', 'kalman_vol_eth'],\n",
       "      dtype='object')"
      ]
     },
     "execution_count": 19,
     "metadata": {},
     "output_type": "execute_result"
    }
   ],
   "source": [
    "train_set.columns"
   ]
  },
  {
   "cell_type": "code",
   "execution_count": 20,
   "metadata": {
    "execution": {
     "iopub.execute_input": "2025-08-16T07:31:56.686584Z",
     "iopub.status.busy": "2025-08-16T07:31:56.685817Z",
     "iopub.status.idle": "2025-08-16T07:31:59.348966Z",
     "shell.execute_reply": "2025-08-16T07:31:59.348296Z",
     "shell.execute_reply.started": "2025-08-16T07:31:56.686554Z"
    }
   },
   "outputs": [
    {
     "name": "stdout",
     "output_type": "stream",
     "text": [
      "Starting to merge cross-asset features...\n",
      "-> Merged features from BTC\n",
      "-> Merged features from DOGE\n",
      "-> Merged features from DOT\n",
      "-> Merged features from LINK\n",
      "-> Merged features from SHIB\n",
      "-> Merged features from SOL\n",
      "\n",
      "✅ All cross-asset features have been merged.\n",
      "\n",
      "--- Final Training Set Preview ---\n"
     ]
    },
    {
     "data": {
      "text/html": [
       "<div>\n",
       "<style scoped>\n",
       "    .dataframe tbody tr th:only-of-type {\n",
       "        vertical-align: middle;\n",
       "    }\n",
       "\n",
       "    .dataframe tbody tr th {\n",
       "        vertical-align: top;\n",
       "    }\n",
       "\n",
       "    .dataframe thead th {\n",
       "        text-align: right;\n",
       "    }\n",
       "</style>\n",
       "<table border=\"1\" class=\"dataframe\">\n",
       "  <thead>\n",
       "    <tr style=\"text-align: right;\">\n",
       "      <th></th>\n",
       "      <th>label</th>\n",
       "      <th>btc_mid_price</th>\n",
       "      <th>sol_rolling_vol</th>\n",
       "      <th>doge_kalman_vol</th>\n",
       "    </tr>\n",
       "  </thead>\n",
       "  <tbody>\n",
       "    <tr>\n",
       "      <th>2024-09-25 18:13:28</th>\n",
       "      <td>0.000060</td>\n",
       "      <td>63225.45</td>\n",
       "      <td>0.000107</td>\n",
       "      <td>0.000056</td>\n",
       "    </tr>\n",
       "    <tr>\n",
       "      <th>2024-09-25 18:13:29</th>\n",
       "      <td>0.000057</td>\n",
       "      <td>63225.45</td>\n",
       "      <td>0.000107</td>\n",
       "      <td>0.000054</td>\n",
       "    </tr>\n",
       "    <tr>\n",
       "      <th>2024-09-25 18:13:30</th>\n",
       "      <td>0.000080</td>\n",
       "      <td>63225.45</td>\n",
       "      <td>0.000107</td>\n",
       "      <td>0.000051</td>\n",
       "    </tr>\n",
       "    <tr>\n",
       "      <th>2024-09-25 18:13:31</th>\n",
       "      <td>0.000087</td>\n",
       "      <td>63225.45</td>\n",
       "      <td>0.000107</td>\n",
       "      <td>0.000056</td>\n",
       "    </tr>\n",
       "    <tr>\n",
       "      <th>2024-09-25 18:13:32</th>\n",
       "      <td>0.000090</td>\n",
       "      <td>63225.45</td>\n",
       "      <td>0.000107</td>\n",
       "      <td>0.000053</td>\n",
       "    </tr>\n",
       "  </tbody>\n",
       "</table>\n",
       "</div>"
      ],
      "text/plain": [
       "                        label  btc_mid_price  sol_rolling_vol  doge_kalman_vol\n",
       "2024-09-25 18:13:28  0.000060       63225.45         0.000107         0.000056\n",
       "2024-09-25 18:13:29  0.000057       63225.45         0.000107         0.000054\n",
       "2024-09-25 18:13:30  0.000080       63225.45         0.000107         0.000051\n",
       "2024-09-25 18:13:31  0.000087       63225.45         0.000107         0.000056\n",
       "2024-09-25 18:13:32  0.000090       63225.45         0.000107         0.000053"
      ]
     },
     "metadata": {},
     "output_type": "display_data"
    }
   ],
   "source": [
    "\n",
    "#Merging all the cross-asset train sets into ETH_train set\n",
    "train_set_final = train_set.copy()\n",
    "test_set_final = test_set.copy()\n",
    "\n",
    "cross_assets = ['BTC', 'DOGE', 'DOT', 'LINK', 'SHIB', 'SOL']\n",
    "\n",
    "print(\"Starting to merge cross-asset features...\")\n",
    "for asset in cross_assets:\n",
    "    asset_lower = asset.lower()\n",
    "    \n",
    "    # Get the source train and test DataFrames\n",
    "    train_df_source = globals()[f\"{asset}_train_set\"]\n",
    "    test_df_source = globals()[f\"{asset}_test_set\"]\n",
    "    \n",
    "    # Define the columns to select and how to rename them\n",
    "    features_to_rename = {\n",
    "        'mid_price': f'{asset_lower}_mid_price',\n",
    "        f'rolling_vol_{asset}': f'{asset_lower}_rolling_vol',\n",
    "        f'garch_vol_{asset_lower}': f'{asset_lower}_garch_vol',\n",
    "        f'kalman_vol_{asset_lower}': f'{asset_lower}_kalman_vol',\n",
    "        f'parkinson_vol_{asset_lower}': f'{asset_lower}_parkinson_vol',\n",
    "        f'garman_klass_vol_{asset_lower}': f'{asset_lower}_garman_klass_vol',\n",
    "        f'yang_zhang_vol_{asset_lower}': f'{asset_lower}_yang_zhang_vol'\n",
    "    }\n",
    "    \n",
    "    # Select and rename features\n",
    "    train_features = train_df_source[list(features_to_rename.keys())].rename(columns=features_to_rename)\n",
    "    test_features = test_df_source[list(features_to_rename.keys())].rename(columns=features_to_rename)\n",
    "    \n",
    "    \n",
    "    train_set_final = train_set_final.merge(train_features, left_index=True, right_index=True, how='left')\n",
    "    test_set_final = test_set_final.merge(test_features, left_index=True, right_index=True, how='left')\n",
    "    \n",
    "    print(f\"-> Merged features from {asset}\")\n",
    "\n",
    "# Final cleanup of NaNs created during merges \n",
    "train_set_final.ffill(inplace=True)\n",
    "train_set_final.bfill(inplace=True)\n",
    "test_set_final.ffill(inplace=True)\n",
    "test_set_final.bfill(inplace=True)\n",
    "\n",
    "print(\"\\n All cross-asset features have been merged.\")\n",
    "\n",
    "# --- 5. Verify the final result ---\n",
    "print(\"\\n--- Final Training Set Preview ---\")\n",
    "display(train_set_final[['label', 'btc_mid_price', 'sol_rolling_vol', 'doge_kalman_vol']].head())"
   ]
  },
  {
   "cell_type": "markdown",
   "metadata": {},
   "source": [
    "## Cross Asset Features and PCA\n",
    "\n",
    "Predicting the volatility of a single asset like Ethereum (ETH) in isolation is difficult because financial markets are highly interconnected. ETH's price and volatility are not just influenced by its own order book but also by the sentiment and momentum of the entire crypto market.\n",
    "\n",
    "By creating cross-asset features, we provide the model with crucial market context. A feature like Bitcoin's (BTC) volatility, for example, acts as a powerful proxy for the overall market's risk appetite. This allows the model to distinguish between a random, ETH-specific fluctuation and a significant, market-wide event, leading to more robust and accurate predictions.\n",
    "1.  **Initial Cross-Asset Features**: For each major asset in the dataset (BTC, SOL, DOT, etc.), we first calculated a set of robust volatility measures to capture its individual market dynamics. These included: `rolling_vol`,`parkinson_vol`,`garman_klass_vol`, `yang_zhang_vol`: The simple historical but robust volatility,`garch_vol`: A forecast from a GARCH model to capture volatility clustering, `kalman_vol`: A smoothed volatility estimate from a Kalman filter.\n",
    "2.  We discovered that these different volatility measures were highly correlated with each other within each asset. Furthermore, the volatility features across different assets were also moderately correlated, as they were all influenced by shared market movements. Simply adding all these features to the model would introduce significant noise and redundancy.\n",
    "3.  **Hierarchical PCA**: To solve this , Principal Component Analysis were applied between highly correlated features.\n",
    "* Step 1: Asset-Level PCA: We first applied PCA to the group of volatility features for each individual asset. For example, we took 'rolling_vol_ETH', 'parkinson_vol_btc', 'garman_klass_vol_btc', 'yang_zhang_vol_btc' and used PCA to create a single new feature, btc_vol_pca_1. This feature represents the single \"best\" measure of Bitcoin's overall volatility. We repeated this for all other cross-assets.\n",
    "\n",
    "* Step 2: Market-Level PCA: We then took all the new _vol_pca_1 features from Step 1 (one for each asset) and applied PCA to this new group. This created our final, most powerful cross-asset feature: cross_asset_vol_pca_1. This single feature represents the dominant, shared volatility component across the entire crypto market.\n",
    "\n",
    "In the same way `cross_asset_garch_vol_pca_1`,`cross_asset_kalman_vol_pca_1` were created."
   ]
  },
  {
   "cell_type": "code",
   "execution_count": 15,
   "metadata": {
    "execution": {
     "iopub.execute_input": "2025-08-16T07:25:12.005887Z",
     "iopub.status.busy": "2025-08-16T07:25:12.005652Z",
     "iopub.status.idle": "2025-08-16T07:25:12.010827Z",
     "shell.execute_reply": "2025-08-16T07:25:12.010299Z",
     "shell.execute_reply.started": "2025-08-16T07:25:12.005871Z"
    }
   },
   "outputs": [
    {
     "data": {
      "text/plain": [
       "Index(['mid_price', 'bid_price1', 'bid_volume1', 'bid_price2', 'bid_volume2',\n",
       "       'bid_price3', 'bid_volume3', 'bid_price4', 'bid_volume4', 'bid_price5',\n",
       "       'bid_volume5', 'ask_price1', 'ask_volume1', 'ask_price2', 'ask_volume2',\n",
       "       'ask_price3', 'ask_volume3', 'ask_price4', 'ask_volume4', 'ask_price5',\n",
       "       'ask_volume5', 'label', 'log_return', 'rolling_vol_ETH', 'wap1_ETH',\n",
       "       'wap2_ETH', 'wap3_ETH', 'wap4_ETH', 'wap5_ETH', 'obi_ETH',\n",
       "       'parkinson_vol_eth', 'garman_klass_vol_eth', 'yang_zhang_vol_eth',\n",
       "       'bollinger_bandwidth', 'btc_mid_price', 'btc_rolling_vol',\n",
       "       'btc_garch_vol', 'btc_kalman_vol', 'btc_parkinson_vol',\n",
       "       'btc_garman_klass_vol', 'btc_yang_zhang_vol', 'doge_mid_price',\n",
       "       'doge_rolling_vol', 'doge_garch_vol', 'doge_kalman_vol',\n",
       "       'doge_parkinson_vol', 'doge_garman_klass_vol', 'doge_yang_zhang_vol',\n",
       "       'dot_mid_price', 'dot_rolling_vol', 'dot_garch_vol', 'dot_kalman_vol',\n",
       "       'dot_parkinson_vol', 'dot_garman_klass_vol', 'dot_yang_zhang_vol',\n",
       "       'link_mid_price', 'link_rolling_vol', 'link_garch_vol',\n",
       "       'link_kalman_vol', 'link_parkinson_vol', 'link_garman_klass_vol',\n",
       "       'link_yang_zhang_vol', 'shib_mid_price', 'shib_rolling_vol',\n",
       "       'shib_garch_vol', 'shib_kalman_vol', 'shib_parkinson_vol',\n",
       "       'shib_garman_klass_vol', 'shib_yang_zhang_vol', 'sol_mid_price',\n",
       "       'sol_rolling_vol', 'sol_garch_vol', 'sol_kalman_vol',\n",
       "       'sol_parkinson_vol', 'sol_garman_klass_vol', 'sol_yang_zhang_vol',\n",
       "       'eth_vol_pca_1', 'cross_asset_kalman_forecast_pca_1', 'btc_vol_pca_1',\n",
       "       'doge_vol_pca_1', 'dot_vol_pca_1', 'link_vol_pca_1', 'shib_vol_pca_1',\n",
       "       'sol_vol_pca_1', 'cross_asset_vol_pca_1'],\n",
       "      dtype='object')"
      ]
     },
     "execution_count": 15,
     "metadata": {},
     "output_type": "execute_result"
    }
   ],
   "source": [
    "train_set_final.columns"
   ]
  },
  {
   "cell_type": "code",
   "execution_count": 21,
   "metadata": {
    "execution": {
     "iopub.execute_input": "2025-08-16T07:32:05.293426Z",
     "iopub.status.busy": "2025-08-16T07:32:05.292782Z",
     "iopub.status.idle": "2025-08-16T07:32:05.300588Z",
     "shell.execute_reply": "2025-08-16T07:32:05.299906Z",
     "shell.execute_reply.started": "2025-08-16T07:32:05.293401Z"
    }
   },
   "outputs": [],
   "source": [
    "\n",
    "from sklearn.preprocessing import StandardScaler\n",
    "from sklearn.decomposition import PCA\n",
    "\n",
    "def create_pca_features(train_df, test_df, columns_to_combine, n_components=2, prefix='vol_pca'):\n",
    "    \"\"\"\n",
    "    Applies PCA to a set of correlated columns.\n",
    "    \"\"\"\n",
    "    print(f\"Creating {n_components} PCA features from {len(columns_to_combine)} columns...\")\n",
    "    # Select and scale the data ---\n",
    "    X_train = train_df[columns_to_combine].fillna(0)\n",
    "    X_test = test_df[columns_to_combine].fillna(0)\n",
    "    \n",
    "    scaler = StandardScaler()\n",
    "    X_train_scaled = scaler.fit_transform(X_train)\n",
    "    X_test_scaled = scaler.transform(X_test)\n",
    "    \n",
    "    pca = PCA(n_components=n_components)\n",
    "    pca.fit(X_train_scaled)\n",
    "    \n",
    "    X_train_pca = pca.transform(X_train_scaled)\n",
    "    X_test_pca = pca.transform(X_test_scaled)\n",
    "    # Add the new PCA features back to the original DataFrames ---\n",
    "    for i in range(n_components):\n",
    "        train_df[f'{prefix}_{i+1}'] = X_train_pca[:, i]\n",
    "        test_df[f'{prefix}_{i+1}'] = X_test_pca[:, i]\n",
    "        \n",
    "    print(f\"Explained variance by {n_components} components: {sum(pca.explained_variance_ratio_):.2%}\")\n",
    "    \n",
    "    return train_df, test_df\n",
    "\n",
    "#Features which have high correlation \n",
    "eth_vol_features = [\n",
    "    'rolling_vol_ETH', \n",
    "    'parkinson_vol_eth', \n",
    "    'garman_klass_vol_eth', \n",
    "    'yang_zhang_vol_eth'\n",
    "]\n",
    "# garch_forecast = ['doge_garch_vol','dot_garch_vol','link_garch_vol','shib_garch_vol','sol_garch_vol']\n",
    "kalman_forecast = ['btc_kalman_vol','doge_kalman_vol','dot_kalman_vol','link_kalman_vol','shib_kalman_vol','sol_kalman_vol']\n",
    "price_features = ['mid_price','btc_mid_price','doge_mid_price','dot_mid_price','link_mid_price','shib_mid_price','sol_mid_price',]\n",
    "\n",
    "vol_features = ['btc_vol_pca_1',\n",
    "       'doge_vol_pca_1', 'dot_vol_pca_1', 'link_vol_pca_1', 'shib_vol_pca_1',\n",
    "       'sol_vol_pca_1']"
   ]
  },
  {
   "cell_type": "code",
   "execution_count": 22,
   "metadata": {
    "execution": {
     "iopub.execute_input": "2025-08-16T07:32:08.205712Z",
     "iopub.status.busy": "2025-08-16T07:32:08.205429Z",
     "iopub.status.idle": "2025-08-16T07:32:12.139988Z",
     "shell.execute_reply": "2025-08-16T07:32:12.139308Z",
     "shell.execute_reply.started": "2025-08-16T07:32:08.205691Z"
    }
   },
   "outputs": [
    {
     "name": "stdout",
     "output_type": "stream",
     "text": [
      "Creating 1 PCA features from 4 columns...\n",
      "Explained variance by 1 components: 89.92%\n",
      "Creating 1 PCA features from 6 columns...\n",
      "Explained variance by 1 components: 63.91%\n",
      "Creating 1 PCA features from 4 columns...\n",
      "Explained variance by 1 components: 90.13%\n",
      "BTC\n",
      "Creating 1 PCA features from 4 columns...\n",
      "Explained variance by 1 components: 86.96%\n",
      "DOGE\n",
      "Creating 1 PCA features from 4 columns...\n",
      "Explained variance by 1 components: 81.73%\n",
      "DOT\n",
      "Creating 1 PCA features from 4 columns...\n",
      "Explained variance by 1 components: 85.99%\n",
      "LINK\n",
      "Creating 1 PCA features from 4 columns...\n",
      "Explained variance by 1 components: 88.82%\n",
      "SHIB\n",
      "Creating 1 PCA features from 4 columns...\n",
      "Explained variance by 1 components: 89.83%\n",
      "SOL\n",
      "Creating 1 PCA features from 6 columns...\n",
      "Explained variance by 1 components: 72.88%\n"
     ]
    }
   ],
   "source": [
    "train_set_final, test_set_final = create_pca_features(\n",
    "    train_set_final, \n",
    "    test_set_final, \n",
    "    columns_to_combine=eth_vol_features,\n",
    "    n_components=1, \n",
    "    prefix='eth_vol_pca'\n",
    ")\n",
    "train_set_final, test_set_final = create_pca_features(\n",
    "    train_set_final, \n",
    "    test_set_final, \n",
    "    columns_to_combine=kalman_forecast,\n",
    "    n_components=1, \n",
    "    prefix='cross_asset_kalman_forecast_pca'\n",
    ")\n",
    "for asset in cross_assets:\n",
    "    asset_low = asset.lower()\n",
    "    vol_features = [f'{asset_low}_parkinson_vol',\n",
    "       f'{asset_low}_garman_klass_vol', f'{asset_low}_yang_zhang_vol',f'{asset_low}_rolling_vol']\n",
    "    train_set_final, test_set_final = create_pca_features(\n",
    "    train_set_final, \n",
    "    test_set_final, \n",
    "    columns_to_combine=vol_features,\n",
    "    n_components=1,\n",
    "    prefix=f'{asset_low}_vol_pca'\n",
    "                    )\n",
    "    print(asset)\n",
    "vol_features = ['btc_vol_pca_1',\n",
    "       'doge_vol_pca_1', 'dot_vol_pca_1', 'link_vol_pca_1', 'shib_vol_pca_1',\n",
    "       'sol_vol_pca_1']\n",
    "train_set_final, test_set_final = create_pca_features(\n",
    "    train_set_final, \n",
    "    test_set_final, \n",
    "    columns_to_combine=vol_features,\n",
    "    n_components=1, # Start with 2 components\n",
    "    prefix='cross_asset_vol_pca'\n",
    ")"
   ]
  },
  {
   "cell_type": "markdown",
   "metadata": {},
   "source": [
    "## How to know which feature is best?\n",
    "\n",
    "Our initial approach was creating a correlation matrix including all eth features and cross-asset features and giving importance to those features which has high correlation with `label`. But between a feature and `label` there can be non-linear interaction which may not be well captured by correlation matrix. So we feed all those features to xgboost model to create the feature importance plot of the model. Considering the plot and the correlation matrix we created most effectful feature set.\n"
   ]
  },
  {
   "cell_type": "code",
   "execution_count": 23,
   "metadata": {
    "execution": {
     "iopub.execute_input": "2025-08-16T07:32:16.078850Z",
     "iopub.status.busy": "2025-08-16T07:32:16.078543Z",
     "iopub.status.idle": "2025-08-16T07:32:16.728196Z",
     "shell.execute_reply": "2025-08-16T07:32:16.727490Z",
     "shell.execute_reply.started": "2025-08-16T07:32:16.078830Z"
    }
   },
   "outputs": [
    {
     "data": {
      "image/png": "[encoded data removed]",
      "text/plain": [
       "<Figure size 2000x1000 with 2 Axes>"
      ]
     },
     "metadata": {},
     "output_type": "display_data"
    }
   ],
   "source": [
    "#Correlation Matrix between selected best features \n",
    "key_columns =  ['eth_vol_pca_1','cross_asset_vol_pca_1',\n",
    "            'spline_feature','cross_asset_kalman_forecast_pca_1','kalman_vol_eth',\n",
    "            'garch_vol_eth','bollinger_bandwidth','label']\n",
    "\n",
    "correlation_matrix = train_set_final[key_columns].corr()\n",
    "\n",
    "plt.figure(figsize=(20, 10))\n",
    "sns.heatmap(correlation_matrix, annot=True, cmap='coolwarm', fmt='.2f')\n",
    "plt.title('Correlation Matrix of Key Features and Target', fontsize=16)\n",
    "plt.show()"
   ]
  },
  {
   "cell_type": "markdown",
   "metadata": {},
   "source": [
    "# Final Models \n",
    "## Xgboost\n",
    "\n",
    "\n",
    "- **Objective**: Regression (`reg:squarederror`)  \n",
    "- **Features Used**:  \n",
    "  - `eth_vol_pca_1`  \n",
    "  - `cross_asset_vol_pca_1`  \n",
    "  - `spline_feature`  \n",
    "  - `cross_asset_kalman_forecast_pca_1`  \n",
    "  - `kalman_vol_eth`  \n",
    "  - `garch_vol_eth`  \n",
    "  - `bollinger_bandwidth`  \n",
    "\n",
    "- **Hyperparameters**:  \n",
    "  - Number of trees (`n_estimators`): **5000**  \n",
    "  - Learning rate: **0.01**  \n",
    "  - Maximum depth: **5**  \n",
    "  - Subsample ratio: **0.8**  \n",
    "  - Column sample ratio (`colsample_bytree`): **0.8**  \n",
    "  - Early stopping: **100 rounds**  \n",
    "  - Random state: **42**  \n",
    "\n",
    "- **Performance Metrics**:  \n",
    "  - Training R²: $0.43849557622874036$\n",
    "  - Testing R²:  $0.3524020740357553$\n",
    "  - RMSE (Test Set):  $0.00006631102$\n",
    "\n",
    "- **Visualization**:  \n",
    "  - Feature importance plot generated with `xgb.plot_importance`\n"
   ]
  },
  {
   "cell_type": "code",
   "execution_count": 24,
   "metadata": {
    "execution": {
     "iopub.execute_input": "2025-08-16T07:33:57.138979Z",
     "iopub.status.busy": "2025-08-16T07:33:57.138252Z",
     "iopub.status.idle": "2025-08-16T07:34:12.247389Z",
     "shell.execute_reply": "2025-08-16T07:34:12.246657Z",
     "shell.execute_reply.started": "2025-08-16T07:33:57.138958Z"
    }
   },
   "outputs": [
    {
     "name": "stderr",
     "output_type": "stream",
     "text": [
      "/usr/local/lib/python3.11/dist-packages/xgboost/sklearn.py:889: UserWarning: `early_stopping_rounds` in `fit` method is deprecated for better compatibility with scikit-learn, use `early_stopping_rounds` in constructor or`set_params` instead.\n",
      "  warnings.warn(\n"
     ]
    },
    {
     "name": "stdout",
     "output_type": "stream",
     "text": [
      "Training R² score: 0.43849557622874036\n",
      "Testing R² score: 0.3524020740357553\n",
      "\n",
      "RMSE of the final model on the test set: 6.631102789983134e-05\n"
     ]
    },
    {
     "data": {
      "image/png": "[encoded data removed]",
      "text/plain": [
       "<Figure size 640x480 with 1 Axes>"
      ]
     },
     "metadata": {},
     "output_type": "display_data"
    }
   ],
   "source": [
    "import matplotlib.pyplot as plt\n",
    "from sklearn.metrics import r2_score\n",
    "features = ['eth_vol_pca_1','cross_asset_vol_pca_1',\n",
    "            'spline_feature','cross_asset_kalman_forecast_pca_1','kalman_vol_eth',\n",
    "            'garch_vol_eth','bollinger_bandwidth']\n",
    "\n",
    "\n",
    "X_train = train_set_final[features].fillna(0)\n",
    "y_train = train_set_final['label'].fillna(0)\n",
    "\n",
    "X_test = test_set_final[features].fillna(0) \n",
    "y_test = test_set_final['label'].fillna(0)\n",
    "\n",
    "import xgboost as xgb\n",
    "from sklearn.metrics import mean_squared_error\n",
    "\n",
    "# Initialize the XGBoost Regressor Model \n",
    "# We define the model with some common starting parameters.\n",
    "xgb_model = xgb.XGBRegressor(\n",
    "    objective='reg:squarederror', # Specifies the learning task and objective function.\n",
    "    n_estimators=5000,            # The maximum number of trees to build.\n",
    "    learning_rate=0.01,           # Step size shrinkage to prevent overfitting.\n",
    "    max_depth=5,                  # Maximum depth of each tree.\n",
    "    subsample=0.8,                # Fraction of samples to be used for fitting each tree.\n",
    "    colsample_bytree=0.8,         # Fraction of features to be used for fitting each tree.\n",
    "    n_jobs=-1,                    # Use all available CPU threads for speed.\n",
    "    random_state=42               # For reproducibility.\n",
    ")\n",
    "\n",
    "# Train the model\n",
    "xgb_model.fit(X_train, y_train,\n",
    "              eval_set=[(X_test, y_test)],\n",
    "              early_stopping_rounds=100,\n",
    "              verbose=False) \n",
    "\n",
    "#  Make Predictions on the Test Set \n",
    "predictions = xgb_model.predict(X_test)\n",
    "\n",
    "# Evaluate the Model \n",
    "rmse = np.sqrt(mean_squared_error(y_test, predictions))\n",
    "train_predictions = xgb_model.predict(X_train)\n",
    "train_r2 = r2_score(y_train, train_predictions)\n",
    "test_r2 = r2_score(y_test, predictions)\n",
    "\n",
    "print(\"Training R² score:\", train_r2)\n",
    "print(\"Testing R² score:\", test_r2)\n",
    "print(f\"\\nRMSE of the final model on the test set: {rmse}\")\n",
    "\n",
    "xgb.plot_importance(xgb_model)\n",
    "plt.show()"
   ]
  },
  {
   "cell_type": "markdown",
   "metadata": {},
   "source": [
    "## Transformer Based Approach\n",
    "\n",
    "**Goal:** Predict the target `label` from order book features and volatility indicators.\n",
    "\n",
    "### **Data Preparation**\n",
    "- **Features:** Includes price, volume, and volatility metrics (e.g., kalman forecast of ETH, garch forecast of ETH, cubic Spline feature, cross asset kalman feature, bid/ask levels up to 5). xgboost requires more processed feeatures, so we can't add raw order book data as features since it was adding noise to the model. That's why we needed Transformer based approach.\n",
    "- **Target:** `label` (future value to predict).\n",
    "- **Preprocessing:**\n",
    "  - Missing values filled with `0`.\n",
    "  - Clipping applied to features at the 0.1% and 99.9% quantiles to remove extreme outliers.\n",
    "  - Features scaled using **RobustScaler**.\n",
    "  - Target scaled using **RobustScaler**.\n",
    "  - Time series converted into sequences with **60 timesteps** using `TimeseriesGenerator`.\n",
    "\n",
    "### **Model Architecture**\n",
    "A custom Transformer-based model with:\n",
    "- **MultiHeadAttention** layers (`num_heads=4`, `head_size=256`).\n",
    "- **LayerNormalization** after attention and feed-forward blocks.\n",
    "- **Feed-Forward Network:** Dense → Dense with ReLU activation.\n",
    "- **Dropout** for regularization.\n",
    "- **GlobalAveragePooling1D** before final Dense layers.\n",
    "- **Output Layer:** Dense(1) for regression.\n",
    "\n",
    "### **Training**\n",
    "- **Optimizer:** Adam (`learning_rate=1e-4`).\n",
    "- **Loss:** Mean Squared Error (MSE).\n",
    "- **Callbacks:** Early stopping with patience=10.\n",
    "- **Epochs:** 15.\n",
    "- **Batch Size:** 256.\n",
    "\n",
    "### **Evaluation Metrics**\n",
    "- **RMSE** (Root Mean Squared Error) on the test set.\n",
    "- **R² Score** for both training and testing sets.\n",
    "- Predictions inverse-transformed to original scale for evaluation.\n",
    "\n",
    "**Outcome:** \n",
    "\n",
    "\n",
    "Test Set RMSE: $0.00006619$ \n",
    "\n",
    "Training R² Score: $0.4000$\n",
    "\n",
    "Testing R² Score: $0.3550$"
   ]
  },
  {
   "cell_type": "code",
   "execution_count": 25,
   "metadata": {
    "execution": {
     "iopub.execute_input": "2025-08-16T07:37:24.581064Z",
     "iopub.status.busy": "2025-08-16T07:37:24.580754Z",
     "iopub.status.idle": "2025-08-16T08:20:16.269476Z",
     "shell.execute_reply": "2025-08-16T08:20:16.268768Z",
     "shell.execute_reply.started": "2025-08-16T07:37:24.581041Z"
    }
   },
   "outputs": [
    {
     "name": "stderr",
     "output_type": "stream",
     "text": [
      "2025-08-16 07:37:27.907311: E external/local_xla/xla/stream_executor/cuda/cuda_fft.cc:477] Unable to register cuFFT factory: Attempting to register factory for plugin cuFFT when one has already been registered\n",
      "WARNING: All log messages before absl::InitializeLog() is called are written to STDERR\n",
      "E0000 00:00:1755329848.272810      36 cuda_dnn.cc:8310] Unable to register cuDNN factory: Attempting to register factory for plugin cuDNN when one has already been registered\n",
      "E0000 00:00:1755329848.365214      36 cuda_blas.cc:1418] Unable to register cuBLAS factory: Attempting to register factory for plugin cuBLAS when one has already been registered\n",
      "I0000 00:00:1755329868.228379      36 gpu_device.cc:2022] Created device /job:localhost/replica:0/task:0/device:GPU:0 with 13942 MB memory:  -> device: 0, name: Tesla T4, pci bus id: 0000:00:04.0, compute capability: 7.5\n",
      "I0000 00:00:1755329868.229050      36 gpu_device.cc:2022] Created device /job:localhost/replica:0/task:0/device:GPU:1 with 13942 MB memory:  -> device: 1, name: Tesla T4, pci bus id: 0000:00:05.0, compute capability: 7.5\n"
     ]
    },
    {
     "data": {
      "text/html": [
       "<pre style=\"white-space:pre;overflow-x:auto;line-height:normal;font-family:Menlo,'DejaVu Sans Mono',consolas,'Courier New',monospace\"><span style=\"font-weight: bold\">Model: \"functional_4\"</span>\n",
       "</pre>\n"
      ],
      "text/plain": [
       "\u001b[1mModel: \"functional_4\"\u001b[0m\n"
      ]
     },
     "metadata": {},
     "output_type": "display_data"
    },
    {
     "data": {
      "text/html": [
       "<pre style=\"white-space:pre;overflow-x:auto;line-height:normal;font-family:Menlo,'DejaVu Sans Mono',consolas,'Courier New',monospace\">┏━━━━━━━━━━━━━━━━━━━━━┳━━━━━━━━━━━━━━━━━━━┳━━━━━━━━━━━━┳━━━━━━━━━━━━━━━━━━━┓\n",
       "┃<span style=\"font-weight: bold\"> Layer (type)        </span>┃<span style=\"font-weight: bold\"> Output Shape      </span>┃<span style=\"font-weight: bold\">    Param # </span>┃<span style=\"font-weight: bold\"> Connected to      </span>┃\n",
       "┡━━━━━━━━━━━━━━━━━━━━━╇━━━━━━━━━━━━━━━━━━━╇━━━━━━━━━━━━╇━━━━━━━━━━━━━━━━━━━┩\n",
       "│ input_layer         │ (<span style=\"color: #00d7ff; text-decoration-color: #00d7ff\">None</span>, <span style=\"color: #00af00; text-decoration-color: #00af00\">60</span>, <span style=\"color: #00af00; text-decoration-color: #00af00\">26</span>)    │          <span style=\"color: #00af00; text-decoration-color: #00af00\">0</span> │ -                 │\n",
       "│ (<span style=\"color: #0087ff; text-decoration-color: #0087ff\">InputLayer</span>)        │                   │            │                   │\n",
       "├─────────────────────┼───────────────────┼────────────┼───────────────────┤\n",
       "│ multi_head_attenti… │ (<span style=\"color: #00d7ff; text-decoration-color: #00d7ff\">None</span>, <span style=\"color: #00af00; text-decoration-color: #00af00\">60</span>, <span style=\"color: #00af00; text-decoration-color: #00af00\">26</span>)    │    <span style=\"color: #00af00; text-decoration-color: #00af00\">109,594</span> │ input_layer[<span style=\"color: #00af00; text-decoration-color: #00af00\">0</span>][<span style=\"color: #00af00; text-decoration-color: #00af00\">0</span>… │\n",
       "│ (<span style=\"color: #0087ff; text-decoration-color: #0087ff\">MultiHeadAttentio…</span> │                   │            │ input_layer[<span style=\"color: #00af00; text-decoration-color: #00af00\">0</span>][<span style=\"color: #00af00; text-decoration-color: #00af00\">0</span>] │\n",
       "├─────────────────────┼───────────────────┼────────────┼───────────────────┤\n",
       "│ add (<span style=\"color: #0087ff; text-decoration-color: #0087ff\">Add</span>)           │ (<span style=\"color: #00d7ff; text-decoration-color: #00d7ff\">None</span>, <span style=\"color: #00af00; text-decoration-color: #00af00\">60</span>, <span style=\"color: #00af00; text-decoration-color: #00af00\">26</span>)    │          <span style=\"color: #00af00; text-decoration-color: #00af00\">0</span> │ input_layer[<span style=\"color: #00af00; text-decoration-color: #00af00\">0</span>][<span style=\"color: #00af00; text-decoration-color: #00af00\">0</span>… │\n",
       "│                     │                   │            │ multi_head_atten… │\n",
       "├─────────────────────┼───────────────────┼────────────┼───────────────────┤\n",
       "│ layer_normalization │ (<span style=\"color: #00d7ff; text-decoration-color: #00d7ff\">None</span>, <span style=\"color: #00af00; text-decoration-color: #00af00\">60</span>, <span style=\"color: #00af00; text-decoration-color: #00af00\">26</span>)    │         <span style=\"color: #00af00; text-decoration-color: #00af00\">52</span> │ add[<span style=\"color: #00af00; text-decoration-color: #00af00\">0</span>][<span style=\"color: #00af00; text-decoration-color: #00af00\">0</span>]         │\n",
       "│ (<span style=\"color: #0087ff; text-decoration-color: #0087ff\">LayerNormalizatio…</span> │                   │            │                   │\n",
       "├─────────────────────┼───────────────────┼────────────┼───────────────────┤\n",
       "│ sequential          │ (<span style=\"color: #00d7ff; text-decoration-color: #00d7ff\">None</span>, <span style=\"color: #00af00; text-decoration-color: #00af00\">60</span>, <span style=\"color: #00af00; text-decoration-color: #00af00\">26</span>)    │        <span style=\"color: #00af00; text-decoration-color: #00af00\">238</span> │ layer_normalizat… │\n",
       "│ (<span style=\"color: #0087ff; text-decoration-color: #0087ff\">Sequential</span>)        │                   │            │                   │\n",
       "├─────────────────────┼───────────────────┼────────────┼───────────────────┤\n",
       "│ dropout_1 (<span style=\"color: #0087ff; text-decoration-color: #0087ff\">Dropout</span>) │ (<span style=\"color: #00d7ff; text-decoration-color: #00d7ff\">None</span>, <span style=\"color: #00af00; text-decoration-color: #00af00\">60</span>, <span style=\"color: #00af00; text-decoration-color: #00af00\">26</span>)    │          <span style=\"color: #00af00; text-decoration-color: #00af00\">0</span> │ sequential[<span style=\"color: #00af00; text-decoration-color: #00af00\">0</span>][<span style=\"color: #00af00; text-decoration-color: #00af00\">0</span>]  │\n",
       "├─────────────────────┼───────────────────┼────────────┼───────────────────┤\n",
       "│ add_1 (<span style=\"color: #0087ff; text-decoration-color: #0087ff\">Add</span>)         │ (<span style=\"color: #00d7ff; text-decoration-color: #00d7ff\">None</span>, <span style=\"color: #00af00; text-decoration-color: #00af00\">60</span>, <span style=\"color: #00af00; text-decoration-color: #00af00\">26</span>)    │          <span style=\"color: #00af00; text-decoration-color: #00af00\">0</span> │ layer_normalizat… │\n",
       "│                     │                   │            │ dropout_1[<span style=\"color: #00af00; text-decoration-color: #00af00\">0</span>][<span style=\"color: #00af00; text-decoration-color: #00af00\">0</span>]   │\n",
       "├─────────────────────┼───────────────────┼────────────┼───────────────────┤\n",
       "│ layer_normalizatio… │ (<span style=\"color: #00d7ff; text-decoration-color: #00d7ff\">None</span>, <span style=\"color: #00af00; text-decoration-color: #00af00\">60</span>, <span style=\"color: #00af00; text-decoration-color: #00af00\">26</span>)    │         <span style=\"color: #00af00; text-decoration-color: #00af00\">52</span> │ add_1[<span style=\"color: #00af00; text-decoration-color: #00af00\">0</span>][<span style=\"color: #00af00; text-decoration-color: #00af00\">0</span>]       │\n",
       "│ (<span style=\"color: #0087ff; text-decoration-color: #0087ff\">LayerNormalizatio…</span> │                   │            │                   │\n",
       "├─────────────────────┼───────────────────┼────────────┼───────────────────┤\n",
       "│ multi_head_attenti… │ (<span style=\"color: #00d7ff; text-decoration-color: #00d7ff\">None</span>, <span style=\"color: #00af00; text-decoration-color: #00af00\">60</span>, <span style=\"color: #00af00; text-decoration-color: #00af00\">26</span>)    │    <span style=\"color: #00af00; text-decoration-color: #00af00\">109,594</span> │ layer_normalizat… │\n",
       "│ (<span style=\"color: #0087ff; text-decoration-color: #0087ff\">MultiHeadAttentio…</span> │                   │            │ layer_normalizat… │\n",
       "├─────────────────────┼───────────────────┼────────────┼───────────────────┤\n",
       "│ add_2 (<span style=\"color: #0087ff; text-decoration-color: #0087ff\">Add</span>)         │ (<span style=\"color: #00d7ff; text-decoration-color: #00d7ff\">None</span>, <span style=\"color: #00af00; text-decoration-color: #00af00\">60</span>, <span style=\"color: #00af00; text-decoration-color: #00af00\">26</span>)    │          <span style=\"color: #00af00; text-decoration-color: #00af00\">0</span> │ layer_normalizat… │\n",
       "│                     │                   │            │ multi_head_atten… │\n",
       "├─────────────────────┼───────────────────┼────────────┼───────────────────┤\n",
       "│ layer_normalizatio… │ (<span style=\"color: #00d7ff; text-decoration-color: #00d7ff\">None</span>, <span style=\"color: #00af00; text-decoration-color: #00af00\">60</span>, <span style=\"color: #00af00; text-decoration-color: #00af00\">26</span>)    │         <span style=\"color: #00af00; text-decoration-color: #00af00\">52</span> │ add_2[<span style=\"color: #00af00; text-decoration-color: #00af00\">0</span>][<span style=\"color: #00af00; text-decoration-color: #00af00\">0</span>]       │\n",
       "│ (<span style=\"color: #0087ff; text-decoration-color: #0087ff\">LayerNormalizatio…</span> │                   │            │                   │\n",
       "├─────────────────────┼───────────────────┼────────────┼───────────────────┤\n",
       "│ sequential_1        │ (<span style=\"color: #00d7ff; text-decoration-color: #00d7ff\">None</span>, <span style=\"color: #00af00; text-decoration-color: #00af00\">60</span>, <span style=\"color: #00af00; text-decoration-color: #00af00\">26</span>)    │        <span style=\"color: #00af00; text-decoration-color: #00af00\">238</span> │ layer_normalizat… │\n",
       "│ (<span style=\"color: #0087ff; text-decoration-color: #0087ff\">Sequential</span>)        │                   │            │                   │\n",
       "├─────────────────────┼───────────────────┼────────────┼───────────────────┤\n",
       "│ dropout_3 (<span style=\"color: #0087ff; text-decoration-color: #0087ff\">Dropout</span>) │ (<span style=\"color: #00d7ff; text-decoration-color: #00d7ff\">None</span>, <span style=\"color: #00af00; text-decoration-color: #00af00\">60</span>, <span style=\"color: #00af00; text-decoration-color: #00af00\">26</span>)    │          <span style=\"color: #00af00; text-decoration-color: #00af00\">0</span> │ sequential_1[<span style=\"color: #00af00; text-decoration-color: #00af00\">0</span>][<span style=\"color: #00af00; text-decoration-color: #00af00\">…</span> │\n",
       "├─────────────────────┼───────────────────┼────────────┼───────────────────┤\n",
       "│ add_3 (<span style=\"color: #0087ff; text-decoration-color: #0087ff\">Add</span>)         │ (<span style=\"color: #00d7ff; text-decoration-color: #00d7ff\">None</span>, <span style=\"color: #00af00; text-decoration-color: #00af00\">60</span>, <span style=\"color: #00af00; text-decoration-color: #00af00\">26</span>)    │          <span style=\"color: #00af00; text-decoration-color: #00af00\">0</span> │ layer_normalizat… │\n",
       "│                     │                   │            │ dropout_3[<span style=\"color: #00af00; text-decoration-color: #00af00\">0</span>][<span style=\"color: #00af00; text-decoration-color: #00af00\">0</span>]   │\n",
       "├─────────────────────┼───────────────────┼────────────┼───────────────────┤\n",
       "│ layer_normalizatio… │ (<span style=\"color: #00d7ff; text-decoration-color: #00d7ff\">None</span>, <span style=\"color: #00af00; text-decoration-color: #00af00\">60</span>, <span style=\"color: #00af00; text-decoration-color: #00af00\">26</span>)    │         <span style=\"color: #00af00; text-decoration-color: #00af00\">52</span> │ add_3[<span style=\"color: #00af00; text-decoration-color: #00af00\">0</span>][<span style=\"color: #00af00; text-decoration-color: #00af00\">0</span>]       │\n",
       "│ (<span style=\"color: #0087ff; text-decoration-color: #0087ff\">LayerNormalizatio…</span> │                   │            │                   │\n",
       "├─────────────────────┼───────────────────┼────────────┼───────────────────┤\n",
       "│ multi_head_attenti… │ (<span style=\"color: #00d7ff; text-decoration-color: #00d7ff\">None</span>, <span style=\"color: #00af00; text-decoration-color: #00af00\">60</span>, <span style=\"color: #00af00; text-decoration-color: #00af00\">26</span>)    │    <span style=\"color: #00af00; text-decoration-color: #00af00\">109,594</span> │ layer_normalizat… │\n",
       "│ (<span style=\"color: #0087ff; text-decoration-color: #0087ff\">MultiHeadAttentio…</span> │                   │            │ layer_normalizat… │\n",
       "├─────────────────────┼───────────────────┼────────────┼───────────────────┤\n",
       "│ add_4 (<span style=\"color: #0087ff; text-decoration-color: #0087ff\">Add</span>)         │ (<span style=\"color: #00d7ff; text-decoration-color: #00d7ff\">None</span>, <span style=\"color: #00af00; text-decoration-color: #00af00\">60</span>, <span style=\"color: #00af00; text-decoration-color: #00af00\">26</span>)    │          <span style=\"color: #00af00; text-decoration-color: #00af00\">0</span> │ layer_normalizat… │\n",
       "│                     │                   │            │ multi_head_atten… │\n",
       "├─────────────────────┼───────────────────┼────────────┼───────────────────┤\n",
       "│ layer_normalizatio… │ (<span style=\"color: #00d7ff; text-decoration-color: #00d7ff\">None</span>, <span style=\"color: #00af00; text-decoration-color: #00af00\">60</span>, <span style=\"color: #00af00; text-decoration-color: #00af00\">26</span>)    │         <span style=\"color: #00af00; text-decoration-color: #00af00\">52</span> │ add_4[<span style=\"color: #00af00; text-decoration-color: #00af00\">0</span>][<span style=\"color: #00af00; text-decoration-color: #00af00\">0</span>]       │\n",
       "│ (<span style=\"color: #0087ff; text-decoration-color: #0087ff\">LayerNormalizatio…</span> │                   │            │                   │\n",
       "├─────────────────────┼───────────────────┼────────────┼───────────────────┤\n",
       "│ sequential_2        │ (<span style=\"color: #00d7ff; text-decoration-color: #00d7ff\">None</span>, <span style=\"color: #00af00; text-decoration-color: #00af00\">60</span>, <span style=\"color: #00af00; text-decoration-color: #00af00\">26</span>)    │        <span style=\"color: #00af00; text-decoration-color: #00af00\">238</span> │ layer_normalizat… │\n",
       "│ (<span style=\"color: #0087ff; text-decoration-color: #0087ff\">Sequential</span>)        │                   │            │                   │\n",
       "├─────────────────────┼───────────────────┼────────────┼───────────────────┤\n",
       "│ dropout_5 (<span style=\"color: #0087ff; text-decoration-color: #0087ff\">Dropout</span>) │ (<span style=\"color: #00d7ff; text-decoration-color: #00d7ff\">None</span>, <span style=\"color: #00af00; text-decoration-color: #00af00\">60</span>, <span style=\"color: #00af00; text-decoration-color: #00af00\">26</span>)    │          <span style=\"color: #00af00; text-decoration-color: #00af00\">0</span> │ sequential_2[<span style=\"color: #00af00; text-decoration-color: #00af00\">0</span>][<span style=\"color: #00af00; text-decoration-color: #00af00\">…</span> │\n",
       "├─────────────────────┼───────────────────┼────────────┼───────────────────┤\n",
       "│ add_5 (<span style=\"color: #0087ff; text-decoration-color: #0087ff\">Add</span>)         │ (<span style=\"color: #00d7ff; text-decoration-color: #00d7ff\">None</span>, <span style=\"color: #00af00; text-decoration-color: #00af00\">60</span>, <span style=\"color: #00af00; text-decoration-color: #00af00\">26</span>)    │          <span style=\"color: #00af00; text-decoration-color: #00af00\">0</span> │ layer_normalizat… │\n",
       "│                     │                   │            │ dropout_5[<span style=\"color: #00af00; text-decoration-color: #00af00\">0</span>][<span style=\"color: #00af00; text-decoration-color: #00af00\">0</span>]   │\n",
       "├─────────────────────┼───────────────────┼────────────┼───────────────────┤\n",
       "│ layer_normalizatio… │ (<span style=\"color: #00d7ff; text-decoration-color: #00d7ff\">None</span>, <span style=\"color: #00af00; text-decoration-color: #00af00\">60</span>, <span style=\"color: #00af00; text-decoration-color: #00af00\">26</span>)    │         <span style=\"color: #00af00; text-decoration-color: #00af00\">52</span> │ add_5[<span style=\"color: #00af00; text-decoration-color: #00af00\">0</span>][<span style=\"color: #00af00; text-decoration-color: #00af00\">0</span>]       │\n",
       "│ (<span style=\"color: #0087ff; text-decoration-color: #0087ff\">LayerNormalizatio…</span> │                   │            │                   │\n",
       "├─────────────────────┼───────────────────┼────────────┼───────────────────┤\n",
       "│ multi_head_attenti… │ (<span style=\"color: #00d7ff; text-decoration-color: #00d7ff\">None</span>, <span style=\"color: #00af00; text-decoration-color: #00af00\">60</span>, <span style=\"color: #00af00; text-decoration-color: #00af00\">26</span>)    │    <span style=\"color: #00af00; text-decoration-color: #00af00\">109,594</span> │ layer_normalizat… │\n",
       "│ (<span style=\"color: #0087ff; text-decoration-color: #0087ff\">MultiHeadAttentio…</span> │                   │            │ layer_normalizat… │\n",
       "├─────────────────────┼───────────────────┼────────────┼───────────────────┤\n",
       "│ add_6 (<span style=\"color: #0087ff; text-decoration-color: #0087ff\">Add</span>)         │ (<span style=\"color: #00d7ff; text-decoration-color: #00d7ff\">None</span>, <span style=\"color: #00af00; text-decoration-color: #00af00\">60</span>, <span style=\"color: #00af00; text-decoration-color: #00af00\">26</span>)    │          <span style=\"color: #00af00; text-decoration-color: #00af00\">0</span> │ layer_normalizat… │\n",
       "│                     │                   │            │ multi_head_atten… │\n",
       "├─────────────────────┼───────────────────┼────────────┼───────────────────┤\n",
       "│ layer_normalizatio… │ (<span style=\"color: #00d7ff; text-decoration-color: #00d7ff\">None</span>, <span style=\"color: #00af00; text-decoration-color: #00af00\">60</span>, <span style=\"color: #00af00; text-decoration-color: #00af00\">26</span>)    │         <span style=\"color: #00af00; text-decoration-color: #00af00\">52</span> │ add_6[<span style=\"color: #00af00; text-decoration-color: #00af00\">0</span>][<span style=\"color: #00af00; text-decoration-color: #00af00\">0</span>]       │\n",
       "│ (<span style=\"color: #0087ff; text-decoration-color: #0087ff\">LayerNormalizatio…</span> │                   │            │                   │\n",
       "├─────────────────────┼───────────────────┼────────────┼───────────────────┤\n",
       "│ sequential_3        │ (<span style=\"color: #00d7ff; text-decoration-color: #00d7ff\">None</span>, <span style=\"color: #00af00; text-decoration-color: #00af00\">60</span>, <span style=\"color: #00af00; text-decoration-color: #00af00\">26</span>)    │        <span style=\"color: #00af00; text-decoration-color: #00af00\">238</span> │ layer_normalizat… │\n",
       "│ (<span style=\"color: #0087ff; text-decoration-color: #0087ff\">Sequential</span>)        │                   │            │                   │\n",
       "├─────────────────────┼───────────────────┼────────────┼───────────────────┤\n",
       "│ dropout_7 (<span style=\"color: #0087ff; text-decoration-color: #0087ff\">Dropout</span>) │ (<span style=\"color: #00d7ff; text-decoration-color: #00d7ff\">None</span>, <span style=\"color: #00af00; text-decoration-color: #00af00\">60</span>, <span style=\"color: #00af00; text-decoration-color: #00af00\">26</span>)    │          <span style=\"color: #00af00; text-decoration-color: #00af00\">0</span> │ sequential_3[<span style=\"color: #00af00; text-decoration-color: #00af00\">0</span>][<span style=\"color: #00af00; text-decoration-color: #00af00\">…</span> │\n",
       "├─────────────────────┼───────────────────┼────────────┼───────────────────┤\n",
       "│ add_7 (<span style=\"color: #0087ff; text-decoration-color: #0087ff\">Add</span>)         │ (<span style=\"color: #00d7ff; text-decoration-color: #00d7ff\">None</span>, <span style=\"color: #00af00; text-decoration-color: #00af00\">60</span>, <span style=\"color: #00af00; text-decoration-color: #00af00\">26</span>)    │          <span style=\"color: #00af00; text-decoration-color: #00af00\">0</span> │ layer_normalizat… │\n",
       "│                     │                   │            │ dropout_7[<span style=\"color: #00af00; text-decoration-color: #00af00\">0</span>][<span style=\"color: #00af00; text-decoration-color: #00af00\">0</span>]   │\n",
       "├─────────────────────┼───────────────────┼────────────┼───────────────────┤\n",
       "│ layer_normalizatio… │ (<span style=\"color: #00d7ff; text-decoration-color: #00d7ff\">None</span>, <span style=\"color: #00af00; text-decoration-color: #00af00\">60</span>, <span style=\"color: #00af00; text-decoration-color: #00af00\">26</span>)    │         <span style=\"color: #00af00; text-decoration-color: #00af00\">52</span> │ add_7[<span style=\"color: #00af00; text-decoration-color: #00af00\">0</span>][<span style=\"color: #00af00; text-decoration-color: #00af00\">0</span>]       │\n",
       "│ (<span style=\"color: #0087ff; text-decoration-color: #0087ff\">LayerNormalizatio…</span> │                   │            │                   │\n",
       "├─────────────────────┼───────────────────┼────────────┼───────────────────┤\n",
       "│ global_average_poo… │ (<span style=\"color: #00d7ff; text-decoration-color: #00d7ff\">None</span>, <span style=\"color: #00af00; text-decoration-color: #00af00\">26</span>)        │          <span style=\"color: #00af00; text-decoration-color: #00af00\">0</span> │ layer_normalizat… │\n",
       "│ (<span style=\"color: #0087ff; text-decoration-color: #0087ff\">GlobalAveragePool…</span> │                   │            │                   │\n",
       "├─────────────────────┼───────────────────┼────────────┼───────────────────┤\n",
       "│ dense_8 (<span style=\"color: #0087ff; text-decoration-color: #0087ff\">Dense</span>)     │ (<span style=\"color: #00d7ff; text-decoration-color: #00d7ff\">None</span>, <span style=\"color: #00af00; text-decoration-color: #00af00\">64</span>)        │      <span style=\"color: #00af00; text-decoration-color: #00af00\">1,728</span> │ global_average_p… │\n",
       "├─────────────────────┼───────────────────┼────────────┼───────────────────┤\n",
       "│ dropout_8 (<span style=\"color: #0087ff; text-decoration-color: #0087ff\">Dropout</span>) │ (<span style=\"color: #00d7ff; text-decoration-color: #00d7ff\">None</span>, <span style=\"color: #00af00; text-decoration-color: #00af00\">64</span>)        │          <span style=\"color: #00af00; text-decoration-color: #00af00\">0</span> │ dense_8[<span style=\"color: #00af00; text-decoration-color: #00af00\">0</span>][<span style=\"color: #00af00; text-decoration-color: #00af00\">0</span>]     │\n",
       "├─────────────────────┼───────────────────┼────────────┼───────────────────┤\n",
       "│ dense_9 (<span style=\"color: #0087ff; text-decoration-color: #0087ff\">Dense</span>)     │ (<span style=\"color: #00d7ff; text-decoration-color: #00d7ff\">None</span>, <span style=\"color: #00af00; text-decoration-color: #00af00\">1</span>)         │         <span style=\"color: #00af00; text-decoration-color: #00af00\">65</span> │ dropout_8[<span style=\"color: #00af00; text-decoration-color: #00af00\">0</span>][<span style=\"color: #00af00; text-decoration-color: #00af00\">0</span>]   │\n",
       "└─────────────────────┴───────────────────┴────────────┴───────────────────┘\n",
       "</pre>\n"
      ],
      "text/plain": [
       "┏━━━━━━━━━━━━━━━━━━━━━┳━━━━━━━━━━━━━━━━━━━┳━━━━━━━━━━━━┳━━━━━━━━━━━━━━━━━━━┓\n",
       "┃\u001b[1m \u001b[0m\u001b[1mLayer (type)       \u001b[0m\u001b[1m \u001b[0m┃\u001b[1m \u001b[0m\u001b[1mOutput Shape     \u001b[0m\u001b[1m \u001b[0m┃\u001b[1m \u001b[0m\u001b[1m   Param #\u001b[0m\u001b[1m \u001b[0m┃\u001b[1m \u001b[0m\u001b[1mConnected to     \u001b[0m\u001b[1m \u001b[0m┃\n",
       "┡━━━━━━━━━━━━━━━━━━━━━╇━━━━━━━━━━━━━━━━━━━╇━━━━━━━━━━━━╇━━━━━━━━━━━━━━━━━━━┩\n",
       "│ input_layer         │ (\u001b[38;5;45mNone\u001b[0m, \u001b[38;5;34m60\u001b[0m, \u001b[38;5;34m26\u001b[0m)    │          \u001b[38;5;34m0\u001b[0m │ -                 │\n",
       "│ (\u001b[38;5;33mInputLayer\u001b[0m)        │                   │            │                   │\n",
       "├─────────────────────┼───────────────────┼────────────┼───────────────────┤\n",
       "│ multi_head_attenti… │ (\u001b[38;5;45mNone\u001b[0m, \u001b[38;5;34m60\u001b[0m, \u001b[38;5;34m26\u001b[0m)    │    \u001b[38;5;34m109,594\u001b[0m │ input_layer[\u001b[38;5;34m0\u001b[0m][\u001b[38;5;34m0\u001b[0m… │\n",
       "│ (\u001b[38;5;33mMultiHeadAttentio…\u001b[0m │                   │            │ input_layer[\u001b[38;5;34m0\u001b[0m][\u001b[38;5;34m0\u001b[0m] │\n",
       "├─────────────────────┼───────────────────┼────────────┼───────────────────┤\n",
       "│ add (\u001b[38;5;33mAdd\u001b[0m)           │ (\u001b[38;5;45mNone\u001b[0m, \u001b[38;5;34m60\u001b[0m, \u001b[38;5;34m26\u001b[0m)    │          \u001b[38;5;34m0\u001b[0m │ input_layer[\u001b[38;5;34m0\u001b[0m][\u001b[38;5;34m0\u001b[0m… │\n",
       "│                     │                   │            │ multi_head_atten… │\n",
       "├─────────────────────┼───────────────────┼────────────┼───────────────────┤\n",
       "│ layer_normalization │ (\u001b[38;5;45mNone\u001b[0m, \u001b[38;5;34m60\u001b[0m, \u001b[38;5;34m26\u001b[0m)    │         \u001b[38;5;34m52\u001b[0m │ add[\u001b[38;5;34m0\u001b[0m][\u001b[38;5;34m0\u001b[0m]         │\n",
       "│ (\u001b[38;5;33mLayerNormalizatio…\u001b[0m │                   │            │                   │\n",
       "├─────────────────────┼───────────────────┼────────────┼───────────────────┤\n",
       "│ sequential          │ (\u001b[38;5;45mNone\u001b[0m, \u001b[38;5;34m60\u001b[0m, \u001b[38;5;34m26\u001b[0m)    │        \u001b[38;5;34m238\u001b[0m │ layer_normalizat… │\n",
       "│ (\u001b[38;5;33mSequential\u001b[0m)        │                   │            │                   │\n",
       "├─────────────────────┼───────────────────┼────────────┼───────────────────┤\n",
       "│ dropout_1 (\u001b[38;5;33mDropout\u001b[0m) │ (\u001b[38;5;45mNone\u001b[0m, \u001b[38;5;34m60\u001b[0m, \u001b[38;5;34m26\u001b[0m)    │          \u001b[38;5;34m0\u001b[0m │ sequential[\u001b[38;5;34m0\u001b[0m][\u001b[38;5;34m0\u001b[0m]  │\n",
       "├─────────────────────┼───────────────────┼────────────┼───────────────────┤\n",
       "│ add_1 (\u001b[38;5;33mAdd\u001b[0m)         │ (\u001b[38;5;45mNone\u001b[0m, \u001b[38;5;34m60\u001b[0m, \u001b[38;5;34m26\u001b[0m)    │          \u001b[38;5;34m0\u001b[0m │ layer_normalizat… │\n",
       "│                     │                   │            │ dropout_1[\u001b[38;5;34m0\u001b[0m][\u001b[38;5;34m0\u001b[0m]   │\n",
       "├─────────────────────┼───────────────────┼────────────┼───────────────────┤\n",
       "│ layer_normalizatio… │ (\u001b[38;5;45mNone\u001b[0m, \u001b[38;5;34m60\u001b[0m, \u001b[38;5;34m26\u001b[0m)    │         \u001b[38;5;34m52\u001b[0m │ add_1[\u001b[38;5;34m0\u001b[0m][\u001b[38;5;34m0\u001b[0m]       │\n",
       "│ (\u001b[38;5;33mLayerNormalizatio…\u001b[0m │                   │            │                   │\n",
       "├─────────────────────┼───────────────────┼────────────┼───────────────────┤\n",
       "│ multi_head_attenti… │ (\u001b[38;5;45mNone\u001b[0m, \u001b[38;5;34m60\u001b[0m, \u001b[38;5;34m26\u001b[0m)    │    \u001b[38;5;34m109,594\u001b[0m │ layer_normalizat… │\n",
       "│ (\u001b[38;5;33mMultiHeadAttentio…\u001b[0m │                   │            │ layer_normalizat… │\n",
       "├─────────────────────┼───────────────────┼────────────┼───────────────────┤\n",
       "│ add_2 (\u001b[38;5;33mAdd\u001b[0m)         │ (\u001b[38;5;45mNone\u001b[0m, \u001b[38;5;34m60\u001b[0m, \u001b[38;5;34m26\u001b[0m)    │          \u001b[38;5;34m0\u001b[0m │ layer_normalizat… │\n",
       "│                     │                   │            │ multi_head_atten… │\n",
       "├─────────────────────┼───────────────────┼────────────┼───────────────────┤\n",
       "│ layer_normalizatio… │ (\u001b[38;5;45mNone\u001b[0m, \u001b[38;5;34m60\u001b[0m, \u001b[38;5;34m26\u001b[0m)    │         \u001b[38;5;34m52\u001b[0m │ add_2[\u001b[38;5;34m0\u001b[0m][\u001b[38;5;34m0\u001b[0m]       │\n",
       "│ (\u001b[38;5;33mLayerNormalizatio…\u001b[0m │                   │            │                   │\n",
       "├─────────────────────┼───────────────────┼────────────┼───────────────────┤\n",
       "│ sequential_1        │ (\u001b[38;5;45mNone\u001b[0m, \u001b[38;5;34m60\u001b[0m, \u001b[38;5;34m26\u001b[0m)    │        \u001b[38;5;34m238\u001b[0m │ layer_normalizat… │\n",
       "│ (\u001b[38;5;33mSequential\u001b[0m)        │                   │            │                   │\n",
       "├─────────────────────┼───────────────────┼────────────┼───────────────────┤\n",
       "│ dropout_3 (\u001b[38;5;33mDropout\u001b[0m) │ (\u001b[38;5;45mNone\u001b[0m, \u001b[38;5;34m60\u001b[0m, \u001b[38;5;34m26\u001b[0m)    │          \u001b[38;5;34m0\u001b[0m │ sequential_1[\u001b[38;5;34m0\u001b[0m][\u001b[38;5;34m…\u001b[0m │\n",
       "├─────────────────────┼───────────────────┼────────────┼───────────────────┤\n",
       "│ add_3 (\u001b[38;5;33mAdd\u001b[0m)         │ (\u001b[38;5;45mNone\u001b[0m, \u001b[38;5;34m60\u001b[0m, \u001b[38;5;34m26\u001b[0m)    │          \u001b[38;5;34m0\u001b[0m │ layer_normalizat… │\n",
       "│                     │                   │            │ dropout_3[\u001b[38;5;34m0\u001b[0m][\u001b[38;5;34m0\u001b[0m]   │\n",
       "├─────────────────────┼───────────────────┼────────────┼───────────────────┤\n",
       "│ layer_normalizatio… │ (\u001b[38;5;45mNone\u001b[0m, \u001b[38;5;34m60\u001b[0m, \u001b[38;5;34m26\u001b[0m)    │         \u001b[38;5;34m52\u001b[0m │ add_3[\u001b[38;5;34m0\u001b[0m][\u001b[38;5;34m0\u001b[0m]       │\n",
       "│ (\u001b[38;5;33mLayerNormalizatio…\u001b[0m │                   │            │                   │\n",
       "├─────────────────────┼───────────────────┼────────────┼───────────────────┤\n",
       "│ multi_head_attenti… │ (\u001b[38;5;45mNone\u001b[0m, \u001b[38;5;34m60\u001b[0m, \u001b[38;5;34m26\u001b[0m)    │    \u001b[38;5;34m109,594\u001b[0m │ layer_normalizat… │\n",
       "│ (\u001b[38;5;33mMultiHeadAttentio…\u001b[0m │                   │            │ layer_normalizat… │\n",
       "├─────────────────────┼───────────────────┼────────────┼───────────────────┤\n",
       "│ add_4 (\u001b[38;5;33mAdd\u001b[0m)         │ (\u001b[38;5;45mNone\u001b[0m, \u001b[38;5;34m60\u001b[0m, \u001b[38;5;34m26\u001b[0m)    │          \u001b[38;5;34m0\u001b[0m │ layer_normalizat… │\n",
       "│                     │                   │            │ multi_head_atten… │\n",
       "├─────────────────────┼───────────────────┼────────────┼───────────────────┤\n",
       "│ layer_normalizatio… │ (\u001b[38;5;45mNone\u001b[0m, \u001b[38;5;34m60\u001b[0m, \u001b[38;5;34m26\u001b[0m)    │         \u001b[38;5;34m52\u001b[0m │ add_4[\u001b[38;5;34m0\u001b[0m][\u001b[38;5;34m0\u001b[0m]       │\n",
       "│ (\u001b[38;5;33mLayerNormalizatio…\u001b[0m │                   │            │                   │\n",
       "├─────────────────────┼───────────────────┼────────────┼───────────────────┤\n",
       "│ sequential_2        │ (\u001b[38;5;45mNone\u001b[0m, \u001b[38;5;34m60\u001b[0m, \u001b[38;5;34m26\u001b[0m)    │        \u001b[38;5;34m238\u001b[0m │ layer_normalizat… │\n",
       "│ (\u001b[38;5;33mSequential\u001b[0m)        │                   │            │                   │\n",
       "├─────────────────────┼───────────────────┼────────────┼───────────────────┤\n",
       "│ dropout_5 (\u001b[38;5;33mDropout\u001b[0m) │ (\u001b[38;5;45mNone\u001b[0m, \u001b[38;5;34m60\u001b[0m, \u001b[38;5;34m26\u001b[0m)    │          \u001b[38;5;34m0\u001b[0m │ sequential_2[\u001b[38;5;34m0\u001b[0m][\u001b[38;5;34m…\u001b[0m │\n",
       "├─────────────────────┼───────────────────┼────────────┼───────────────────┤\n",
       "│ add_5 (\u001b[38;5;33mAdd\u001b[0m)         │ (\u001b[38;5;45mNone\u001b[0m, \u001b[38;5;34m60\u001b[0m, \u001b[38;5;34m26\u001b[0m)    │          \u001b[38;5;34m0\u001b[0m │ layer_normalizat… │\n",
       "│                     │                   │            │ dropout_5[\u001b[38;5;34m0\u001b[0m][\u001b[38;5;34m0\u001b[0m]   │\n",
       "├─────────────────────┼───────────────────┼────────────┼───────────────────┤\n",
       "│ layer_normalizatio… │ (\u001b[38;5;45mNone\u001b[0m, \u001b[38;5;34m60\u001b[0m, \u001b[38;5;34m26\u001b[0m)    │         \u001b[38;5;34m52\u001b[0m │ add_5[\u001b[38;5;34m0\u001b[0m][\u001b[38;5;34m0\u001b[0m]       │\n",
       "│ (\u001b[38;5;33mLayerNormalizatio…\u001b[0m │                   │            │                   │\n",
       "├─────────────────────┼───────────────────┼────────────┼───────────────────┤\n",
       "│ multi_head_attenti… │ (\u001b[38;5;45mNone\u001b[0m, \u001b[38;5;34m60\u001b[0m, \u001b[38;5;34m26\u001b[0m)    │    \u001b[38;5;34m109,594\u001b[0m │ layer_normalizat… │\n",
       "│ (\u001b[38;5;33mMultiHeadAttentio…\u001b[0m │                   │            │ layer_normalizat… │\n",
       "├─────────────────────┼───────────────────┼────────────┼───────────────────┤\n",
       "│ add_6 (\u001b[38;5;33mAdd\u001b[0m)         │ (\u001b[38;5;45mNone\u001b[0m, \u001b[38;5;34m60\u001b[0m, \u001b[38;5;34m26\u001b[0m)    │          \u001b[38;5;34m0\u001b[0m │ layer_normalizat… │\n",
       "│                     │                   │            │ multi_head_atten… │\n",
       "├─────────────────────┼───────────────────┼────────────┼───────────────────┤\n",
       "│ layer_normalizatio… │ (\u001b[38;5;45mNone\u001b[0m, \u001b[38;5;34m60\u001b[0m, \u001b[38;5;34m26\u001b[0m)    │         \u001b[38;5;34m52\u001b[0m │ add_6[\u001b[38;5;34m0\u001b[0m][\u001b[38;5;34m0\u001b[0m]       │\n",
       "│ (\u001b[38;5;33mLayerNormalizatio…\u001b[0m │                   │            │                   │\n",
       "├─────────────────────┼───────────────────┼────────────┼───────────────────┤\n",
       "│ sequential_3        │ (\u001b[38;5;45mNone\u001b[0m, \u001b[38;5;34m60\u001b[0m, \u001b[38;5;34m26\u001b[0m)    │        \u001b[38;5;34m238\u001b[0m │ layer_normalizat… │\n",
       "│ (\u001b[38;5;33mSequential\u001b[0m)        │                   │            │                   │\n",
       "├─────────────────────┼───────────────────┼────────────┼───────────────────┤\n",
       "│ dropout_7 (\u001b[38;5;33mDropout\u001b[0m) │ (\u001b[38;5;45mNone\u001b[0m, \u001b[38;5;34m60\u001b[0m, \u001b[38;5;34m26\u001b[0m)    │          \u001b[38;5;34m0\u001b[0m │ sequential_3[\u001b[38;5;34m0\u001b[0m][\u001b[38;5;34m…\u001b[0m │\n",
       "├─────────────────────┼───────────────────┼────────────┼───────────────────┤\n",
       "│ add_7 (\u001b[38;5;33mAdd\u001b[0m)         │ (\u001b[38;5;45mNone\u001b[0m, \u001b[38;5;34m60\u001b[0m, \u001b[38;5;34m26\u001b[0m)    │          \u001b[38;5;34m0\u001b[0m │ layer_normalizat… │\n",
       "│                     │                   │            │ dropout_7[\u001b[38;5;34m0\u001b[0m][\u001b[38;5;34m0\u001b[0m]   │\n",
       "├─────────────────────┼───────────────────┼────────────┼───────────────────┤\n",
       "│ layer_normalizatio… │ (\u001b[38;5;45mNone\u001b[0m, \u001b[38;5;34m60\u001b[0m, \u001b[38;5;34m26\u001b[0m)    │         \u001b[38;5;34m52\u001b[0m │ add_7[\u001b[38;5;34m0\u001b[0m][\u001b[38;5;34m0\u001b[0m]       │\n",
       "│ (\u001b[38;5;33mLayerNormalizatio…\u001b[0m │                   │            │                   │\n",
       "├─────────────────────┼───────────────────┼────────────┼───────────────────┤\n",
       "│ global_average_poo… │ (\u001b[38;5;45mNone\u001b[0m, \u001b[38;5;34m26\u001b[0m)        │          \u001b[38;5;34m0\u001b[0m │ layer_normalizat… │\n",
       "│ (\u001b[38;5;33mGlobalAveragePool…\u001b[0m │                   │            │                   │\n",
       "├─────────────────────┼───────────────────┼────────────┼───────────────────┤\n",
       "│ dense_8 (\u001b[38;5;33mDense\u001b[0m)     │ (\u001b[38;5;45mNone\u001b[0m, \u001b[38;5;34m64\u001b[0m)        │      \u001b[38;5;34m1,728\u001b[0m │ global_average_p… │\n",
       "├─────────────────────┼───────────────────┼────────────┼───────────────────┤\n",
       "│ dropout_8 (\u001b[38;5;33mDropout\u001b[0m) │ (\u001b[38;5;45mNone\u001b[0m, \u001b[38;5;34m64\u001b[0m)        │          \u001b[38;5;34m0\u001b[0m │ dense_8[\u001b[38;5;34m0\u001b[0m][\u001b[38;5;34m0\u001b[0m]     │\n",
       "├─────────────────────┼───────────────────┼────────────┼───────────────────┤\n",
       "│ dense_9 (\u001b[38;5;33mDense\u001b[0m)     │ (\u001b[38;5;45mNone\u001b[0m, \u001b[38;5;34m1\u001b[0m)         │         \u001b[38;5;34m65\u001b[0m │ dropout_8[\u001b[38;5;34m0\u001b[0m][\u001b[38;5;34m0\u001b[0m]   │\n",
       "└─────────────────────┴───────────────────┴────────────┴───────────────────┘\n"
      ]
     },
     "metadata": {},
     "output_type": "display_data"
    },
    {
     "data": {
      "text/html": [
       "<pre style=\"white-space:pre;overflow-x:auto;line-height:normal;font-family:Menlo,'DejaVu Sans Mono',consolas,'Courier New',monospace\"><span style=\"font-weight: bold\"> Total params: </span><span style=\"color: #00af00; text-decoration-color: #00af00\">441,537</span> (1.68 MB)\n",
       "</pre>\n"
      ],
      "text/plain": [
       "\u001b[1m Total params: \u001b[0m\u001b[38;5;34m441,537\u001b[0m (1.68 MB)\n"
      ]
     },
     "metadata": {},
     "output_type": "display_data"
    },
    {
     "data": {
      "text/html": [
       "<pre style=\"white-space:pre;overflow-x:auto;line-height:normal;font-family:Menlo,'DejaVu Sans Mono',consolas,'Courier New',monospace\"><span style=\"font-weight: bold\"> Trainable params: </span><span style=\"color: #00af00; text-decoration-color: #00af00\">441,537</span> (1.68 MB)\n",
       "</pre>\n"
      ],
      "text/plain": [
       "\u001b[1m Trainable params: \u001b[0m\u001b[38;5;34m441,537\u001b[0m (1.68 MB)\n"
      ]
     },
     "metadata": {},
     "output_type": "display_data"
    },
    {
     "data": {
      "text/html": [
       "<pre style=\"white-space:pre;overflow-x:auto;line-height:normal;font-family:Menlo,'DejaVu Sans Mono',consolas,'Courier New',monospace\"><span style=\"font-weight: bold\"> Non-trainable params: </span><span style=\"color: #00af00; text-decoration-color: #00af00\">0</span> (0.00 B)\n",
       "</pre>\n"
      ],
      "text/plain": [
       "\u001b[1m Non-trainable params: \u001b[0m\u001b[38;5;34m0\u001b[0m (0.00 B)\n"
      ]
     },
     "metadata": {},
     "output_type": "display_data"
    },
    {
     "name": "stdout",
     "output_type": "stream",
     "text": [
      "\n",
      "Training Transformer model for validation...\n",
      "Epoch 1/15\n"
     ]
    },
    {
     "name": "stderr",
     "output_type": "stream",
     "text": [
      "/usr/local/lib/python3.11/dist-packages/keras/src/trainers/data_adapters/py_dataset_adapter.py:121: UserWarning: Your `PyDataset` class should call `super().__init__(**kwargs)` in its constructor. `**kwargs` can include `workers`, `use_multiprocessing`, `max_queue_size`. Do not pass these arguments to `fit()`, as they will be ignored.\n",
      "  self._warn_if_super_not_called()\n",
      "WARNING: All log messages before absl::InitializeLog() is called are written to STDERR\n",
      "I0000 00:00:1755329885.587102     152 service.cc:148] XLA service 0x7cbce0002a80 initialized for platform CUDA (this does not guarantee that XLA will be used). Devices:\n",
      "I0000 00:00:1755329885.588947     152 service.cc:156]   StreamExecutor device (0): Tesla T4, Compute Capability 7.5\n",
      "I0000 00:00:1755329885.588966     152 service.cc:156]   StreamExecutor device (1): Tesla T4, Compute Capability 7.5\n",
      "I0000 00:00:1755329887.175476     152 cuda_dnn.cc:529] Loaded cuDNN version 90300\n"
     ]
    },
    {
     "name": "stdout",
     "output_type": "stream",
     "text": [
      "\u001b[1m   1/1973\u001b[0m \u001b[37m━━━━━━━━━━━━━━━━━━━━\u001b[0m \u001b[1m14:29:49\u001b[0m 26s/step - loss: 1.0964"
     ]
    },
    {
     "name": "stderr",
     "output_type": "stream",
     "text": [
      "I0000 00:00:1755329896.534394     152 device_compiler.h:188] Compiled cluster using XLA!  This line is logged at most once for the lifetime of the process.\n"
     ]
    },
    {
     "name": "stdout",
     "output_type": "stream",
     "text": [
      "\u001b[1m1973/1973\u001b[0m \u001b[32m━━━━━━━━━━━━━━━━━━━━\u001b[0m\u001b[37m\u001b[0m \u001b[1m195s\u001b[0m 86ms/step - loss: 0.5033 - val_loss: 1.3965\n",
      "Epoch 2/15\n",
      "\u001b[1m1973/1973\u001b[0m \u001b[32m━━━━━━━━━━━━━━━━━━━━\u001b[0m\u001b[37m\u001b[0m \u001b[1m163s\u001b[0m 83ms/step - loss: 0.4193 - val_loss: 1.3723\n",
      "Epoch 3/15\n",
      "\u001b[1m1973/1973\u001b[0m \u001b[32m━━━━━━━━━━━━━━━━━━━━\u001b[0m\u001b[37m\u001b[0m \u001b[1m163s\u001b[0m 83ms/step - loss: 0.4222 - val_loss: 1.2866\n",
      "Epoch 4/15\n",
      "\u001b[1m1973/1973\u001b[0m \u001b[32m━━━━━━━━━━━━━━━━━━━━\u001b[0m\u001b[37m\u001b[0m \u001b[1m163s\u001b[0m 83ms/step - loss: 0.4378 - val_loss: 1.3488\n",
      "Epoch 5/15\n",
      "\u001b[1m1973/1973\u001b[0m \u001b[32m━━━━━━━━━━━━━━━━━━━━\u001b[0m\u001b[37m\u001b[0m \u001b[1m163s\u001b[0m 83ms/step - loss: 0.4327 - val_loss: 1.3234\n",
      "Epoch 6/15\n",
      "\u001b[1m1973/1973\u001b[0m \u001b[32m━━━━━━━━━━━━━━━━━━━━\u001b[0m\u001b[37m\u001b[0m \u001b[1m163s\u001b[0m 83ms/step - loss: 0.4138 - val_loss: 1.2629\n",
      "Epoch 7/15\n",
      "\u001b[1m1973/1973\u001b[0m \u001b[32m━━━━━━━━━━━━━━━━━━━━\u001b[0m\u001b[37m\u001b[0m \u001b[1m163s\u001b[0m 83ms/step - loss: 0.4092 - val_loss: 1.2370\n",
      "Epoch 8/15\n",
      "\u001b[1m1973/1973\u001b[0m \u001b[32m━━━━━━━━━━━━━━━━━━━━\u001b[0m\u001b[37m\u001b[0m \u001b[1m163s\u001b[0m 83ms/step - loss: 0.3763 - val_loss: 1.2575\n",
      "Epoch 9/15\n",
      "\u001b[1m1973/1973\u001b[0m \u001b[32m━━━━━━━━━━━━━━━━━━━━\u001b[0m\u001b[37m\u001b[0m \u001b[1m163s\u001b[0m 83ms/step - loss: 0.4035 - val_loss: 1.2198\n",
      "Epoch 10/15\n",
      "\u001b[1m1973/1973\u001b[0m \u001b[32m━━━━━━━━━━━━━━━━━━━━\u001b[0m\u001b[37m\u001b[0m \u001b[1m163s\u001b[0m 83ms/step - loss: 0.3872 - val_loss: 1.2547\n",
      "Epoch 11/15\n",
      "\u001b[1m1973/1973\u001b[0m \u001b[32m━━━━━━━━━━━━━━━━━━━━\u001b[0m\u001b[37m\u001b[0m \u001b[1m163s\u001b[0m 83ms/step - loss: 0.4211 - val_loss: 1.2453\n",
      "Epoch 12/15\n",
      "\u001b[1m1973/1973\u001b[0m \u001b[32m━━━━━━━━━━━━━━━━━━━━\u001b[0m\u001b[37m\u001b[0m \u001b[1m163s\u001b[0m 83ms/step - loss: 0.4044 - val_loss: 1.2303\n",
      "Epoch 13/15\n",
      "\u001b[1m1973/1973\u001b[0m \u001b[32m━━━━━━━━━━━━━━━━━━━━\u001b[0m\u001b[37m\u001b[0m \u001b[1m163s\u001b[0m 83ms/step - loss: 0.3769 - val_loss: 1.2085\n",
      "Epoch 14/15\n",
      "\u001b[1m1973/1973\u001b[0m \u001b[32m━━━━━━━━━━━━━━━━━━━━\u001b[0m\u001b[37m\u001b[0m \u001b[1m163s\u001b[0m 82ms/step - loss: 0.3955 - val_loss: 1.2601\n",
      "Epoch 15/15\n",
      "\u001b[1m1973/1973\u001b[0m \u001b[32m━━━━━━━━━━━━━━━━━━━━\u001b[0m\u001b[37m\u001b[0m \u001b[1m163s\u001b[0m 82ms/step - loss: 0.3912 - val_loss: 1.4267\n",
      "✅ Transformer training complete.\n",
      "\n",
      "Making predictions for evaluation...\n",
      "\u001b[1m1973/1973\u001b[0m \u001b[32m━━━━━━━━━━━━━━━━━━━━\u001b[0m\u001b[37m\u001b[0m \u001b[1m54s\u001b[0m 27ms/step\n",
      "\u001b[1m493/493\u001b[0m \u001b[32m━━━━━━━━━━━━━━━━━━━━\u001b[0m\u001b[37m\u001b[0m \u001b[1m14s\u001b[0m 27ms/step\n",
      "\n",
      "==============================\n",
      "--- Transformer Model Evaluation ---\n",
      "Test Set RMSE: 0.00006619\n",
      "Training R² Score: 0.4000\n",
      "Testing R² Score: 0.3550\n",
      "==============================\n"
     ]
    }
   ],
   "source": [
    "from sklearn.preprocessing import MinMaxScaler\n",
    "from sklearn.model_selection import train_test_split\n",
    "from sklearn.metrics import mean_squared_error, r2_score\n",
    "import tensorflow as tf\n",
    "from tensorflow.keras.preprocessing.sequence import TimeseriesGenerator\n",
    "from tensorflow.keras.models import Model, Sequential\n",
    "from tensorflow.keras.layers import Input, MultiHeadAttention, LayerNormalization, Dense, Dropout, GlobalAveragePooling1D\n",
    "from sklearn.preprocessing import RobustScaler\n",
    "from tensorflow.keras.callbacks import EarlyStopping\n",
    "\n",
    "\n",
    "features =['spline_feature','cross_asset_kalman_forecast_pca_1','kalman_vol_eth',\n",
    "            'garch_vol_eth','bollinger_bandwidth','mid_price', 'bid_price1', 'bid_volume1', 'bid_price2', 'bid_volume2',\n",
    "       'bid_price3', 'bid_volume3', 'bid_price4', 'bid_volume4', 'bid_price5',\n",
    "       'bid_volume5', 'ask_price1', 'ask_volume1', 'ask_price2', 'ask_volume2',\n",
    "       'ask_price3', 'ask_volume3', 'ask_price4', 'ask_volume4', 'ask_price5',\n",
    "       'ask_volume5']\n",
    "target = 'label'\n",
    "X_train = train_set_final[features].fillna(0)\n",
    "y_train = train_set_final[[target]].fillna(0)\n",
    "\n",
    "\n",
    "X_test = test_set_final[features].fillna(0)\n",
    "y_test = test_set_final[[target]].fillna(0)\n",
    "\n",
    "#  Scale Data Robustly \n",
    "feature_scaler = RobustScaler()\n",
    "target_scaler = RobustScaler()\n",
    "clipping_limits = {}\n",
    "for col in X_train.columns:\n",
    "    # Calculate the upper and lower limits from the training data\n",
    "    upper_limit = X_train[col].quantile(0.999)\n",
    "    lower_limit = X_train[col].quantile(0.001)\n",
    "    clipping_limits[col] = {'lower': lower_limit, 'upper': upper_limit}\n",
    "\n",
    "#  Apply Clipping to BOTH Train and Test Sets \n",
    "lower_bounds = pd.Series({col: limits['lower'] for col, limits in clipping_limits.items()})\n",
    "upper_bounds = pd.Series({col: limits['upper'] for col, limits in clipping_limits.items()})\n",
    "\n",
    "X_train = X_train.clip(lower=lower_bounds, upper=upper_bounds, axis=1)\n",
    "X_test = X_test.clip(lower=lower_bounds, upper=upper_bounds, axis=1)\n",
    "\n",
    "\n",
    "X_train_scaled = feature_scaler.fit_transform(X_train)\n",
    "y_train_scaled = target_scaler.fit_transform(y_train)\n",
    "X_test_scaled = feature_scaler.transform(X_test)\n",
    "y_test_scaled = target_scaler.transform(y_test)\n",
    "\n",
    "# Prepare Data into Sequences \n",
    "n_timesteps = 60\n",
    "n_features = X_train_scaled.shape[1]\n",
    "train_generator = TimeseriesGenerator(X_train_scaled, y_train_scaled, length=n_timesteps, batch_size=256)\n",
    "test_generator = TimeseriesGenerator(X_test_scaled, y_test_scaled, length=n_timesteps, batch_size=256)\n",
    "\n",
    "# Build the Transformer Model Architecture \n",
    "def build_transformer_model(input_shape, head_size, num_heads, ff_dim, num_blocks, dropout=0):\n",
    "    inputs = Input(shape=input_shape)\n",
    "    x = inputs\n",
    "    for _ in range(num_blocks):\n",
    "        attention_output = MultiHeadAttention(key_dim=head_size, num_heads=num_heads, dropout=dropout)(x, x)\n",
    "        x = LayerNormalization(epsilon=1e-6)(x + attention_output)\n",
    "        ffn = Sequential([Dense(ff_dim, activation=\"relu\"), Dense(input_shape[-1])])\n",
    "        ffn_output = ffn(x)\n",
    "        ffn_output = Dropout(dropout)(ffn_output)\n",
    "        x = LayerNormalization(epsilon=1e-6)(x + ffn_output)\n",
    "    x = GlobalAveragePooling1D(data_format=\"channels_last\")(x)\n",
    "    x = Dense(64, activation=\"relu\")(x)\n",
    "    x = Dropout(0.1)(x)\n",
    "    outputs = Dense(1)(x)\n",
    "    return Model(inputs, outputs)\n",
    "\n",
    "#  Instantiate and Compile the Model \n",
    "input_shape = (n_timesteps, n_features)\n",
    "transformer_model = build_transformer_model(input_shape, head_size=256, num_heads=4, ff_dim=4, num_blocks=4, dropout=0.1)\n",
    "transformer_model.compile(optimizer=tf.keras.optimizers.Adam(learning_rate=1e-4), loss=\"mean_squared_error\")\n",
    "transformer_model.summary()\n",
    "early_stopping = EarlyStopping(\n",
    "    monitor='val_loss', \n",
    "    patience=10, \n",
    "    restore_best_weights=True\n",
    ")\n",
    "#  Train the Model \n",
    "print(\"\\nTraining Transformer model for validation...\")\n",
    "transformer_model.fit(train_generator, epochs=15, validation_data=test_generator, verbose=1,callbacks=[early_stopping])\n",
    "print(\"Transformer training complete.\")\n",
    "\n",
    "#  Make Predictions and Evaluate \n",
    "print(\"\\nMaking predictions for evaluation...\")\n",
    "train_predictions_scaled = transformer_model.predict(train_generator)\n",
    "test_predictions_scaled = transformer_model.predict(test_generator)\n",
    "\n",
    "# Inverse transform predictions\n",
    "train_predictions = target_scaler.inverse_transform(train_predictions_scaled)\n",
    "test_predictions = target_scaler.inverse_transform(test_predictions_scaled)\n",
    "\n",
    "# Align the true labels\n",
    "y_train_actual = y_train.values[n_timesteps:]\n",
    "y_test_actual = y_test.values[n_timesteps:]\n",
    "\n",
    "# Calculate and print evaluation metrics\n",
    "rmse = np.sqrt(mean_squared_error(y_test_actual, test_predictions))\n",
    "training_r2 = r2_score(y_train_actual, train_predictions)\n",
    "testing_r2 = r2_score(y_test_actual, test_predictions)\n",
    "\n",
    "print(\"\\n\" + \"=\"*30)\n",
    "print(\"--- Transformer Model Evaluation ---\")\n",
    "print(f\"Test Set RMSE: {rmse:.8f}\")\n",
    "print(f\"Training R² Score: {training_r2:.4f}\")\n",
    "print(f\"Testing R² Score: {testing_r2:.4f}\")\n",
    "print(\"=\"*30)"
   ]
  },
  {
   "cell_type": "markdown",
   "metadata": {},
   "source": [
    "## LSTM Model\n",
    "\n",
    "\n",
    "**Goal:** Predict the target `label` using ETH order book features and volatility indicators.\n",
    "\n",
    "### **Data Preparation**\n",
    "- **Features:** Price, volume, and volatility metrics (Includes price, volume, and volatility metrics (e.g., kalman forecast of ETH, garch forecast of ETH, cubic Spline feature, cross asset kalman feature, bid/ask levels up to 5)., bid/ask levels up to 5, etc.).\n",
    "- **Target:** `label`.\n",
    "- **Preprocessing:**\n",
    "  - Missing values filled with `0`.\n",
    "  - Outlier clipping at the 0.1% and 99.9% quantiles (based on training set).\n",
    "  - **RobustScaler** applied to features and target.\n",
    "  - **TimeseriesGenerator** used to create sequences of **60 timesteps** for training.\n",
    "\n",
    "### **Model Architecture**\n",
    "A stable LSTM-based sequential model:\n",
    "- **Layer 1:** LSTM(64, activation=`tanh`, return_sequences=True) + Dropout(0.2)\n",
    "- **Layer 2:** LSTM(32, activation=`tanh`) + Dropout(0.2)\n",
    "- **Output:** Dense(1) for regression.\n",
    "\n",
    "### **Training Configuration**\n",
    "- **Optimizer:** Adam (`learning_rate=1e-5`, `clipnorm=1.0`) to prevent gradient explosion.\n",
    "- **Loss:** Mean Squared Error (MSE).\n",
    "- **Callback:** Early stopping with patience=5, restoring best weights.\n",
    "- **Epochs:** up to 50.\n",
    "- **Batch Size:** 256.\n",
    "\n",
    "### **Evaluation Metrics**\n",
    "- **RMSE** (Root Mean Squared Error) on the test set.\n",
    "- **R² Score** for both training and test predictions.\n",
    "- Predictions inverse-scaled back to original units.\n",
    "\n",
    "Test Set RMSE: 0.00006794\n",
    "\n",
    "Training R² Score: 0.3968\n",
    "\n",
    "Testing R² Score: 0.3203\n"
   ]
  },
  {
   "cell_type": "code",
   "execution_count": 42,
   "metadata": {
    "execution": {
     "iopub.execute_input": "2025-08-15T21:02:56.954966Z",
     "iopub.status.busy": "2025-08-15T21:02:56.954674Z",
     "iopub.status.idle": "2025-08-15T21:11:51.766059Z",
     "shell.execute_reply": "2025-08-15T21:11:51.765209Z",
     "shell.execute_reply.started": "2025-08-15T21:02:56.954946Z"
    }
   },
   "outputs": [
    {
     "name": "stdout",
     "output_type": "stream",
     "text": [
      "Training LSTM model for validation...\n",
      "Epoch 1/50\n"
     ]
    },
    {
     "name": "stderr",
     "output_type": "stream",
     "text": [
      "/usr/local/lib/python3.11/dist-packages/keras/src/trainers/data_adapters/py_dataset_adapter.py:121: UserWarning: Your `PyDataset` class should call `super().__init__(**kwargs)` in its constructor. `**kwargs` can include `workers`, `use_multiprocessing`, `max_queue_size`. Do not pass these arguments to `fit()`, as they will be ignored.\n",
      "  self._warn_if_super_not_called()\n"
     ]
    },
    {
     "name": "stdout",
     "output_type": "stream",
     "text": [
      "\u001b[1m1973/1973\u001b[0m \u001b[32m━━━━━━━━━━━━━━━━━━━━\u001b[0m\u001b[37m\u001b[0m \u001b[1m24s\u001b[0m 11ms/step - loss: 0.5210 - val_loss: 1.6762\n",
      "Epoch 2/50\n",
      "\u001b[1m1973/1973\u001b[0m \u001b[32m━━━━━━━━━━━━━━━━━━━━\u001b[0m\u001b[37m\u001b[0m \u001b[1m21s\u001b[0m 11ms/step - loss: 0.4050 - val_loss: 1.5390\n",
      "Epoch 3/50\n",
      "\u001b[1m1973/1973\u001b[0m \u001b[32m━━━━━━━━━━━━━━━━━━━━\u001b[0m\u001b[37m\u001b[0m \u001b[1m21s\u001b[0m 10ms/step - loss: 0.4072 - val_loss: 1.4816\n",
      "Epoch 4/50\n",
      "\u001b[1m1973/1973\u001b[0m \u001b[32m━━━━━━━━━━━━━━━━━━━━\u001b[0m\u001b[37m\u001b[0m \u001b[1m21s\u001b[0m 10ms/step - loss: 0.4263 - val_loss: 1.4417\n",
      "Epoch 5/50\n",
      "\u001b[1m1973/1973\u001b[0m \u001b[32m━━━━━━━━━━━━━━━━━━━━\u001b[0m\u001b[37m\u001b[0m \u001b[1m21s\u001b[0m 10ms/step - loss: 0.4429 - val_loss: 1.4166\n",
      "Epoch 6/50\n",
      "\u001b[1m1973/1973\u001b[0m \u001b[32m━━━━━━━━━━━━━━━━━━━━\u001b[0m\u001b[37m\u001b[0m \u001b[1m21s\u001b[0m 10ms/step - loss: 0.4161 - val_loss: 1.3843\n",
      "Epoch 7/50\n",
      "\u001b[1m1973/1973\u001b[0m \u001b[32m━━━━━━━━━━━━━━━━━━━━\u001b[0m\u001b[37m\u001b[0m \u001b[1m21s\u001b[0m 10ms/step - loss: 0.3966 - val_loss: 1.3715\n",
      "Epoch 8/50\n",
      "\u001b[1m1973/1973\u001b[0m \u001b[32m━━━━━━━━━━━━━━━━━━━━\u001b[0m\u001b[37m\u001b[0m \u001b[1m21s\u001b[0m 10ms/step - loss: 0.3944 - val_loss: 1.3616\n",
      "Epoch 9/50\n",
      "\u001b[1m1973/1973\u001b[0m \u001b[32m━━━━━━━━━━━━━━━━━━━━\u001b[0m\u001b[37m\u001b[0m \u001b[1m21s\u001b[0m 10ms/step - loss: 0.4204 - val_loss: 1.3474\n",
      "Epoch 10/50\n",
      "\u001b[1m1973/1973\u001b[0m \u001b[32m━━━━━━━━━━━━━━━━━━━━\u001b[0m\u001b[37m\u001b[0m \u001b[1m21s\u001b[0m 11ms/step - loss: 0.4284 - val_loss: 1.3388\n",
      "Epoch 11/50\n",
      "\u001b[1m1973/1973\u001b[0m \u001b[32m━━━━━━━━━━━━━━━━━━━━\u001b[0m\u001b[37m\u001b[0m \u001b[1m21s\u001b[0m 10ms/step - loss: 0.4113 - val_loss: 1.3341\n",
      "Epoch 12/50\n",
      "\u001b[1m1973/1973\u001b[0m \u001b[32m━━━━━━━━━━━━━━━━━━━━\u001b[0m\u001b[37m\u001b[0m \u001b[1m21s\u001b[0m 11ms/step - loss: 0.3945 - val_loss: 1.3187\n",
      "Epoch 13/50\n",
      "\u001b[1m1973/1973\u001b[0m \u001b[32m━━━━━━━━━━━━━━━━━━━━\u001b[0m\u001b[37m\u001b[0m \u001b[1m21s\u001b[0m 11ms/step - loss: 0.3803 - val_loss: 1.3077\n",
      "Epoch 14/50\n",
      "\u001b[1m1973/1973\u001b[0m \u001b[32m━━━━━━━━━━━━━━━━━━━━\u001b[0m\u001b[37m\u001b[0m \u001b[1m21s\u001b[0m 11ms/step - loss: 0.4040 - val_loss: 1.3136\n",
      "Epoch 15/50\n",
      "\u001b[1m1973/1973\u001b[0m \u001b[32m━━━━━━━━━━━━━━━━━━━━\u001b[0m\u001b[37m\u001b[0m \u001b[1m21s\u001b[0m 11ms/step - loss: 0.3822 - val_loss: 1.3002\n",
      "Epoch 16/50\n",
      "\u001b[1m1973/1973\u001b[0m \u001b[32m━━━━━━━━━━━━━━━━━━━━\u001b[0m\u001b[37m\u001b[0m \u001b[1m21s\u001b[0m 10ms/step - loss: 0.3808 - val_loss: 1.2951\n",
      "Epoch 17/50\n",
      "\u001b[1m1973/1973\u001b[0m \u001b[32m━━━━━━━━━━━━━━━━━━━━\u001b[0m\u001b[37m\u001b[0m \u001b[1m21s\u001b[0m 11ms/step - loss: 0.3937 - val_loss: 1.2841\n",
      "Epoch 18/50\n",
      "\u001b[1m1973/1973\u001b[0m \u001b[32m━━━━━━━━━━━━━━━━━━━━\u001b[0m\u001b[37m\u001b[0m \u001b[1m21s\u001b[0m 11ms/step - loss: 0.3929 - val_loss: 1.2913\n",
      "Epoch 19/50\n",
      "\u001b[1m1973/1973\u001b[0m \u001b[32m━━━━━━━━━━━━━━━━━━━━\u001b[0m\u001b[37m\u001b[0m \u001b[1m21s\u001b[0m 11ms/step - loss: 0.3860 - val_loss: 1.2871\n",
      "Epoch 20/50\n",
      "\u001b[1m1973/1973\u001b[0m \u001b[32m━━━━━━━━━━━━━━━━━━━━\u001b[0m\u001b[37m\u001b[0m \u001b[1m21s\u001b[0m 10ms/step - loss: 0.3762 - val_loss: 1.2735\n",
      "Epoch 21/50\n",
      "\u001b[1m1973/1973\u001b[0m \u001b[32m━━━━━━━━━━━━━━━━━━━━\u001b[0m\u001b[37m\u001b[0m \u001b[1m21s\u001b[0m 10ms/step - loss: 0.4154 - val_loss: 1.2775\n",
      "Epoch 22/50\n",
      "\u001b[1m1973/1973\u001b[0m \u001b[32m━━━━━━━━━━━━━━━━━━━━\u001b[0m\u001b[37m\u001b[0m \u001b[1m21s\u001b[0m 10ms/step - loss: 0.4085 - val_loss: 1.2787\n",
      "Epoch 23/50\n",
      "\u001b[1m1973/1973\u001b[0m \u001b[32m━━━━━━━━━━━━━━━━━━━━\u001b[0m\u001b[37m\u001b[0m \u001b[1m21s\u001b[0m 10ms/step - loss: 0.3986 - val_loss: 1.2836\n",
      "Epoch 24/50\n",
      "\u001b[1m1973/1973\u001b[0m \u001b[32m━━━━━━━━━━━━━━━━━━━━\u001b[0m\u001b[37m\u001b[0m \u001b[1m21s\u001b[0m 10ms/step - loss: 0.3812 - val_loss: 1.2810\n",
      "Epoch 25/50\n",
      "\u001b[1m1973/1973\u001b[0m \u001b[32m━━━━━━━━━━━━━━━━━━━━\u001b[0m\u001b[37m\u001b[0m \u001b[1m21s\u001b[0m 10ms/step - loss: 0.4056 - val_loss: 1.2803\n",
      "✅ LSTM training complete.\n",
      "\n",
      "Making predictions for evaluation...\n",
      "\u001b[1m1973/1973\u001b[0m \u001b[32m━━━━━━━━━━━━━━━━━━━━\u001b[0m\u001b[37m\u001b[0m \u001b[1m8s\u001b[0m 4ms/step\n",
      "\u001b[1m493/493\u001b[0m \u001b[32m━━━━━━━━━━━━━━━━━━━━\u001b[0m\u001b[37m\u001b[0m \u001b[1m2s\u001b[0m 4ms/step\n",
      "\n",
      "==============================\n",
      "--- LSTM Model Evaluation ---\n",
      "Test Set RMSE: 0.00006794\n",
      "Training R² Score: 0.3968\n",
      "Testing R² Score: 0.3203\n",
      "==============================\n"
     ]
    }
   ],
   "source": [
    "from sklearn.preprocessing import RobustScaler\n",
    "from sklearn.model_selection import train_test_split\n",
    "from sklearn.metrics import mean_squared_error, r2_score\n",
    "import tensorflow as tf\n",
    "from tensorflow.keras.preprocessing.sequence import TimeseriesGenerator\n",
    "from tensorflow.keras.models import Sequential\n",
    "from tensorflow.keras.layers import Input, LSTM, Dense, Dropout\n",
    "from tensorflow.keras.callbacks import EarlyStopping\n",
    "# Define Features and Target \n",
    "features =['eth_vol_pca_1','cross_asset_vol_pca_1',\n",
    "            'spline_feature','cross_asset_kalman_forecast_pca_1','kalman_vol_eth',\n",
    "            'garch_vol_eth','bollinger_bandwidth','mid_price', 'bid_price1', 'bid_volume1', 'bid_price2', 'bid_volume2',\n",
    "       'bid_price3', 'bid_volume3', 'bid_price4', 'bid_volume4', 'bid_price5',\n",
    "       'bid_volume5', 'ask_price1', 'ask_volume1', 'ask_price2', 'ask_volume2',\n",
    "       'ask_price3', 'ask_volume3', 'ask_price4', 'ask_volume4', 'ask_price5',\n",
    "       'ask_volume5']\n",
    "target = 'label'\n",
    "\n",
    "X_train = train_set_final[features].fillna(0)\n",
    "y_train = train_set_final[[target]].fillna(0)\n",
    "\n",
    "X_test = test_set_final[features].fillna(0)\n",
    "y_test = test_set_final[[target]].fillna(0)\n",
    "\n",
    "# Scale Data Robustly \n",
    "feature_scaler = RobustScaler()\n",
    "target_scaler = RobustScaler()\n",
    "clipping_limits = {}\n",
    "for col in X_train.columns:\n",
    "    # Calculate the upper and lower limits from the training data\n",
    "    upper_limit = X_train[col].quantile(0.999)\n",
    "    lower_limit = X_train[col].quantile(0.001)\n",
    "    clipping_limits[col] = {'lower': lower_limit, 'upper': upper_limit}\n",
    "\n",
    "# Apply Clipping to BOTH Train and Test Sets \n",
    "lower_bounds = pd.Series({col: limits['lower'] for col, limits in clipping_limits.items()})\n",
    "upper_bounds = pd.Series({col: limits['upper'] for col, limits in clipping_limits.items()})\n",
    "\n",
    "X_train = X_train.clip(lower=lower_bounds, upper=upper_bounds, axis=1)\n",
    "X_test = X_test.clip(lower=lower_bounds, upper=upper_bounds, axis=1)\n",
    "\n",
    "X_train_scaled = feature_scaler.fit_transform(X_train)\n",
    "y_train_scaled = target_scaler.fit_transform(y_train)\n",
    "X_test_scaled = feature_scaler.transform(X_test)\n",
    "y_test_scaled = target_scaler.transform(y_test)\n",
    "\n",
    "# Prepare Sequences \n",
    "n_timesteps = 60\n",
    "n_features = X_train.shape[1]\n",
    "train_generator = TimeseriesGenerator(X_train_scaled, y_train_scaled, length=n_timesteps, batch_size=256)\n",
    "test_generator = TimeseriesGenerator(X_test_scaled, y_test_scaled, length=n_timesteps, batch_size=256)\n",
    "\n",
    "#  Build and Train a STABLE LSTM Model \n",
    "lstm_model = Sequential([\n",
    "    Input(shape=(n_timesteps, n_features)),\n",
    "    LSTM(64, activation='tanh', return_sequences=True), # Use tanh for stability\n",
    "    Dropout(0.2),\n",
    "    LSTM(32, activation='tanh'), # Use tanh for stability\n",
    "    Dropout(0.2),\n",
    "    Dense(1)\n",
    "])\n",
    "\n",
    "optimizer = tf.keras.optimizers.Adam(learning_rate=1e-5, clipnorm=1.0)\n",
    "lstm_model.compile(optimizer=optimizer, loss='mean_squared_error')\n",
    "early_stopping = EarlyStopping(\n",
    "    monitor='val_loss',\n",
    "    patience=5, # Stop after 5 epochs with no improvement\n",
    "    restore_best_weights=True #  keeps the best version of the model\n",
    ")\n",
    "print(\"Training LSTM model for validation...\")\n",
    "lstm_model.fit(train_generator,\n",
    "               epochs=50,\n",
    "               validation_data=test_generator,\n",
    "               verbose=1,\n",
    "              callbacks=[early_stopping])\n",
    "print(\"LSTM training complete.\")\n",
    "\n",
    "#  Make Predictions and Evaluate \n",
    "print(\"\\nMaking predictions for evaluation...\")\n",
    "train_predictions_scaled = lstm_model.predict(train_generator)\n",
    "test_predictions_scaled = lstm_model.predict(test_generator)\n",
    "\n",
    "# Inverse transform predictions\n",
    "train_predictions = target_scaler.inverse_transform(train_predictions_scaled)\n",
    "test_predictions = target_scaler.inverse_transform(test_predictions_scaled)\n",
    "\n",
    "# Align the true labels\n",
    "y_train_actual = y_train.values[n_timesteps:]\n",
    "y_test_actual = y_test.values[n_timesteps:]\n",
    "\n",
    "# Calculate and print evaluation metrics\n",
    "rmse = np.sqrt(mean_squared_error(y_test_actual, test_predictions))\n",
    "training_r2 = r2_score(y_train_actual, train_predictions)\n",
    "testing_r2 = r2_score(y_test_actual, test_predictions)\n",
    "\n",
    "print(\"\\n\" + \"=\"*30)\n",
    "print(\"--- LSTM Model Evaluation ---\")\n",
    "print(f\"Test Set RMSE: {rmse:.8f}\")\n",
    "print(f\"Training R² Score: {training_r2:.4f}\")\n",
    "print(f\"Testing R² Score: {testing_r2:.4f}\")\n",
    "print(\"=\"*30)"
   ]
  },
  {
   "cell_type": "markdown",
   "metadata": {},
   "source": [
    "Out of all the three models xgboost has shown comparatively better results and also for high frequency market data running transformer or LSTM may be time inefficient. So we choose xgboost as our final model for IV prediction with features as :\n",
    "- `eth_vol_pca_1`  \n",
    "- `cross_asset_vol_pca_1`  \n",
    "- `spline_feature`  \n",
    "- `cross_asset_kalman_forecast_pca_1`  \n",
    "- `kalman_vol_eth`  \n",
    "- `garch_vol_eth`  \n",
    "- `bollinger_bandwidth`  (for eth only)"
   ]
  },
  {
   "cell_type": "markdown",
   "metadata": {},
   "source": [
    "# Cross Validation\n",
    "\n",
    "A simple **train/test split** is not enough to reliably evaluate a model:  \n",
    "- A good score might occur just because the test set was unusually *easy*.  \n",
    "- A bad score might occur just because the test set was unusually *hard*.  \n",
    "\n",
    "This leaves us uncertain about how the model will perform on truly unseen future data.\n",
    "\n",
    "**Time Series Cross-Validation (CV)** solves this by:  \n",
    "- Splitting the data into several **chronological folds**.  \n",
    "- Always training on **past data** and predicting the **immediate future**.  \n",
    "- Averaging the results across all folds to get a **robust estimate** of performance.  \n",
    "\n",
    "This script implements a **complete time-series cross-validation pipeline** to evaluate the performance of an **XGBoost model**.\n",
    "\n",
    "\n",
    "1. **Setup**  \n",
    "   - Initialize `TimeSeriesSplit` with **3 folds**.  \n",
    "   - Prepare storage for metrics and prediction plots.  \n",
    "\n",
    "2. **The Main Loop** (iterating over folds)  \n",
    "   - For each fold, the script trains on past data and tests on future data.  \n",
    "\n",
    "3. **In-Loop Feature Engineering** (to avoid leakage)  \n",
    "   - Recalculate all features from scratch for each fold:  \n",
    "     - **Volatility features** from GARCH and Kalman Filter models.  \n",
    "     - **Time-based features** like a cubic spline.  \n",
    "     - **Dimensionality reduction** using hierarchical PCA on volatility metrics.  \n",
    "\n",
    "4. **Model Training & Evaluation**  \n",
    "   - Train a fresh **XGBoost Regressor** on the training set of each fold.  \n",
    "   - Generate predictions on the validation set.  \n",
    "\n",
    "5. **Storing Results**  \n",
    "   - Collect metrics: **RMSE**, **Train R²**, **Test R²**.  \n",
    "   - Plot **Predictions vs Actuals** for each fold.  \n",
    "\n",
    "6. **Final Summary**  \n",
    "   - After all folds are complete:  \n",
    "     - Display plots.  \n",
    "     - Print a summary table with fold-wise metrics.  \n",
    "     - Compute overall **average and standard deviation** of performance.  \n",
    "\n",
    "---\n",
    "\n",
    " **End result:** A rigorous, leakage-free validation process that gives confidence in the model’s generalization ability on future time periods.\n",
    "\n"
   ]
  },
  {
   "cell_type": "code",
   "execution_count": 65,
   "metadata": {
    "execution": {
     "iopub.execute_input": "2025-08-15T22:20:32.640332Z",
     "iopub.status.busy": "2025-08-15T22:20:32.640019Z",
     "iopub.status.idle": "2025-08-15T22:20:39.612520Z",
     "shell.execute_reply": "2025-08-15T22:20:39.611939Z",
     "shell.execute_reply.started": "2025-08-15T22:20:32.640311Z"
    }
   },
   "outputs": [
    {
     "name": "stdout",
     "output_type": "stream",
     "text": [
      "Combining all asset data into a single DataFrame...\n",
      "-> Merged features from BTC\n",
      "-> Merged features from DOGE\n",
      "-> Merged features from DOT\n",
      "-> Merged features from LINK\n",
      "-> Merged features from SHIB\n",
      "-> Merged features from SOL\n"
     ]
    }
   ],
   "source": [
    "import pandas as pd\n",
    "import numpy as np\n",
    "import xgboost as xgb\n",
    "from sklearn.model_selection import TimeSeriesSplit\n",
    "from sklearn.metrics import r2_score\n",
    "from tqdm import tqdm\n",
    "\n",
    "full_labeled_data = ETH_train_filled.copy()\n",
    "\n",
    "cross_assets = ['BTC', 'DOGE', 'DOT', 'LINK', 'SHIB', 'SOL']\n",
    "\n",
    "print(\"Combining all asset data into a single DataFrame...\")\n",
    "#  Loop through each cross-asset, rename its columns, and merge \n",
    "for asset in cross_assets:\n",
    "    # Get the DataFrame for the current asset\n",
    "    asset_df = globals()[f\"{asset}_train_filled\"]\n",
    "    \n",
    "    #Create a dictionary to rename the columns \n",
    "    # We add the asset name as a prefix (e.g., 'mid_price' -> 'btc_mid_price')\n",
    "    # We exclude 'label' from renaming as it only exists in the ETH df.\n",
    "    rename_dict = {\n",
    "        col: f\"{asset.lower()}_{col}\" \n",
    "        for col in asset_df.columns if col != 'label'\n",
    "    }\n",
    "    \n",
    "    # Select all columns except 'label', rename them, and prepare for merging\n",
    "    features_to_merge = asset_df.rename(columns=rename_dict)\n",
    "    \n",
    "    # Merge the renamed features into  main DataFrame using the timestamp index\n",
    "    full_labeled_data = full_labeled_data.merge(\n",
    "        features_to_merge, \n",
    "        left_index=True, \n",
    "        right_index=True, \n",
    "        how='left'\n",
    "    )\n",
    "    \n",
    "    print(f\"Merged features from {asset}\")\n",
    "\n",
    "# Final cleanup \n",
    "# The merges might create some NaNs if the time ranges aren't perfectly aligned.\n",
    "full_labeled_data.ffill(inplace=True)\n",
    "full_labeled_data.bfill(inplace=True)"
   ]
  },
  {
   "cell_type": "code",
   "execution_count": 84,
   "metadata": {
    "execution": {
     "iopub.execute_input": "2025-08-15T23:18:07.322735Z",
     "iopub.status.busy": "2025-08-15T23:18:07.322446Z",
     "iopub.status.idle": "2025-08-16T00:19:02.677434Z",
     "shell.execute_reply": "2025-08-16T00:19:02.676688Z",
     "shell.execute_reply.started": "2025-08-15T23:18:07.322715Z"
    }
   },
   "outputs": [
    {
     "name": "stdout",
     "output_type": "stream",
     "text": [
      "Starting 3-Fold Time Series Cross-Validation with in-loop feature generation...\n"
     ]
    },
    {
     "name": "stderr",
     "output_type": "stream",
     "text": [
      "0it [00:00, ?it/s]"
     ]
    },
    {
     "name": "stdout",
     "output_type": "stream",
     "text": [
      "Adding GARCH & Kalman features for btc...\n",
      "GARCH & Kalman features added.\n",
      "Adding GARCH & Kalman features for sol...\n",
      "GARCH & Kalman features added.\n",
      "Adding GARCH & Kalman features for doge...\n",
      "GARCH & Kalman features added.\n",
      "Adding GARCH & Kalman features for dot...\n",
      "GARCH & Kalman features added.\n",
      "Adding GARCH & Kalman features for link...\n",
      "GARCH & Kalman features added.\n",
      "Adding GARCH & Kalman features for shib...\n",
      "GARCH & Kalman features added.\n"
     ]
    },
    {
     "name": "stderr",
     "output_type": "stream",
     "text": [
      "/usr/local/lib/python3.11/dist-packages/arch/univariate/base.py:309: DataScaleWarning: y is poorly scaled, which may affect convergence of the optimizer when\n",
      "estimating the model parameters. The scale of y is 5.301e-05. Parameter\n",
      "estimation work better when this value is between 1 and 1000. The recommended\n",
      "rescaling is 100 * y.\n",
      "\n",
      "This warning can be disabled by either rescaling y before initializing the\n",
      "model or by setting rescale=False.\n",
      "\n",
      "  warnings.warn(\n",
      "/usr/local/lib/python3.11/dist-packages/arch/univariate/base.py:768: ConvergenceWarning: The optimizer returned code 4. The message is:\n",
      "Inequality constraints incompatible\n",
      "See scipy.optimize.fmin_slsqp for code meaning.\n",
      "\n",
      "  warnings.warn(\n"
     ]
    },
    {
     "name": "stdout",
     "output_type": "stream",
     "text": [
      "Spline model fitted on the training data.\n",
      "Creating 1 PCA features from 4 columns...\n",
      "Explained variance by 1 components: 92.34%\n",
      "Creating 1 PCA features from 6 columns...\n",
      "Explained variance by 1 components: 100.00%\n",
      "Creating 1 PCA features from 4 columns...\n",
      "Explained variance by 1 components: 89.20%\n",
      "BTC\n",
      "Creating 1 PCA features from 4 columns...\n",
      "Explained variance by 1 components: 86.37%\n",
      "DOGE\n",
      "Creating 1 PCA features from 4 columns...\n",
      "Explained variance by 1 components: 80.30%\n",
      "DOT\n",
      "Creating 1 PCA features from 4 columns...\n",
      "Explained variance by 1 components: 88.56%\n",
      "LINK\n",
      "Creating 1 PCA features from 4 columns...\n",
      "Explained variance by 1 components: 89.68%\n",
      "SHIB\n",
      "Creating 1 PCA features from 4 columns...\n",
      "Explained variance by 1 components: 92.62%\n",
      "SOL\n",
      "Creating 1 PCA features from 6 columns...\n",
      "Explained variance by 1 components: 75.49%\n"
     ]
    },
    {
     "name": "stderr",
     "output_type": "stream",
     "text": [
      "1it [16:36, 996.38s/it]"
     ]
    },
    {
     "name": "stdout",
     "output_type": "stream",
     "text": [
      "Adding GARCH & Kalman features for btc...\n",
      "GARCH & Kalman features added.\n",
      "Adding GARCH & Kalman features for sol...\n",
      "GARCH & Kalman features added.\n",
      "Adding GARCH & Kalman features for doge...\n",
      "GARCH & Kalman features added.\n",
      "Adding GARCH & Kalman features for dot...\n",
      "GARCH & Kalman features added.\n",
      "Adding GARCH & Kalman features for link...\n",
      "GARCH & Kalman features added.\n",
      "Adding GARCH & Kalman features for shib...\n",
      "GARCH & Kalman features added.\n"
     ]
    },
    {
     "name": "stderr",
     "output_type": "stream",
     "text": [
      "/usr/local/lib/python3.11/dist-packages/arch/univariate/base.py:309: DataScaleWarning: y is poorly scaled, which may affect convergence of the optimizer when\n",
      "estimating the model parameters. The scale of y is 4.367e-05. Parameter\n",
      "estimation work better when this value is between 1 and 1000. The recommended\n",
      "rescaling is 100 * y.\n",
      "\n",
      "This warning can be disabled by either rescaling y before initializing the\n",
      "model or by setting rescale=False.\n",
      "\n",
      "  warnings.warn(\n",
      "/usr/local/lib/python3.11/dist-packages/arch/univariate/base.py:768: ConvergenceWarning: The optimizer returned code 4. The message is:\n",
      "Inequality constraints incompatible\n",
      "See scipy.optimize.fmin_slsqp for code meaning.\n",
      "\n",
      "  warnings.warn(\n"
     ]
    },
    {
     "name": "stdout",
     "output_type": "stream",
     "text": [
      "Spline model fitted on the training data.\n",
      "Creating 1 PCA features from 4 columns...\n",
      "Explained variance by 1 components: 91.63%\n",
      "Creating 1 PCA features from 6 columns...\n",
      "Explained variance by 1 components: 100.00%\n",
      "Creating 1 PCA features from 4 columns...\n",
      "Explained variance by 1 components: 90.43%\n",
      "BTC\n",
      "Creating 1 PCA features from 4 columns...\n",
      "Explained variance by 1 components: 87.12%\n",
      "DOGE\n",
      "Creating 1 PCA features from 4 columns...\n",
      "Explained variance by 1 components: 80.00%\n",
      "DOT\n",
      "Creating 1 PCA features from 4 columns...\n",
      "Explained variance by 1 components: 86.18%\n",
      "LINK\n",
      "Creating 1 PCA features from 4 columns...\n",
      "Explained variance by 1 components: 88.94%\n",
      "SHIB\n",
      "Creating 1 PCA features from 4 columns...\n",
      "Explained variance by 1 components: 91.61%\n",
      "SOL\n",
      "Creating 1 PCA features from 6 columns...\n",
      "Explained variance by 1 components: 70.80%\n"
     ]
    },
    {
     "name": "stderr",
     "output_type": "stream",
     "text": [
      "2it [36:55, 1127.37s/it]"
     ]
    },
    {
     "name": "stdout",
     "output_type": "stream",
     "text": [
      "Adding GARCH & Kalman features for btc...\n",
      "GARCH & Kalman features added.\n",
      "Adding GARCH & Kalman features for sol...\n",
      "GARCH & Kalman features added.\n",
      "Adding GARCH & Kalman features for doge...\n",
      "GARCH & Kalman features added.\n",
      "Adding GARCH & Kalman features for dot...\n",
      "GARCH & Kalman features added.\n",
      "Adding GARCH & Kalman features for link...\n",
      "GARCH & Kalman features added.\n",
      "Adding GARCH & Kalman features for shib...\n",
      "GARCH & Kalman features added.\n"
     ]
    },
    {
     "name": "stderr",
     "output_type": "stream",
     "text": [
      "/usr/local/lib/python3.11/dist-packages/arch/univariate/base.py:309: DataScaleWarning: y is poorly scaled, which may affect convergence of the optimizer when\n",
      "estimating the model parameters. The scale of y is 4.81e-05. Parameter\n",
      "estimation work better when this value is between 1 and 1000. The recommended\n",
      "rescaling is 100 * y.\n",
      "\n",
      "This warning can be disabled by either rescaling y before initializing the\n",
      "model or by setting rescale=False.\n",
      "\n",
      "  warnings.warn(\n",
      "/usr/local/lib/python3.11/dist-packages/arch/univariate/base.py:768: ConvergenceWarning: The optimizer returned code 4. The message is:\n",
      "Inequality constraints incompatible\n",
      "See scipy.optimize.fmin_slsqp for code meaning.\n",
      "\n",
      "  warnings.warn(\n"
     ]
    },
    {
     "name": "stdout",
     "output_type": "stream",
     "text": [
      "Spline model fitted on the training data.\n",
      "Creating 1 PCA features from 4 columns...\n",
      "Explained variance by 1 components: 89.99%\n",
      "Creating 1 PCA features from 6 columns...\n",
      "Explained variance by 1 components: 100.00%\n",
      "Creating 1 PCA features from 4 columns...\n",
      "Explained variance by 1 components: 89.91%\n",
      "BTC\n",
      "Creating 1 PCA features from 4 columns...\n",
      "Explained variance by 1 components: 86.91%\n",
      "DOGE\n",
      "Creating 1 PCA features from 4 columns...\n",
      "Explained variance by 1 components: 81.10%\n",
      "DOT\n",
      "Creating 1 PCA features from 4 columns...\n",
      "Explained variance by 1 components: 85.67%\n",
      "LINK\n",
      "Creating 1 PCA features from 4 columns...\n",
      "Explained variance by 1 components: 88.85%\n",
      "SHIB\n",
      "Creating 1 PCA features from 4 columns...\n",
      "Explained variance by 1 components: 89.97%\n",
      "SOL\n",
      "Creating 1 PCA features from 6 columns...\n",
      "Explained variance by 1 components: 70.82%\n"
     ]
    },
    {
     "name": "stderr",
     "output_type": "stream",
     "text": [
      "3it [1:00:53, 1217.91s/it]\n"
     ]
    },
    {
     "data": {
      "image/png": "[encoded data removed]",
      "text/plain": [
       "<Figure size 1500x1500 with 3 Axes>"
      ]
     },
     "metadata": {},
     "output_type": "display_data"
    },
    {
     "name": "stdout",
     "output_type": "stream",
     "text": [
      "\n",
      "========================================\n",
      "--- Cross-Validation Metrics Summary ---\n"
     ]
    },
    {
     "data": {
      "text/html": [
       "<div>\n",
       "<style scoped>\n",
       "    .dataframe tbody tr th:only-of-type {\n",
       "        vertical-align: middle;\n",
       "    }\n",
       "\n",
       "    .dataframe tbody tr th {\n",
       "        vertical-align: top;\n",
       "    }\n",
       "\n",
       "    .dataframe thead th {\n",
       "        text-align: right;\n",
       "    }\n",
       "</style>\n",
       "<table border=\"1\" class=\"dataframe\">\n",
       "  <thead>\n",
       "    <tr style=\"text-align: right;\">\n",
       "      <th></th>\n",
       "      <th>Fold</th>\n",
       "      <th>Train R2</th>\n",
       "      <th>Test R2</th>\n",
       "      <th>Test RMSE</th>\n",
       "    </tr>\n",
       "  </thead>\n",
       "  <tbody>\n",
       "    <tr>\n",
       "      <th>0</th>\n",
       "      <td>1</td>\n",
       "      <td>0.483000</td>\n",
       "      <td>0.308469</td>\n",
       "      <td>0.000035</td>\n",
       "    </tr>\n",
       "    <tr>\n",
       "      <th>1</th>\n",
       "      <td>2</td>\n",
       "      <td>0.454735</td>\n",
       "      <td>0.282330</td>\n",
       "      <td>0.000042</td>\n",
       "    </tr>\n",
       "    <tr>\n",
       "      <th>2</th>\n",
       "      <td>3</td>\n",
       "      <td>0.424872</td>\n",
       "      <td>0.470184</td>\n",
       "      <td>0.000059</td>\n",
       "    </tr>\n",
       "  </tbody>\n",
       "</table>\n",
       "</div>"
      ],
      "text/plain": [
       "   Fold  Train R2   Test R2  Test RMSE\n",
       "0     1  0.483000  0.308469   0.000035\n",
       "1     2  0.454735  0.282330   0.000042\n",
       "2     3  0.424872  0.470184   0.000059"
      ]
     },
     "metadata": {},
     "output_type": "display_data"
    },
    {
     "name": "stdout",
     "output_type": "stream",
     "text": [
      "\n",
      "--- Average Performance ---\n"
     ]
    },
    {
     "data": {
      "text/plain": [
       "Train R2     0.454202\n",
       "Test R2      0.353661\n",
       "Test RMSE    0.000046\n",
       "dtype: float64"
      ]
     },
     "metadata": {},
     "output_type": "display_data"
    },
    {
     "name": "stdout",
     "output_type": "stream",
     "text": [
      "========================================\n"
     ]
    }
   ],
   "source": [
    "import pandas as pd\n",
    "import numpy as np\n",
    "import xgboost as xgb\n",
    "from sklearn.model_selection import TimeSeriesSplit\n",
    "from sklearn.metrics import r2_score, mean_squared_error\n",
    "from tqdm import tqdm\n",
    "import matplotlib.pyplot as plt\n",
    "import seaborn as sns\n",
    "\n",
    "n_splits = 3\n",
    "tscv = TimeSeriesSplit(n_splits=n_splits)\n",
    "\n",
    "# Lists to store metrics from each fold\n",
    "results = []\n",
    "\n",
    "# Create a figure to hold the plots from each fold\n",
    "fig, axes = plt.subplots(n_splits, 1, figsize=(15, n_splits * 5), sharex=True)\n",
    "fig.suptitle('Cross-Validation Fold Predictions', fontsize=16)\n",
    "\n",
    "print(f\"Starting {n_splits}-Fold Time Series Cross-Validation with in-loop feature generation...\")\n",
    "\n",
    "# Loop Through Each Fold \n",
    "for fold, (train_index, val_index) in enumerate(tqdm(tscv.split(full_labeled_data))):\n",
    "    # Split the base data for the current fold\n",
    "    train_fold = full_labeled_data.iloc[train_index].copy()\n",
    "    val_fold = full_labeled_data.iloc[val_index].copy()\n",
    "    train_fold = add_bollinger_bandwidth(train_fold)\n",
    "    val_fold = add_bollinger_bandwidth(val_fold)\n",
    "    # Generate All Advanced Features INSIDE the loop \n",
    "    # a) GARCH/Kalman for all assets\n",
    "    for asset in ['btc', 'sol', 'doge', 'dot', 'link', 'shib']:\n",
    "        train_fold, val_fold = add_advanced_vol_features(train_fold, val_fold, asset)\n",
    "\n",
    "    train_returns = 100 * np.log(train_fold['mid_price']).diff().dropna()\n",
    "    garch_model = arch_model(train_returns, p=1, q=1, vol='Garch')\n",
    "    garch_fit = garch_model.fit(disp='off')\n",
    "    \n",
    "    # Add in-sample feature to the training set\n",
    "    train_fold['garch_vol_eth'] = np.sqrt(garch_fit.conditional_volatility) / 100\n",
    "    \n",
    "    # Generate out-of-sample forecast for the test set\n",
    "    forecasts = garch_fit.forecast(horizon=len(test_df), reindex=False)\n",
    "    predicted_variance = forecasts.variance.iloc[0].values\n",
    "    aligned_forecasts = pd.Series(predicted_variance, index=test_df.index)\n",
    "    val_fold['garch_vol_eth'] = np.sqrt(aligned_forecasts)\n",
    "\n",
    "    # Kalman Filter Feature \n",
    "    train_obs = np.log(train_fold['mid_price']).diff().dropna()**2\n",
    "    test_obs = np.log(val_fold['mid_price']).diff().dropna()**2\n",
    "    \n",
    "    # Initialize and fit on training data\n",
    "    kf = KalmanFilter(initial_state_mean=0, n_dim_obs=1, transition_covariance=0.01, \n",
    "                      observation_covariance=1, transition_matrices=[1], \n",
    "                      observation_matrices=[1], initial_state_covariance=1)\n",
    "    state_means_train, state_covs_train = kf.filter(train_obs.values)\n",
    "    \n",
    "    #  Add in-sample feature to the training set\n",
    "    train_fold['kalman_vol_eth'] = pd.Series(np.sqrt(np.maximum(0, state_means_train.flatten())), index=train_obs.index)\n",
    "\n",
    "    #  Generate out-of-sample forecast for the test set (online)\n",
    "    last_state_mean = state_means_train[-1]\n",
    "    last_state_cov = state_covs_train[-1]\n",
    "    state_means_test = []\n",
    "    for obs in test_obs.values:\n",
    "        last_state_mean, last_state_cov = kf.filter_update(\n",
    "            filtered_state_mean=last_state_mean,\n",
    "            filtered_state_covariance=last_state_cov,\n",
    "            observation=obs\n",
    "        )\n",
    "        state_means_test.append(last_state_mean[0])\n",
    "    \n",
    "    val_fold['kalman_vol_eth'] = pd.Series(np.sqrt(np.maximum(0, state_means_test)), index=test_obs.index)\n",
    "\n",
    "    #b) Cubic Spline\n",
    "    train_fold['time_numeric'] = (train_fold.index - train_fold.index.min()).total_seconds()\n",
    "    val_fold['time_numeric'] = (val_fold.index - val_fold.index.min()).total_seconds()\n",
    "    \n",
    "    formula = \"label ~ bs(time_numeric, df=30, degree=3, include_intercept=False)\"\n",
    "    y_train_spline, X_train_spline = dmatrices(formula, data=train_fold, return_type='dataframe')\n",
    "    spline_model = sm.GLM(y_train_spline, X_train_spline)\n",
    "    spline_results = spline_model.fit()\n",
    "    print(\"Spline model fitted on the training data.\")\n",
    "    \n",
    "    # Add the feature to the training set\n",
    "    train_fold['spline_feature'] = spline_results.predict(X_train_spline)\n",
    "    \n",
    "    X_test_spline = dmatrix(\"bs(time_numeric, df=30, degree=3, include_intercept=False)\",\n",
    "                            data=val_fold,\n",
    "                            return_type='dataframe')\n",
    "    \n",
    "    # Use the fitted spline_results to predict on the new X_test_spline\n",
    "    val_fold['spline_feature'] = spline_results.predict(X_test_spline)\n",
    "    # b) PCA features (example for ETH volatility)\n",
    "    eth_vol_features = [\n",
    "    'rolling_vol_ETH', \n",
    "    'parkinson_vol_eth', \n",
    "    'garman_klass_vol_eth', \n",
    "    'yang_zhang_vol_eth'\n",
    "    ]\n",
    "    # garch_forecast = ['garch_vol_doge','garch_vol_dot','garch_vol_link','garch_vol_shib','garch_vol_sol']\n",
    "    kalman_forecast = ['kalman_vol_btc','kalman_vol_doge','kalman_vol_dot','kalman_vol_link','kalman_vol_shib','kalman_vol_sol']\n",
    "    # price_features = ['mid_price','btc_mid_price','doge_mid_price','dot_mid_price','link_mid_price','shib_mid_price','sol_mid_price',]\n",
    "    \n",
    "    vol_features = ['btc_vol_pca_1',\n",
    "           'doge_vol_pca_1', 'dot_vol_pca_1', 'link_vol_pca_1', 'shib_vol_pca_1',\n",
    "           'sol_vol_pca_1']\n",
    "    train_fold, val_fold = create_pca_features(\n",
    "        train_fold, val_fold, columns_to_combine=eth_vol_features,n_components=1, prefix='eth_vol_pca'\n",
    "    )\n",
    "    \n",
    "    train_fold, val_fold = create_pca_features(\n",
    "        train_fold, \n",
    "        val_fold, \n",
    "        columns_to_combine=kalman_forecast,\n",
    "        n_components=1, # Start with 2 components\n",
    "        prefix='cross_asset_kalman_forecast_pca'\n",
    "    )\n",
    "    for asset in cross_assets:\n",
    "        asset_low = asset.lower()\n",
    "        vol_features = [f'{asset_low}_parkinson_vol_{asset_low}',\n",
    "           f'{asset_low}_garman_klass_vol_{asset_low}', f'{asset_low}_yang_zhang_vol_{asset_low}',f'{asset_low}_rolling_vol_{asset}']\n",
    "        train_fold, val_fold = create_pca_features(\n",
    "        train_fold, \n",
    "        val_fold, \n",
    "        columns_to_combine=vol_features,\n",
    "        n_components=1, # Start with 2 components\n",
    "        prefix=f'{asset_low}_vol_pca'\n",
    "                        )\n",
    "        print(asset)\n",
    "    vol_features = ['btc_vol_pca_1',\n",
    "           'doge_vol_pca_1', 'dot_vol_pca_1', 'link_vol_pca_1', 'shib_vol_pca_1',\n",
    "           'sol_vol_pca_1']\n",
    "    train_fold, val_fold = create_pca_features(\n",
    "        train_fold, \n",
    "        val_fold, \n",
    "        columns_to_combine=vol_features,\n",
    "        n_components=1,\n",
    "        prefix='cross_asset_vol_pca'\n",
    "    )\n",
    "\n",
    "    #  Prepare final features for this fold ---\n",
    "    final_features = ['eth_vol_pca_1','cross_asset_vol_pca_1',\n",
    "            'spline_feature','cross_asset_kalman_forecast_pca_1','kalman_vol_eth',\n",
    "            'garch_vol_eth','bollinger_bandwidth']\n",
    "\n",
    "    target = 'label'\n",
    "\n",
    "    X_train_fold = train_fold[final_features].fillna(0)\n",
    "    y_train_fold = train_fold[target].fillna(0)\n",
    "    X_val_fold = val_fold[final_features].fillna(0)\n",
    "    y_val_fold = val_fold[target].fillna(0)\n",
    "    \n",
    "    # Train the XGBoost Model for This Fold \n",
    "    xgb_model = xgb.XGBRegressor(\n",
    "    objective='reg:squarederror', # Specifies the learning task and objective function.\n",
    "    n_estimators=5000,            # The maximum number of trees to build.\n",
    "    learning_rate=0.01,           # Step size shrinkage to prevent overfitting.\n",
    "    max_depth=5,                  # Maximum depth of each tree.\n",
    "    subsample=0.8,                # Fraction of samples to be used for fitting each tree.\n",
    "    colsample_bytree=0.8,         # Fraction of features to be used for fitting each tree.\n",
    "    n_jobs=-1,                    # Use all available CPU threads for speed.\n",
    "    random_state=42               # For reproducibility.\n",
    "        )\n",
    "    \n",
    "    xgb_model.fit(X_train_fold, y_train_fold,\n",
    "                  eval_set=[(X_val_fold, y_val_fold)],\n",
    "                  verbose=False)\n",
    "    \n",
    "    #  Predict and Store Metrics \n",
    "    train_preds = xgb_model.predict(X_train_fold)\n",
    "    val_preds = xgb_model.predict(X_val_fold)\n",
    "    \n",
    "    results.append({\n",
    "        'Fold': fold + 1,\n",
    "        'Train R2': r2_score(y_train_fold, train_preds),\n",
    "        'Test R2': r2_score(y_val_fold, val_preds),\n",
    "        'Test RMSE': np.sqrt(mean_squared_error(y_val_fold, val_preds))\n",
    "    })\n",
    "    \n",
    "    #  Plot Predictions for This Fold \n",
    "    ax = axes[fold]\n",
    "    ax.plot(y_val_fold.index, y_val_fold.values, label='Actual Values', alpha=0.7)\n",
    "    ax.plot(y_val_fold.index, val_preds, label='Predictions', linestyle='--')\n",
    "    ax.set_title(f'Fold {fold+1} Predictions vs Actuals')\n",
    "    ax.legend()\n",
    "    ax.grid(True)\n",
    "\n",
    "# Summarize and Display Results \n",
    "plt.tight_layout(rect=[0, 0.03, 1, 0.95])\n",
    "plt.show()\n",
    "\n",
    "# Convert results to a DataFrame for a clean summary\n",
    "results_df = pd.DataFrame(results)\n",
    "print(\"\\n\" + \"=\"*40)\n",
    "print(\"--- Cross-Validation Metrics Summary ---\")\n",
    "display(results_df)\n",
    "\n",
    "print(\"\\n--- Average Performance ---\")\n",
    "display(results_df.drop(columns='Fold').mean())\n",
    "print(\"=\"*40)"
   ]
  },
  {
   "cell_type": "markdown",
   "metadata": {},
   "source": [
    "# Implementing on Full Training and Testing Set"
   ]
  },
  {
   "cell_type": "code",
   "execution_count": 29,
   "metadata": {
    "execution": {
     "iopub.execute_input": "2025-08-16T08:53:13.553142Z",
     "iopub.status.busy": "2025-08-16T08:53:13.552684Z",
     "iopub.status.idle": "2025-08-16T08:53:13.558576Z",
     "shell.execute_reply": "2025-08-16T08:53:13.557863Z",
     "shell.execute_reply.started": "2025-08-16T08:53:13.553118Z"
    }
   },
   "outputs": [
    {
     "data": {
      "text/plain": [
       "Index(['mid_price', 'bid_price1', 'bid_volume1', 'bid_price2', 'bid_volume2',\n",
       "       'bid_price3', 'bid_volume3', 'bid_price4', 'bid_volume4', 'bid_price5',\n",
       "       'bid_volume5', 'ask_price1', 'ask_volume1', 'ask_price2', 'ask_volume2',\n",
       "       'ask_price3', 'ask_volume3', 'ask_price4', 'ask_volume4', 'ask_price5',\n",
       "       'ask_volume5', 'log_return', 'rolling_vol_BTC', 'wap1_BTC', 'wap2_BTC',\n",
       "       'wap3_BTC', 'wap4_BTC', 'wap5_BTC', 'obi_BTC', 'parkinson_vol_btc',\n",
       "       'garman_klass_vol_btc', 'yang_zhang_vol_btc', 'bollinger_bandwidth',\n",
       "       'garch_vol_btc', 'kalman_vol_btc'],\n",
       "      dtype='object')"
      ]
     },
     "execution_count": 29,
     "metadata": {},
     "output_type": "execute_result"
    }
   ],
   "source": [
    "BTC_train_filled.columns"
   ]
  },
  {
   "cell_type": "code",
   "execution_count": 28,
   "metadata": {
    "execution": {
     "iopub.execute_input": "2025-08-16T08:22:09.946050Z",
     "iopub.status.busy": "2025-08-16T08:22:09.945443Z",
     "iopub.status.idle": "2025-08-16T08:53:01.437460Z",
     "shell.execute_reply": "2025-08-16T08:53:01.436651Z",
     "shell.execute_reply.started": "2025-08-16T08:22:09.946027Z"
    }
   },
   "outputs": [
    {
     "name": "stdout",
     "output_type": "stream",
     "text": [
      "Adding GARCH & Kalman features for eth...\n",
      "GARCH & Kalman features added.\n",
      "ETH\n",
      "Adding GARCH & Kalman features for btc...\n"
     ]
    },
    {
     "name": "stderr",
     "output_type": "stream",
     "text": [
      "/usr/local/lib/python3.11/dist-packages/arch/univariate/base.py:309: DataScaleWarning: y is poorly scaled, which may affect convergence of the optimizer when\n",
      "estimating the model parameters. The scale of y is 4.457e-05. Parameter\n",
      "estimation work better when this value is between 1 and 1000. The recommended\n",
      "rescaling is 100 * y.\n",
      "\n",
      "This warning can be disabled by either rescaling y before initializing the\n",
      "model or by setting rescale=False.\n",
      "\n",
      "  warnings.warn(\n",
      "/usr/local/lib/python3.11/dist-packages/arch/univariate/base.py:768: ConvergenceWarning: The optimizer returned code 4. The message is:\n",
      "Inequality constraints incompatible\n",
      "See scipy.optimize.fmin_slsqp for code meaning.\n",
      "\n",
      "  warnings.warn(\n"
     ]
    },
    {
     "name": "stdout",
     "output_type": "stream",
     "text": [
      "GARCH & Kalman features added.\n",
      "BTC\n",
      "Adding GARCH & Kalman features for doge...\n"
     ]
    },
    {
     "name": "stderr",
     "output_type": "stream",
     "text": [
      "/usr/local/lib/python3.11/dist-packages/arch/univariate/base.py:309: DataScaleWarning: y is poorly scaled, which may affect convergence of the optimizer when\n",
      "estimating the model parameters. The scale of y is 0.0002443. Parameter\n",
      "estimation work better when this value is between 1 and 1000. The recommended\n",
      "rescaling is 100 * y.\n",
      "\n",
      "This warning can be disabled by either rescaling y before initializing the\n",
      "model or by setting rescale=False.\n",
      "\n",
      "  warnings.warn(\n",
      "/usr/local/lib/python3.11/dist-packages/arch/univariate/base.py:768: ConvergenceWarning: The optimizer returned code 4. The message is:\n",
      "Inequality constraints incompatible\n",
      "See scipy.optimize.fmin_slsqp for code meaning.\n",
      "\n",
      "  warnings.warn(\n"
     ]
    },
    {
     "name": "stdout",
     "output_type": "stream",
     "text": [
      "GARCH & Kalman features added.\n",
      "DOGE\n",
      "Adding GARCH & Kalman features for dot...\n"
     ]
    },
    {
     "name": "stderr",
     "output_type": "stream",
     "text": [
      "/usr/local/lib/python3.11/dist-packages/arch/univariate/base.py:309: DataScaleWarning: y is poorly scaled, which may affect convergence of the optimizer when\n",
      "estimating the model parameters. The scale of y is 0.0001523. Parameter\n",
      "estimation work better when this value is between 1 and 1000. The recommended\n",
      "rescaling is 100 * y.\n",
      "\n",
      "This warning can be disabled by either rescaling y before initializing the\n",
      "model or by setting rescale=False.\n",
      "\n",
      "  warnings.warn(\n",
      "/usr/local/lib/python3.11/dist-packages/arch/univariate/base.py:768: ConvergenceWarning: The optimizer returned code 4. The message is:\n",
      "Inequality constraints incompatible\n",
      "See scipy.optimize.fmin_slsqp for code meaning.\n",
      "\n",
      "  warnings.warn(\n"
     ]
    },
    {
     "name": "stdout",
     "output_type": "stream",
     "text": [
      "GARCH & Kalman features added.\n",
      "DOT\n",
      "Adding GARCH & Kalman features for shib...\n"
     ]
    },
    {
     "name": "stderr",
     "output_type": "stream",
     "text": [
      "/usr/local/lib/python3.11/dist-packages/arch/univariate/base.py:309: DataScaleWarning: y is poorly scaled, which may affect convergence of the optimizer when\n",
      "estimating the model parameters. The scale of y is 0.0005235. Parameter\n",
      "estimation work better when this value is between 1 and 1000. The recommended\n",
      "rescaling is 100 * y.\n",
      "\n",
      "This warning can be disabled by either rescaling y before initializing the\n",
      "model or by setting rescale=False.\n",
      "\n",
      "  warnings.warn(\n",
      "/usr/local/lib/python3.11/dist-packages/arch/univariate/base.py:768: ConvergenceWarning: The optimizer returned code 4. The message is:\n",
      "Inequality constraints incompatible\n",
      "See scipy.optimize.fmin_slsqp for code meaning.\n",
      "\n",
      "  warnings.warn(\n"
     ]
    },
    {
     "name": "stdout",
     "output_type": "stream",
     "text": [
      "GARCH & Kalman features added.\n",
      "SHIB\n",
      "Adding GARCH & Kalman features for sol...\n"
     ]
    },
    {
     "name": "stderr",
     "output_type": "stream",
     "text": [
      "/usr/local/lib/python3.11/dist-packages/arch/univariate/base.py:309: DataScaleWarning: y is poorly scaled, which may affect convergence of the optimizer when\n",
      "estimating the model parameters. The scale of y is 0.0001264. Parameter\n",
      "estimation work better when this value is between 1 and 1000. The recommended\n",
      "rescaling is 100 * y.\n",
      "\n",
      "This warning can be disabled by either rescaling y before initializing the\n",
      "model or by setting rescale=False.\n",
      "\n",
      "  warnings.warn(\n",
      "/usr/local/lib/python3.11/dist-packages/arch/univariate/base.py:768: ConvergenceWarning: The optimizer returned code 4. The message is:\n",
      "Inequality constraints incompatible\n",
      "See scipy.optimize.fmin_slsqp for code meaning.\n",
      "\n",
      "  warnings.warn(\n"
     ]
    },
    {
     "name": "stdout",
     "output_type": "stream",
     "text": [
      "GARCH & Kalman features added.\n",
      "SOL\n"
     ]
    }
   ],
   "source": [
    "assets = ['ETH','BTC','DOGE','DOT','SHIB','SOL']\n",
    "for asset in assets : \n",
    "    df_train = globals()[f\"{asset}_train_filled\"]\n",
    "    df_test =  globals()[f\"{asset}_test_filled\"]\n",
    "    df_train_ad, df_test_ad = add_advanced_vol_features(df_train, df_test, asset.lower())\n",
    "    globals()[f\"{asset}_train_set\"] = df_train_ad\n",
    "    globals()[f\"{asset}_test_set\"] = df_test_ad\n",
    "    print(asset)"
   ]
  },
  {
   "cell_type": "code",
   "execution_count": 34,
   "metadata": {
    "execution": {
     "iopub.execute_input": "2025-08-16T08:56:20.153485Z",
     "iopub.status.busy": "2025-08-16T08:56:20.153231Z",
     "iopub.status.idle": "2025-08-16T08:56:24.462774Z",
     "shell.execute_reply": "2025-08-16T08:56:24.462159Z",
     "shell.execute_reply.started": "2025-08-16T08:56:20.153466Z"
    }
   },
   "outputs": [
    {
     "name": "stdout",
     "output_type": "stream",
     "text": [
      "Starting to merge cross-asset features...\n",
      "-> Merged features from BTC\n",
      "-> Merged features from DOGE\n",
      "-> Merged features from DOT\n",
      "-> Merged features from LINK\n",
      "-> Merged features from SHIB\n",
      "-> Merged features from SOL\n",
      "\n",
      " All cross-asset features have been merged.\n",
      "\n",
      "--- Final Training Set Preview ---\n"
     ]
    },
    {
     "data": {
      "text/html": [
       "<div>\n",
       "<style scoped>\n",
       "    .dataframe tbody tr th:only-of-type {\n",
       "        vertical-align: middle;\n",
       "    }\n",
       "\n",
       "    .dataframe tbody tr th {\n",
       "        vertical-align: top;\n",
       "    }\n",
       "\n",
       "    .dataframe thead th {\n",
       "        text-align: right;\n",
       "    }\n",
       "</style>\n",
       "<table border=\"1\" class=\"dataframe\">\n",
       "  <thead>\n",
       "    <tr style=\"text-align: right;\">\n",
       "      <th></th>\n",
       "      <th>label</th>\n",
       "      <th>btc_mid_price</th>\n",
       "      <th>sol_rolling_vol</th>\n",
       "      <th>doge_kalman_vol</th>\n",
       "    </tr>\n",
       "  </thead>\n",
       "  <tbody>\n",
       "    <tr>\n",
       "      <th>2024-09-25 18:13:28</th>\n",
       "      <td>0.000060</td>\n",
       "      <td>63225.45</td>\n",
       "      <td>0.000107</td>\n",
       "      <td>0.000056</td>\n",
       "    </tr>\n",
       "    <tr>\n",
       "      <th>2024-09-25 18:13:29</th>\n",
       "      <td>0.000057</td>\n",
       "      <td>63225.45</td>\n",
       "      <td>0.000107</td>\n",
       "      <td>0.000054</td>\n",
       "    </tr>\n",
       "    <tr>\n",
       "      <th>2024-09-25 18:13:30</th>\n",
       "      <td>0.000080</td>\n",
       "      <td>63225.45</td>\n",
       "      <td>0.000107</td>\n",
       "      <td>0.000051</td>\n",
       "    </tr>\n",
       "    <tr>\n",
       "      <th>2024-09-25 18:13:31</th>\n",
       "      <td>0.000087</td>\n",
       "      <td>63225.45</td>\n",
       "      <td>0.000107</td>\n",
       "      <td>0.000056</td>\n",
       "    </tr>\n",
       "    <tr>\n",
       "      <th>2024-09-25 18:13:32</th>\n",
       "      <td>0.000090</td>\n",
       "      <td>63225.45</td>\n",
       "      <td>0.000107</td>\n",
       "      <td>0.000053</td>\n",
       "    </tr>\n",
       "  </tbody>\n",
       "</table>\n",
       "</div>"
      ],
      "text/plain": [
       "                        label  btc_mid_price  sol_rolling_vol  doge_kalman_vol\n",
       "2024-09-25 18:13:28  0.000060       63225.45         0.000107         0.000056\n",
       "2024-09-25 18:13:29  0.000057       63225.45         0.000107         0.000054\n",
       "2024-09-25 18:13:30  0.000080       63225.45         0.000107         0.000051\n",
       "2024-09-25 18:13:31  0.000087       63225.45         0.000107         0.000056\n",
       "2024-09-25 18:13:32  0.000090       63225.45         0.000107         0.000053"
      ]
     },
     "metadata": {},
     "output_type": "display_data"
    }
   ],
   "source": [
    "test = pd.read_csv(\"/kaggle/input/gq-dataset/test/ETH.csv\")\n",
    "test['timestamp'] = pd.to_datetime(test['timestamp'], format='%d-%m-%Y %H:%M')\n",
    "test['seconds_to_add'] = test.groupby('timestamp').cumcount()\n",
    "test['new_timestamp'] = test['timestamp'] + pd.to_timedelta(test['seconds_to_add'], unit='s')\n",
    "test.drop(columns = ['timestamp','seconds_to_add'],inplace =True)\n",
    "test.rename(columns = {'new_timestamp':'timestamp'},inplace=True)\n",
    "\n",
    "test = test.set_index('timestamp')\n",
    "original_submission_index = test.index\n",
    "\n",
    "\n",
    "#Merging all the cross-asset train sets into ETH_train set\n",
    "\n",
    "train_set_final = ETH_train_set.copy()\n",
    "test_set_final = ETH_test_set.copy()\n",
    "\n",
    "cross_assets = ['BTC', 'DOGE', 'DOT', 'LINK', 'SHIB', 'SOL']\n",
    "\n",
    "print(\"Starting to merge cross-asset features...\")\n",
    "for asset in cross_assets:\n",
    "    asset_lower = asset.lower()\n",
    "    \n",
    "    # Get the source train and test DataFrames\n",
    "    train_df_source = globals()[f\"{asset}_train_set\"]\n",
    "    test_df_source = globals()[f\"{asset}_test_set\"]\n",
    "    \n",
    "    # Define the columns to select and how to rename them\n",
    "    features_to_rename = {\n",
    "        'mid_price': f'{asset_lower}_mid_price',\n",
    "        f'rolling_vol_{asset}': f'{asset_lower}_rolling_vol',\n",
    "        f'garch_vol_{asset_lower}': f'{asset_lower}_garch_vol',\n",
    "        f'kalman_vol_{asset_lower}': f'{asset_lower}_kalman_vol',\n",
    "        f'parkinson_vol_{asset_lower}': f'{asset_lower}_parkinson_vol',\n",
    "        f'garman_klass_vol_{asset_lower}': f'{asset_lower}_garman_klass_vol',\n",
    "        f'yang_zhang_vol_{asset_lower}': f'{asset_lower}_yang_zhang_vol'\n",
    "    }\n",
    "    \n",
    "    # Select and rename features\n",
    "    train_features = train_df_source[list(features_to_rename.keys())].rename(columns=features_to_rename)\n",
    "    test_features = test_df_source[list(features_to_rename.keys())].rename(columns=features_to_rename)\n",
    "    \n",
    "    \n",
    "    train_set_final = train_set_final.merge(train_features, left_index=True, right_index=True, how='left')\n",
    "    test_set_final = test_set_final.merge(test_features, left_index=True, right_index=True, how='left')\n",
    "    \n",
    "    print(f\"-> Merged features from {asset}\")\n",
    "\n",
    "# Final cleanup of NaNs created during merges \n",
    "train_set_final.ffill(inplace=True)\n",
    "train_set_final.bfill(inplace=True)\n",
    "test_set_final.ffill(inplace=True)\n",
    "test_set_final.bfill(inplace=True)\n",
    "\n",
    "print(\"\\n All cross-asset features have been merged.\")\n",
    "\n",
    "#  Verify the final result \n",
    "print(\"\\n--- Final Training Set Preview ---\")\n",
    "display(train_set_final[['label', 'btc_mid_price', 'sol_rolling_vol', 'doge_kalman_vol']].head())"
   ]
  },
  {
   "cell_type": "code",
   "execution_count": 36,
   "metadata": {
    "execution": {
     "iopub.execute_input": "2025-08-16T08:56:46.095370Z",
     "iopub.status.busy": "2025-08-16T08:56:46.094705Z",
     "iopub.status.idle": "2025-08-16T08:56:51.444484Z",
     "shell.execute_reply": "2025-08-16T08:56:51.443686Z",
     "shell.execute_reply.started": "2025-08-16T08:56:46.095345Z"
    }
   },
   "outputs": [
    {
     "name": "stdout",
     "output_type": "stream",
     "text": [
      "Creating 1 PCA features from 4 columns...\n",
      "Explained variance by 1 components: 77.52%\n",
      "Creating 1 PCA features from 6 columns...\n",
      "Explained variance by 1 components: 67.85%\n",
      "Creating 1 PCA features from 4 columns...\n",
      "Explained variance by 1 components: 92.06%\n",
      "BTC\n",
      "Creating 1 PCA features from 4 columns...\n",
      "Explained variance by 1 components: 88.93%\n",
      "DOGE\n",
      "Creating 1 PCA features from 4 columns...\n",
      "Explained variance by 1 components: 87.59%\n",
      "DOT\n",
      "Creating 1 PCA features from 4 columns...\n",
      "Explained variance by 1 components: 93.79%\n",
      "LINK\n",
      "Creating 1 PCA features from 4 columns...\n",
      "Explained variance by 1 components: 88.99%\n",
      "SHIB\n",
      "Creating 1 PCA features from 4 columns...\n",
      "Explained variance by 1 components: 91.82%\n",
      "SOL\n",
      "Creating 1 PCA features from 6 columns...\n",
      "Explained variance by 1 components: 74.48%\n"
     ]
    }
   ],
   "source": [
    "\n",
    "#Features which have high correlation \n",
    "eth_vol_features = [\n",
    "    'rolling_vol_ETH', \n",
    "    'parkinson_vol_eth', \n",
    "    'garman_klass_vol_eth', \n",
    "    'yang_zhang_vol_eth'\n",
    "]\n",
    "# garch_forecast = ['doge_garch_vol','dot_garch_vol','link_garch_vol','shib_garch_vol','sol_garch_vol']\n",
    "kalman_forecast = ['btc_kalman_vol','doge_kalman_vol','dot_kalman_vol','link_kalman_vol','shib_kalman_vol','sol_kalman_vol']\n",
    "price_features = ['mid_price','btc_mid_price','doge_mid_price','dot_mid_price','link_mid_price','shib_mid_price','sol_mid_price',]\n",
    "\n",
    "vol_features = ['btc_vol_pca_1',\n",
    "       'doge_vol_pca_1', 'dot_vol_pca_1', 'link_vol_pca_1', 'shib_vol_pca_1',\n",
    "       'sol_vol_pca_1']\n",
    "train_set_final, test_set_final = create_pca_features(\n",
    "    train_set_final, \n",
    "    test_set_final, \n",
    "    columns_to_combine=eth_vol_features,\n",
    "    n_components=1, \n",
    "    prefix='eth_vol_pca'\n",
    ")\n",
    "train_set_final, test_set_final = create_pca_features(\n",
    "    train_set_final, \n",
    "    test_set_final, \n",
    "    columns_to_combine=kalman_forecast,\n",
    "    n_components=1, \n",
    "    prefix='cross_asset_kalman_forecast_pca'\n",
    ")\n",
    "for asset in cross_assets:\n",
    "    asset_low = asset.lower()\n",
    "    vol_features = [f'{asset_low}_parkinson_vol',\n",
    "       f'{asset_low}_garman_klass_vol', f'{asset_low}_yang_zhang_vol',f'{asset_low}_rolling_vol']\n",
    "    train_set_final, test_set_final = create_pca_features(\n",
    "    train_set_final, \n",
    "    test_set_final, \n",
    "    columns_to_combine=vol_features,\n",
    "    n_components=1,\n",
    "    prefix=f'{asset_low}_vol_pca'\n",
    "                    )\n",
    "    print(asset)\n",
    "vol_features = ['btc_vol_pca_1',\n",
    "       'doge_vol_pca_1', 'dot_vol_pca_1', 'link_vol_pca_1', 'shib_vol_pca_1',\n",
    "       'sol_vol_pca_1']\n",
    "train_set_final, test_set_final = create_pca_features(\n",
    "    train_set_final, \n",
    "    test_set_final, \n",
    "    columns_to_combine=vol_features,\n",
    "    n_components=1, \n",
    "    prefix='cross_asset_vol_pca'\n",
    ")"
   ]
  },
  {
   "cell_type": "code",
   "execution_count": 37,
   "metadata": {
    "execution": {
     "iopub.execute_input": "2025-08-16T08:56:54.454089Z",
     "iopub.status.busy": "2025-08-16T08:56:54.453356Z",
     "iopub.status.idle": "2025-08-16T08:57:18.974275Z",
     "shell.execute_reply": "2025-08-16T08:57:18.973354Z",
     "shell.execute_reply.started": "2025-08-16T08:56:54.454059Z"
    }
   },
   "outputs": [
    {
     "name": "stdout",
     "output_type": "stream",
     "text": [
      "Training final XGBoost model on all available training data...\n",
      " Final model training complete.\n",
      "\n",
      "--- Final Submission File Preview ---\n"
     ]
    },
    {
     "name": "stderr",
     "output_type": "stream",
     "text": [
      "/tmp/ipykernel_36/2096526129.py:32: FutureWarning: DataFrame.fillna with 'method' is deprecated and will raise in a future version. Use obj.ffill() or obj.bfill() instead.\n",
      "  predictions_filled = predictions_reindexed.fillna(method='bfill').fillna(method='ffill')\n"
     ]
    },
    {
     "data": {
      "text/html": [
       "<div>\n",
       "<style scoped>\n",
       "    .dataframe tbody tr th:only-of-type {\n",
       "        vertical-align: middle;\n",
       "    }\n",
       "\n",
       "    .dataframe tbody tr th {\n",
       "        vertical-align: top;\n",
       "    }\n",
       "\n",
       "    .dataframe thead th {\n",
       "        text-align: right;\n",
       "    }\n",
       "</style>\n",
       "<table border=\"1\" class=\"dataframe\">\n",
       "  <thead>\n",
       "    <tr style=\"text-align: right;\">\n",
       "      <th></th>\n",
       "      <th>timestamp</th>\n",
       "      <th>labels</th>\n",
       "    </tr>\n",
       "  </thead>\n",
       "  <tbody>\n",
       "    <tr>\n",
       "      <th>0</th>\n",
       "      <td>1</td>\n",
       "      <td>0.000051</td>\n",
       "    </tr>\n",
       "    <tr>\n",
       "      <th>1</th>\n",
       "      <td>2</td>\n",
       "      <td>0.000051</td>\n",
       "    </tr>\n",
       "    <tr>\n",
       "      <th>2</th>\n",
       "      <td>3</td>\n",
       "      <td>0.000062</td>\n",
       "    </tr>\n",
       "    <tr>\n",
       "      <th>3</th>\n",
       "      <td>4</td>\n",
       "      <td>0.000065</td>\n",
       "    </tr>\n",
       "    <tr>\n",
       "      <th>4</th>\n",
       "      <td>5</td>\n",
       "      <td>0.000073</td>\n",
       "    </tr>\n",
       "  </tbody>\n",
       "</table>\n",
       "</div>"
      ],
      "text/plain": [
       "   timestamp    labels\n",
       "0          1  0.000051\n",
       "1          2  0.000051\n",
       "2          3  0.000062\n",
       "3          4  0.000065\n",
       "4          5  0.000073"
      ]
     },
     "metadata": {},
     "output_type": "display_data"
    }
   ],
   "source": [
    "features =  ['eth_vol_pca_1','cross_asset_vol_pca_1',\n",
    "            'spline_feature','cross_asset_kalman_forecast_pca_1','kalman_vol_eth',\n",
    "            'garch_vol_eth','bollinger_bandwidth']\n",
    "\n",
    "X_train_full = train_set_final[features].fillna(0)\n",
    "y_train_full = train_set_final['label'].fillna(0)\n",
    "\n",
    "# The test set for prediction\n",
    "X_test_final = test_set_final[features].fillna(0)\n",
    "\n",
    "#  Initialize and Train the Final XGBoost Model \n",
    "final_xgb_model = xgb.XGBRegressor(\n",
    "    objective='reg:squarederror',\n",
    "    n_estimators=5000, # A reasonable number of trees\n",
    "    learning_rate=0.01,\n",
    "    max_depth=5,\n",
    "    subsample=0.8,\n",
    "    colsample_bytree=0.8,\n",
    "    n_jobs=-1,\n",
    "    random_state=42\n",
    ")\n",
    "\n",
    "print(\"Training final XGBoost model on all available training data...\")\n",
    "final_xgb_model.fit(X_train_full, y_train_full, verbose=False)\n",
    "print(\" Final model training complete.\")\n",
    "\n",
    "# Make Predictions on the Test Set \n",
    "all_predictions = final_xgb_model.predict(X_test_final)\n",
    "predictions_df = pd.DataFrame(data=all_predictions, index=X_test_final.index, columns=['labels'])\n",
    "# Filter Predictions to Match Original Timestamps \n",
    "predictions_reindexed = predictions_df.reindex(original_submission_index)\n",
    "predictions_filled = predictions_reindexed.fillna(method='bfill').fillna(method='ffill')\n",
    "\n",
    "submission_df = pd.DataFrame({\n",
    "    'timestamp': np.arange(len(predictions_filled)) + 1,\n",
    "    'labels': predictions_filled['labels'].values\n",
    "})\n",
    "\n",
    "print(\"\\n--- Final Submission File Preview ---\")\n",
    "display(submission_df.head())\n"
   ]
  },
  {
   "cell_type": "code",
   "execution_count": 38,
   "metadata": {
    "execution": {
     "iopub.execute_input": "2025-08-16T08:58:02.962371Z",
     "iopub.status.busy": "2025-08-16T08:58:02.961900Z",
     "iopub.status.idle": "2025-08-16T08:58:03.357027Z",
     "shell.execute_reply": "2025-08-16T08:58:03.356417Z",
     "shell.execute_reply.started": "2025-08-16T08:58:02.962348Z"
    }
   },
   "outputs": [],
   "source": [
    "submission_df.to_csv('submission.csv', index=False)"
   ]
  },
  {
   "cell_type": "markdown",
   "metadata": {},
   "source": [
    "# Trading Strategy\n",
    "\n",
    "## The IV-OFI Volatility Breakout Strategy\n",
    "\n",
    "We will use predicted 10s ahead IV as volatility breakout signal in market and `Order Flow Imbalance` as the entry or exit direction indicator.\n",
    "\n",
    "1.  **Volatility**: A sudden spike in our predicted IV tells us the market is about to experience a significant repricing event. We're not reacting to volatility that has already happened; we're positioning for volatility we expect is about to happen. To quantify a \"spike,\" we'll use a rolling Z-score of our IV predictions. A high Z-score signals an unusual event.\n",
    "2.  **Order Flow Imbalance**: is the net change in aggressive buying and selling pressure at the top of the order book. The  formula is:$\n",
    "\\text{OFI}_t = \\Delta V^{\\text{bid}}_t - \\Delta V^{\\text{ask}}_t\n",
    "$ where\n",
    "$$\n",
    "\\Delta V^{\\text{bid}}_t =\n",
    "\\begin{cases}\n",
    "V^{\\text{bid}}_t & \\text{if } P^{\\text{bid}}_t > P^{\\text{bid}}_{t-1} \\\\\n",
    "V^{\\text{bid}}_t - V^{\\text{bid}}_{t-1} & \\text{if } P^{\\text{bid}}_t = P^{\\text{bid}}_{t-1} \\\\\n",
    "- V^{\\text{bid}}_{t-1} & \\text{if } P^{\\text{bid}}_t < P^{\\text{bid}}_{t-1}\n",
    "\\end{cases}\n",
    "$$\n",
    "\n",
    "- $P^{\\text{bid}}_t$ is the best bid price at time $t$.\n",
    "- $V^{\\text{bid}}_t$ is the volume at the best bid price at time $t$.\n",
    "$$\n",
    "\\Delta V^{\\text{ask}}_t =\n",
    "\\begin{cases}\n",
    "V^{\\text{ask}}_t & \\text{if } P^{\\text{ask}}_t < P^{\\text{ask}}_{t-1} \\\\\n",
    "V^{\\text{ask}}_t - V^{\\text{ask}}_{t-1} & \\text{if } P^{\\text{ask}}_t = P^{\\text{ask}}_{t-1} \\\\\n",
    "- V^{\\text{ask}}_{t-1} & \\text{if } P^{\\text{ask}}_t > P^{\\text{ask}}_{t-1}\n",
    "\\end{cases}\n",
    "$$\n",
    "\n",
    "- $P^{\\text{ask}}_t$ is the best ask price at time $t$.\n",
    "- $V^{\\text{ask}}_t$ is the volume at the best ask price at time $t$.\n",
    "\n",
    "3. **Interpretation**: Although IV will predict a volatility breakout regime, but it alone can't predict the direction of the market. So for the direction we need OFI, a positive OFI indicates net buying pressure. More aggressive buyers are entering the market (placing higher bids or consuming ask-side liquidity) than aggressive sellers. This suggests an upward pressure on price. Whereas a negative OFI indicates net selling pressure. More aggressive sellers are active (placing lower asks or consuming bid-side liquidity) than aggressive buyers. This suggests a downward pressure on price. We will use `OFI_SMA_5s` for smoother signals and `zscore_IV_1hr` i.e. rolling 1 hour zscore of IV.\n",
    "\n",
    "## Entry and Exit Logic \n",
    "### Entry Logic : \n",
    "\n",
    "When `zscore_IV_1hr` $> x $ **AND** \n",
    "\n",
    "    *  Long Entry if `OFI_SMA_5s` is strongly positive, confirming immediate buying pressure.\n",
    "    *  Short Entry if `OFI_SMA_5s` is strongly negative, confirming immediate selling pressure.\n",
    "\n",
    "Here $x$ can be any predefined constant like $2,3,...$ which can vary from market to market.\n",
    "\n",
    "### Exit Logic:\n",
    "There can be multiple exit strategies :\n",
    "1. If `zscore_IV_1hr` $<x $\n",
    "2. If `OFI_SMA_5s` changes its sign or becomes strongly negative/positive.\n",
    "3. A hard stop at a 0.5% loss to manage risk. Also exit any trade that hasn't hit a profit or stop loss after 5 minutes. Breakout trades should work quickly or not at all."
   ]
  }
 ],
 "metadata": {
  "kaggle": {
   "accelerator": "nvidiaTeslaT4",
   "dataSources": [
    {
     "datasetId": 8043068,
     "sourceId": 12725099,
     "sourceType": "datasetVersion"
    }
   ],
   "dockerImageVersionId": 31089,
   "isGpuEnabled": true,
   "isInternetEnabled": true,
   "language": "python",
   "sourceType": "notebook"
  },
  "kernelspec": {
   "display_name": "Python 3 (ipykernel)",
   "language": "python",
   "name": "python3"
  },
  "language_info": {
   "codemirror_mode": {
    "name": "ipython",
    "version": 3
   },
   "file_extension": ".py",
   "mimetype": "text/x-python",
   "name": "python",
   "nbconvert_exporter": "python",
   "pygments_lexer": "ipython3",
   "version": "3.11.5"
  }
 },
 "nbformat": 4,
 "nbformat_minor": 4
}
